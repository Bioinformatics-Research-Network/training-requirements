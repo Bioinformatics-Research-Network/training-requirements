{
 "cells": [
  {
   "cell_type": "code",
   "execution_count": 59,
   "metadata": {},
   "outputs": [
    {
     "name": "stdout",
     "output_type": "stream",
     "text": [
      "pandas is already installed.\n",
      "matplotlib is already installed.\n",
      "plotly is already installed.\n",
      "scipy is already installed.\n",
      "All packages are installed and imported successfully.\n"
     ]
    }
   ],
   "source": [
    "# Checks if the required packages are installed, and install them if they are not:\n",
    "    \n",
    "import subprocess\n",
    "import sys\n",
    "\n",
    "# List of packages to check and install if necessary\n",
    "required_packages = [\n",
    "    'pandas',\n",
    "    'matplotlib',\n",
    "    'plotly',\n",
    "    'scipy'\n",
    "]\n",
    "\n",
    "def install(package):\n",
    "    subprocess.check_call([sys.executable, \"-m\", \"pip\", \"install\", package])\n",
    "\n",
    "# Check and install packages\n",
    "for package in required_packages:\n",
    "    try:\n",
    "        __import__(package)\n",
    "        print(f'{package} is already installed.')\n",
    "    except ImportError:\n",
    "        print(f'{package} is not installed. Installing...')\n",
    "        install(package)\n",
    "\n",
    "# Import the packages after ensuring they are installed\n",
    "import pandas as pd\n",
    "import matplotlib.pyplot as plt\n",
    "import plotly.express as px\n",
    "from scipy.stats import f_oneway, ttest_ind, pearsonr\n",
    "\n",
    "print(\"All packages are installed and imported successfully.\")"
   ]
  },
  {
   "cell_type": "markdown",
   "metadata": {},
   "source": [
    "**To complete the miniproject, create an analysis in `jupyter-notebook` which does the following:**"
   ]
  },
  {
   "cell_type": "code",
   "execution_count": 60,
   "metadata": {},
   "outputs": [
    {
     "data": {
      "text/html": [
       "<div>\n",
       "<style scoped>\n",
       "    .dataframe tbody tr th:only-of-type {\n",
       "        vertical-align: middle;\n",
       "    }\n",
       "\n",
       "    .dataframe tbody tr th {\n",
       "        vertical-align: top;\n",
       "    }\n",
       "\n",
       "    .dataframe thead th {\n",
       "        text-align: right;\n",
       "    }\n",
       "</style>\n",
       "<table border=\"1\" class=\"dataframe\">\n",
       "  <thead>\n",
       "    <tr style=\"text-align: right;\">\n",
       "      <th></th>\n",
       "      <th>Unnamed: 0</th>\n",
       "      <th>Country Name</th>\n",
       "      <th>Year</th>\n",
       "      <th>Agriculture, value added (% of GDP)</th>\n",
       "      <th>CO2 emissions (metric tons per capita)</th>\n",
       "      <th>Domestic credit provided by financial sector (% of GDP)</th>\n",
       "      <th>Electric power consumption (kWh per capita)</th>\n",
       "      <th>Energy use (kg of oil equivalent per capita)</th>\n",
       "      <th>Exports of goods and services (% of GDP)</th>\n",
       "      <th>Fertility rate, total (births per woman)</th>\n",
       "      <th>GDP growth (annual %)</th>\n",
       "      <th>Imports of goods and services (% of GDP)</th>\n",
       "      <th>Industry, value added (% of GDP)</th>\n",
       "      <th>Inflation, GDP deflator (annual %)</th>\n",
       "      <th>Life expectancy at birth, total (years)</th>\n",
       "      <th>Population density (people per sq. km of land area)</th>\n",
       "      <th>Services, etc., value added (% of GDP)</th>\n",
       "      <th>pop</th>\n",
       "      <th>continent</th>\n",
       "      <th>gdpPercap</th>\n",
       "    </tr>\n",
       "  </thead>\n",
       "  <tbody>\n",
       "    <tr>\n",
       "      <th>0</th>\n",
       "      <td>0</td>\n",
       "      <td>Afghanistan</td>\n",
       "      <td>1962</td>\n",
       "      <td>NaN</td>\n",
       "      <td>0.073781</td>\n",
       "      <td>21.276422</td>\n",
       "      <td>NaN</td>\n",
       "      <td>NaN</td>\n",
       "      <td>4.878051</td>\n",
       "      <td>7.450</td>\n",
       "      <td>NaN</td>\n",
       "      <td>9.349593</td>\n",
       "      <td>NaN</td>\n",
       "      <td>NaN</td>\n",
       "      <td>33.219902</td>\n",
       "      <td>14.312061</td>\n",
       "      <td>NaN</td>\n",
       "      <td>10267083.0</td>\n",
       "      <td>Asia</td>\n",
       "      <td>853.100710</td>\n",
       "    </tr>\n",
       "    <tr>\n",
       "      <th>1</th>\n",
       "      <td>1</td>\n",
       "      <td>Afghanistan</td>\n",
       "      <td>1967</td>\n",
       "      <td>NaN</td>\n",
       "      <td>0.123782</td>\n",
       "      <td>9.917662</td>\n",
       "      <td>NaN</td>\n",
       "      <td>NaN</td>\n",
       "      <td>6.772908</td>\n",
       "      <td>7.450</td>\n",
       "      <td>NaN</td>\n",
       "      <td>14.209827</td>\n",
       "      <td>NaN</td>\n",
       "      <td>NaN</td>\n",
       "      <td>35.389415</td>\n",
       "      <td>15.881812</td>\n",
       "      <td>NaN</td>\n",
       "      <td>11537966.0</td>\n",
       "      <td>Asia</td>\n",
       "      <td>836.197138</td>\n",
       "    </tr>\n",
       "    <tr>\n",
       "      <th>2</th>\n",
       "      <td>2</td>\n",
       "      <td>Afghanistan</td>\n",
       "      <td>1972</td>\n",
       "      <td>NaN</td>\n",
       "      <td>0.130820</td>\n",
       "      <td>18.880833</td>\n",
       "      <td>NaN</td>\n",
       "      <td>NaN</td>\n",
       "      <td>14.763231</td>\n",
       "      <td>7.450</td>\n",
       "      <td>NaN</td>\n",
       "      <td>18.105850</td>\n",
       "      <td>NaN</td>\n",
       "      <td>NaN</td>\n",
       "      <td>37.610146</td>\n",
       "      <td>17.947027</td>\n",
       "      <td>NaN</td>\n",
       "      <td>13079460.0</td>\n",
       "      <td>Asia</td>\n",
       "      <td>739.981106</td>\n",
       "    </tr>\n",
       "    <tr>\n",
       "      <th>3</th>\n",
       "      <td>3</td>\n",
       "      <td>Afghanistan</td>\n",
       "      <td>1977</td>\n",
       "      <td>NaN</td>\n",
       "      <td>0.183118</td>\n",
       "      <td>13.836822</td>\n",
       "      <td>NaN</td>\n",
       "      <td>NaN</td>\n",
       "      <td>11.662904</td>\n",
       "      <td>7.449</td>\n",
       "      <td>NaN</td>\n",
       "      <td>14.823175</td>\n",
       "      <td>NaN</td>\n",
       "      <td>NaN</td>\n",
       "      <td>40.110146</td>\n",
       "      <td>19.998926</td>\n",
       "      <td>NaN</td>\n",
       "      <td>14880372.0</td>\n",
       "      <td>Asia</td>\n",
       "      <td>786.113360</td>\n",
       "    </tr>\n",
       "    <tr>\n",
       "      <th>4</th>\n",
       "      <td>4</td>\n",
       "      <td>Afghanistan</td>\n",
       "      <td>1982</td>\n",
       "      <td>NaN</td>\n",
       "      <td>0.165879</td>\n",
       "      <td>NaN</td>\n",
       "      <td>NaN</td>\n",
       "      <td>NaN</td>\n",
       "      <td>NaN</td>\n",
       "      <td>7.450</td>\n",
       "      <td>NaN</td>\n",
       "      <td>NaN</td>\n",
       "      <td>NaN</td>\n",
       "      <td>NaN</td>\n",
       "      <td>43.230732</td>\n",
       "      <td>19.402324</td>\n",
       "      <td>NaN</td>\n",
       "      <td>12881816.0</td>\n",
       "      <td>Asia</td>\n",
       "      <td>978.011439</td>\n",
       "    </tr>\n",
       "  </tbody>\n",
       "</table>\n",
       "</div>"
      ],
      "text/plain": [
       "   Unnamed: 0 Country Name  Year  Agriculture, value added (% of GDP)  \\\n",
       "0           0  Afghanistan  1962                                  NaN   \n",
       "1           1  Afghanistan  1967                                  NaN   \n",
       "2           2  Afghanistan  1972                                  NaN   \n",
       "3           3  Afghanistan  1977                                  NaN   \n",
       "4           4  Afghanistan  1982                                  NaN   \n",
       "\n",
       "   CO2 emissions (metric tons per capita)  \\\n",
       "0                                0.073781   \n",
       "1                                0.123782   \n",
       "2                                0.130820   \n",
       "3                                0.183118   \n",
       "4                                0.165879   \n",
       "\n",
       "   Domestic credit provided by financial sector (% of GDP)  \\\n",
       "0                                          21.276422         \n",
       "1                                           9.917662         \n",
       "2                                          18.880833         \n",
       "3                                          13.836822         \n",
       "4                                                NaN         \n",
       "\n",
       "   Electric power consumption (kWh per capita)  \\\n",
       "0                                          NaN   \n",
       "1                                          NaN   \n",
       "2                                          NaN   \n",
       "3                                          NaN   \n",
       "4                                          NaN   \n",
       "\n",
       "   Energy use (kg of oil equivalent per capita)  \\\n",
       "0                                           NaN   \n",
       "1                                           NaN   \n",
       "2                                           NaN   \n",
       "3                                           NaN   \n",
       "4                                           NaN   \n",
       "\n",
       "   Exports of goods and services (% of GDP)  \\\n",
       "0                                  4.878051   \n",
       "1                                  6.772908   \n",
       "2                                 14.763231   \n",
       "3                                 11.662904   \n",
       "4                                       NaN   \n",
       "\n",
       "   Fertility rate, total (births per woman)  GDP growth (annual %)  \\\n",
       "0                                     7.450                    NaN   \n",
       "1                                     7.450                    NaN   \n",
       "2                                     7.450                    NaN   \n",
       "3                                     7.449                    NaN   \n",
       "4                                     7.450                    NaN   \n",
       "\n",
       "   Imports of goods and services (% of GDP)  Industry, value added (% of GDP)  \\\n",
       "0                                  9.349593                               NaN   \n",
       "1                                 14.209827                               NaN   \n",
       "2                                 18.105850                               NaN   \n",
       "3                                 14.823175                               NaN   \n",
       "4                                       NaN                               NaN   \n",
       "\n",
       "   Inflation, GDP deflator (annual %)  \\\n",
       "0                                 NaN   \n",
       "1                                 NaN   \n",
       "2                                 NaN   \n",
       "3                                 NaN   \n",
       "4                                 NaN   \n",
       "\n",
       "   Life expectancy at birth, total (years)  \\\n",
       "0                                33.219902   \n",
       "1                                35.389415   \n",
       "2                                37.610146   \n",
       "3                                40.110146   \n",
       "4                                43.230732   \n",
       "\n",
       "   Population density (people per sq. km of land area)  \\\n",
       "0                                          14.312061     \n",
       "1                                          15.881812     \n",
       "2                                          17.947027     \n",
       "3                                          19.998926     \n",
       "4                                          19.402324     \n",
       "\n",
       "   Services, etc., value added (% of GDP)         pop continent   gdpPercap  \n",
       "0                                     NaN  10267083.0      Asia  853.100710  \n",
       "1                                     NaN  11537966.0      Asia  836.197138  \n",
       "2                                     NaN  13079460.0      Asia  739.981106  \n",
       "3                                     NaN  14880372.0      Asia  786.113360  \n",
       "4                                     NaN  12881816.0      Asia  978.011439  "
      ]
     },
     "execution_count": 60,
     "metadata": {},
     "output_type": "execute_result"
    }
   ],
   "source": [
    "# 1-Read in the gapminder_clean.csv data as a pandas DataFrame.\n",
    "\n",
    "import pandas as pd\n",
    "\n",
    "# Load the gapminder_clean.csv dataset\n",
    "file_path = r'C:\\Users\\abdoj\\OneDrive - UGent\\Desktop\\summer\\skill-assessments\\Python for Data Science\\gapminder_clean.csv'\n",
    "gapminder_df = pd.read_csv(file_path)\n",
    "\n",
    "\n",
    "# Display the first few rows of the dataset to understand its structure\n",
    "gapminder_df.head()"
   ]
  },
  {
   "cell_type": "code",
   "execution_count": 61,
   "metadata": {},
   "outputs": [
    {
     "data": {
      "text/html": [
       "<div>\n",
       "<style scoped>\n",
       "    .dataframe tbody tr th:only-of-type {\n",
       "        vertical-align: middle;\n",
       "    }\n",
       "\n",
       "    .dataframe tbody tr th {\n",
       "        vertical-align: top;\n",
       "    }\n",
       "\n",
       "    .dataframe thead th {\n",
       "        text-align: right;\n",
       "    }\n",
       "</style>\n",
       "<table border=\"1\" class=\"dataframe\">\n",
       "  <thead>\n",
       "    <tr style=\"text-align: right;\">\n",
       "      <th></th>\n",
       "      <th>Unnamed: 0</th>\n",
       "      <th>Country Name</th>\n",
       "      <th>Year</th>\n",
       "      <th>Agriculture, value added (% of GDP)</th>\n",
       "      <th>CO2 emissions (metric tons per capita)</th>\n",
       "      <th>Domestic credit provided by financial sector (% of GDP)</th>\n",
       "      <th>Electric power consumption (kWh per capita)</th>\n",
       "      <th>Energy use (kg of oil equivalent per capita)</th>\n",
       "      <th>Exports of goods and services (% of GDP)</th>\n",
       "      <th>Fertility rate, total (births per woman)</th>\n",
       "      <th>GDP growth (annual %)</th>\n",
       "      <th>Imports of goods and services (% of GDP)</th>\n",
       "      <th>Industry, value added (% of GDP)</th>\n",
       "      <th>Inflation, GDP deflator (annual %)</th>\n",
       "      <th>Life expectancy at birth, total (years)</th>\n",
       "      <th>Population density (people per sq. km of land area)</th>\n",
       "      <th>Services, etc., value added (% of GDP)</th>\n",
       "      <th>pop</th>\n",
       "      <th>continent</th>\n",
       "      <th>gdpPercap</th>\n",
       "    </tr>\n",
       "  </thead>\n",
       "  <tbody>\n",
       "    <tr>\n",
       "      <th>0</th>\n",
       "      <td>0</td>\n",
       "      <td>Afghanistan</td>\n",
       "      <td>1962</td>\n",
       "      <td>NaN</td>\n",
       "      <td>0.073781</td>\n",
       "      <td>21.276422</td>\n",
       "      <td>NaN</td>\n",
       "      <td>NaN</td>\n",
       "      <td>4.878051</td>\n",
       "      <td>7.450</td>\n",
       "      <td>NaN</td>\n",
       "      <td>9.349593</td>\n",
       "      <td>NaN</td>\n",
       "      <td>NaN</td>\n",
       "      <td>33.219902</td>\n",
       "      <td>14.312061</td>\n",
       "      <td>NaN</td>\n",
       "      <td>10267083.0</td>\n",
       "      <td>Asia</td>\n",
       "      <td>853.100710</td>\n",
       "    </tr>\n",
       "    <tr>\n",
       "      <th>10</th>\n",
       "      <td>10</td>\n",
       "      <td>Albania</td>\n",
       "      <td>1962</td>\n",
       "      <td>NaN</td>\n",
       "      <td>1.439956</td>\n",
       "      <td>NaN</td>\n",
       "      <td>NaN</td>\n",
       "      <td>NaN</td>\n",
       "      <td>NaN</td>\n",
       "      <td>6.282</td>\n",
       "      <td>NaN</td>\n",
       "      <td>NaN</td>\n",
       "      <td>NaN</td>\n",
       "      <td>NaN</td>\n",
       "      <td>64.162854</td>\n",
       "      <td>62.456898</td>\n",
       "      <td>NaN</td>\n",
       "      <td>1728137.0</td>\n",
       "      <td>Europe</td>\n",
       "      <td>2312.888958</td>\n",
       "    </tr>\n",
       "    <tr>\n",
       "      <th>20</th>\n",
       "      <td>20</td>\n",
       "      <td>Algeria</td>\n",
       "      <td>1962</td>\n",
       "      <td>NaN</td>\n",
       "      <td>0.484954</td>\n",
       "      <td>NaN</td>\n",
       "      <td>NaN</td>\n",
       "      <td>NaN</td>\n",
       "      <td>19.793873</td>\n",
       "      <td>7.614</td>\n",
       "      <td>-19.685042</td>\n",
       "      <td>20.818647</td>\n",
       "      <td>NaN</td>\n",
       "      <td>2.351279</td>\n",
       "      <td>47.045000</td>\n",
       "      <td>4.908240</td>\n",
       "      <td>NaN</td>\n",
       "      <td>11000948.0</td>\n",
       "      <td>Africa</td>\n",
       "      <td>2550.816880</td>\n",
       "    </tr>\n",
       "    <tr>\n",
       "      <th>30</th>\n",
       "      <td>30</td>\n",
       "      <td>American Samoa</td>\n",
       "      <td>1962</td>\n",
       "      <td>NaN</td>\n",
       "      <td>NaN</td>\n",
       "      <td>NaN</td>\n",
       "      <td>NaN</td>\n",
       "      <td>NaN</td>\n",
       "      <td>NaN</td>\n",
       "      <td>NaN</td>\n",
       "      <td>NaN</td>\n",
       "      <td>NaN</td>\n",
       "      <td>NaN</td>\n",
       "      <td>NaN</td>\n",
       "      <td>NaN</td>\n",
       "      <td>105.590000</td>\n",
       "      <td>NaN</td>\n",
       "      <td>NaN</td>\n",
       "      <td>NaN</td>\n",
       "      <td>NaN</td>\n",
       "    </tr>\n",
       "    <tr>\n",
       "      <th>40</th>\n",
       "      <td>40</td>\n",
       "      <td>Andorra</td>\n",
       "      <td>1962</td>\n",
       "      <td>NaN</td>\n",
       "      <td>NaN</td>\n",
       "      <td>NaN</td>\n",
       "      <td>NaN</td>\n",
       "      <td>NaN</td>\n",
       "      <td>NaN</td>\n",
       "      <td>NaN</td>\n",
       "      <td>NaN</td>\n",
       "      <td>NaN</td>\n",
       "      <td>NaN</td>\n",
       "      <td>NaN</td>\n",
       "      <td>NaN</td>\n",
       "      <td>32.714894</td>\n",
       "      <td>NaN</td>\n",
       "      <td>NaN</td>\n",
       "      <td>NaN</td>\n",
       "      <td>NaN</td>\n",
       "    </tr>\n",
       "  </tbody>\n",
       "</table>\n",
       "</div>"
      ],
      "text/plain": [
       "    Unnamed: 0    Country Name  Year  Agriculture, value added (% of GDP)  \\\n",
       "0            0     Afghanistan  1962                                  NaN   \n",
       "10          10         Albania  1962                                  NaN   \n",
       "20          20         Algeria  1962                                  NaN   \n",
       "30          30  American Samoa  1962                                  NaN   \n",
       "40          40         Andorra  1962                                  NaN   \n",
       "\n",
       "    CO2 emissions (metric tons per capita)  \\\n",
       "0                                 0.073781   \n",
       "10                                1.439956   \n",
       "20                                0.484954   \n",
       "30                                     NaN   \n",
       "40                                     NaN   \n",
       "\n",
       "    Domestic credit provided by financial sector (% of GDP)  \\\n",
       "0                                           21.276422         \n",
       "10                                                NaN         \n",
       "20                                                NaN         \n",
       "30                                                NaN         \n",
       "40                                                NaN         \n",
       "\n",
       "    Electric power consumption (kWh per capita)  \\\n",
       "0                                           NaN   \n",
       "10                                          NaN   \n",
       "20                                          NaN   \n",
       "30                                          NaN   \n",
       "40                                          NaN   \n",
       "\n",
       "    Energy use (kg of oil equivalent per capita)  \\\n",
       "0                                            NaN   \n",
       "10                                           NaN   \n",
       "20                                           NaN   \n",
       "30                                           NaN   \n",
       "40                                           NaN   \n",
       "\n",
       "    Exports of goods and services (% of GDP)  \\\n",
       "0                                   4.878051   \n",
       "10                                       NaN   \n",
       "20                                 19.793873   \n",
       "30                                       NaN   \n",
       "40                                       NaN   \n",
       "\n",
       "    Fertility rate, total (births per woman)  GDP growth (annual %)  \\\n",
       "0                                      7.450                    NaN   \n",
       "10                                     6.282                    NaN   \n",
       "20                                     7.614             -19.685042   \n",
       "30                                       NaN                    NaN   \n",
       "40                                       NaN                    NaN   \n",
       "\n",
       "    Imports of goods and services (% of GDP)  \\\n",
       "0                                   9.349593   \n",
       "10                                       NaN   \n",
       "20                                 20.818647   \n",
       "30                                       NaN   \n",
       "40                                       NaN   \n",
       "\n",
       "    Industry, value added (% of GDP)  Inflation, GDP deflator (annual %)  \\\n",
       "0                                NaN                                 NaN   \n",
       "10                               NaN                                 NaN   \n",
       "20                               NaN                            2.351279   \n",
       "30                               NaN                                 NaN   \n",
       "40                               NaN                                 NaN   \n",
       "\n",
       "    Life expectancy at birth, total (years)  \\\n",
       "0                                 33.219902   \n",
       "10                                64.162854   \n",
       "20                                47.045000   \n",
       "30                                      NaN   \n",
       "40                                      NaN   \n",
       "\n",
       "    Population density (people per sq. km of land area)  \\\n",
       "0                                           14.312061     \n",
       "10                                          62.456898     \n",
       "20                                           4.908240     \n",
       "30                                         105.590000     \n",
       "40                                          32.714894     \n",
       "\n",
       "    Services, etc., value added (% of GDP)         pop continent    gdpPercap  \n",
       "0                                      NaN  10267083.0      Asia   853.100710  \n",
       "10                                     NaN   1728137.0    Europe  2312.888958  \n",
       "20                                     NaN  11000948.0    Africa  2550.816880  \n",
       "30                                     NaN         NaN       NaN          NaN  \n",
       "40                                     NaN         NaN       NaN          NaN  "
      ]
     },
     "execution_count": 61,
     "metadata": {},
     "output_type": "execute_result"
    }
   ],
   "source": [
    "# 2- Filter the data to include only rows where Year is 1962.\n",
    "\n",
    "import matplotlib.pyplot as plt\n",
    "\n",
    "# Filter data for the year 1962\n",
    "data_1962 = gapminder_df[gapminder_df['Year'] == 1962]\n",
    "\n",
    "data_1962.head()\n"
   ]
  },
  {
   "cell_type": "code",
   "execution_count": 62,
   "metadata": {},
   "outputs": [
    {
     "data": {
      "image/png": "[encoded data removed]",
      "text/plain": [
       "<Figure size 1000x600 with 1 Axes>"
      ]
     },
     "metadata": {},
     "output_type": "display_data"
    }
   ],
   "source": [
    "# Make a scatter plot comparing 'CO2 emissions (metric tons per capita)' and gdpPercap for the filtered data.\n",
    "\n",
    "import matplotlib.pyplot as plt\n",
    "\n",
    "# Filter the data to include only rows where Year is 1962\n",
    "data_1962 = gapminder_df[gapminder_df['Year'] == 1962]\n",
    "\n",
    "# Create a scatter plot\n",
    "plt.figure(figsize=(10, 6))\n",
    "plt.scatter(data_1962['CO2 emissions (metric tons per capita)'], data_1962['gdpPercap'], alpha=0.7)\n",
    "plt.title('CO2 Emissions vs GDP per Capita (1962)')\n",
    "plt.xlabel('CO2 Emissions (metric tons per capita)')\n",
    "plt.ylabel('GDP per Capita')\n",
    "plt.grid(True)\n",
    "\n",
    "# Save the plot\n",
    "plot_path = r'C:\\Users\\abdoj\\OneDrive - UGent\\Desktop\\summer\\skill-assessments\\Python for Data Science\\co2_vs_gdp_1962.png'\n",
    "plt.savefig(plot_path)\n",
    "\n",
    "# Show the plot\n",
    "plt.show()"
   ]
  },
  {
   "cell_type": "code",
   "execution_count": 63,
   "metadata": {},
   "outputs": [
    {
     "data": {
      "text/plain": [
       "(0.9260816725019472, 1.1286792210038658e-46)"
      ]
     },
     "execution_count": 63,
     "metadata": {},
     "output_type": "execute_result"
    }
   ],
   "source": [
    "#3- Calculate the correlation of 'CO2 emissions (metric tons per capita)' and gdpPercap for the year 1962.\n",
    "\n",
    "from scipy.stats import pearsonr\n",
    "\n",
    "# Drop rows with missing values in the relevant columns\n",
    "filtered_data_1962 = data_1962.dropna(subset=['CO2 emissions (metric tons per capita)', 'gdpPercap'])\n",
    "\n",
    "# Calculate the correlation and the p-value\n",
    "correlation, p_value = pearsonr(filtered_data_1962['CO2 emissions (metric tons per capita)'], filtered_data_1962['gdpPercap'])\n",
    "\n",
    "correlation, p_value\n"
   ]
  },
  {
   "cell_type": "markdown",
   "metadata": {},
   "source": [
    "The correlation between CO2 emissions (metric tons per capita) and GDP per capita for the year 1962 is approximately (0.926). The associated p-value is 1.128 x 10^-46, indicating a very strong and statistically significant positive correlation between these two variables."
   ]
  },
  {
   "cell_type": "code",
   "execution_count": 64,
   "metadata": {},
   "outputs": [
    {
     "data": {
      "text/plain": [
       "(1967, 0.938791838506331)"
      ]
     },
     "execution_count": 64,
     "metadata": {},
     "output_type": "execute_result"
    }
   ],
   "source": [
    "#4- Determine the year in which the correlation between 'CO2 emissions (metric tons per capita)' and gdpPercap is the strongest.\n",
    "\n",
    "# Create a function to calculate the correlation for each year, handling missing data\n",
    "def calculate_correlation(df):\n",
    "    df_clean = df.dropna(subset=['CO2 emissions (metric tons per capita)', 'gdpPercap'])\n",
    "    if df_clean.shape[0] > 1:  # Ensure there are at least 2 data points to calculate correlation\n",
    "        return pearsonr(df_clean['CO2 emissions (metric tons per capita)'], df_clean['gdpPercap'])[0]\n",
    "    else:\n",
    "        return None\n",
    "\n",
    "# Apply the function to each year and find the year with the strongest correlation\n",
    "correlations_by_year = gapminder_df.groupby('Year').apply(calculate_correlation)\n",
    "\n",
    "# Find the year with the strongest correlation\n",
    "strongest_correlation_year = correlations_by_year.idxmax()\n",
    "strongest_correlation = correlations_by_year.max()\n",
    "\n",
    "strongest_correlation_year, strongest_correlation\n",
    "\n"
   ]
  },
  {
   "cell_type": "markdown",
   "metadata": {},
   "source": [
    "The year with the strongest correlation between 'CO2 emissions (metric tons per capita)' and 'gdpPercap' is 1967, with a correlation coefficient of approximately 0.939."
   ]
  },
  {
   "cell_type": "code",
   "execution_count": 65,
   "metadata": {},
   "outputs": [
    {
     "data": {
      "text/plain": [
       "(0.938791838506331,\n",
       " 1967,\n",
       "     Unnamed: 0    Country Name  Year  Agriculture, value added (% of GDP)  \\\n",
       " 1            1     Afghanistan  1967                                  NaN   \n",
       " 11          11         Albania  1967                                  NaN   \n",
       " 21          21         Algeria  1967                            10.330666   \n",
       " 31          31  American Samoa  1967                                  NaN   \n",
       " 41          41         Andorra  1967                                  NaN   \n",
       " \n",
       "     CO2 emissions (metric tons per capita)  \\\n",
       " 1                                 0.123782   \n",
       " 11                                1.363746   \n",
       " 21                                0.632118   \n",
       " 31                                     NaN   \n",
       " 41                                     NaN   \n",
       " \n",
       "     Domestic credit provided by financial sector (% of GDP)  \\\n",
       " 1                                            9.917662         \n",
       " 11                                                NaN         \n",
       " 21                                          27.977088         \n",
       " 31                                                NaN         \n",
       " 41                                                NaN         \n",
       " \n",
       "     Electric power consumption (kWh per capita)  \\\n",
       " 1                                           NaN   \n",
       " 11                                          NaN   \n",
       " 21                                          NaN   \n",
       " 31                                          NaN   \n",
       " 41                                          NaN   \n",
       " \n",
       "     Energy use (kg of oil equivalent per capita)  \\\n",
       " 1                                            NaN   \n",
       " 11                                           NaN   \n",
       " 21                                           NaN   \n",
       " 31                                           NaN   \n",
       " 41                                           NaN   \n",
       " \n",
       "     Exports of goods and services (% of GDP)  \\\n",
       " 1                                   6.772908   \n",
       " 11                                       NaN   \n",
       " 21                                 23.434417   \n",
       " 31                                       NaN   \n",
       " 41                                       NaN   \n",
       " \n",
       "     Fertility rate, total (births per woman)  GDP growth (annual %)  \\\n",
       " 1                                      7.450                    NaN   \n",
       " 11                                     5.394                    NaN   \n",
       " 21                                     7.672               9.452963   \n",
       " 31                                       NaN                    NaN   \n",
       " 41                                       NaN                    NaN   \n",
       " \n",
       "     Imports of goods and services (% of GDP)  \\\n",
       " 1                                  14.209827   \n",
       " 11                                       NaN   \n",
       " 21                                 21.631769   \n",
       " 31                                       NaN   \n",
       " 41                                       NaN   \n",
       " \n",
       "     Industry, value added (% of GDP)  Inflation, GDP deflator (annual %)  \\\n",
       " 1                                NaN                                 NaN   \n",
       " 11                               NaN                                 NaN   \n",
       " 21                         42.385889                            1.312041   \n",
       " 31                               NaN                                 NaN   \n",
       " 41                               NaN                                 NaN   \n",
       " \n",
       "     Life expectancy at birth, total (years)  \\\n",
       " 1                                 35.389415   \n",
       " 11                                66.287220   \n",
       " 21                                49.187512   \n",
       " 31                                      NaN   \n",
       " 41                                      NaN   \n",
       " \n",
       "     Population density (people per sq. km of land area)  \\\n",
       " 1                                           15.881812     \n",
       " 11                                          71.737153     \n",
       " 21                                           5.606908     \n",
       " 31                                         125.580000     \n",
       " 41                                          44.159574     \n",
       " \n",
       "     Services, etc., value added (% of GDP)         pop continent    gdpPercap  \n",
       " 1                                      NaN  11537966.0      Asia   836.197138  \n",
       " 11                                     NaN   1984060.0    Europe  2760.196931  \n",
       " 21                                47.28345  12760499.0    Africa  3246.991771  \n",
       " 31                                     NaN         NaN       NaN          NaN  \n",
       " 41                                     NaN         NaN       NaN          NaN  )"
      ]
     },
     "execution_count": 65,
     "metadata": {},
     "output_type": "execute_result"
    }
   ],
   "source": [
    "# Filter the dataset to the year with the strongest correlation\n",
    "strongest_year_data = gapminder_df[gapminder_df['Year'] == year_of_strongest_correlation]\n",
    "\n",
    "strongest_correlation, year_of_strongest_correlation, strongest_year_data.head()\n"
   ]
  },
  {
   "cell_type": "code",
   "execution_count": 66,
   "metadata": {},
   "outputs": [
    {
     "data": {
      "application/vnd.plotly.v1+json": {
       "config": {
        "plotlyServerURL": "https://plot.ly"
       },
       "data": [
        {
         "hovertemplate": "<b>%{hovertext}</b><br><br>continent=Asia<br>GDP per Capita=%{x}<br>CO2 Emissions (metric tons per capita)=%{y}<br>pop=%{marker.size}<extra></extra>",
         "hovertext": [
          "Afghanistan",
          "Bahrain",
          "Bangladesh",
          "Cambodia",
          "China",
          "India",
          "Indonesia",
          "Iraq",
          "Israel",
          "Japan",
          "Jordan",
          "Kuwait",
          "Lebanon",
          "Malaysia",
          "Mongolia",
          "Myanmar",
          "Nepal",
          "Oman",
          "Pakistan",
          "Philippines",
          "Saudi Arabia",
          "Singapore",
          "Sri Lanka",
          "Thailand",
          "Vietnam"
         ],
         "legendgroup": "Asia",
         "marker": {
          "color": "#636efa",
          "size": [
           11537966,
           202182,
           62821884,
           6960067,
           754550000,
           506000000,
           109343000,
           8519282,
           2693585,
           100825279,
           1255058,
           575003,
           2186894,
           10154878,
           1149500,
           25870271,
           11261690,
           714775,
           60641899,
           35356600,
           5618198,
           1977600,
           11737396,
           34024249,
           39463910
          ],
          "sizemode": "area",
          "sizeref": 209597.22222222222,
          "symbol": "circle"
         },
         "mode": "markers",
         "name": "Asia",
         "orientation": "v",
         "showlegend": true,
         "type": "scatter",
         "x": [
          836.1971382,
          14804.6727,
          721.1860862000001,
          523.4323142,
          612.7056934,
          700.7706107000001,
          762.4317721,
          8931.459811,
          8393.741404,
          9847.788607,
          2741.796252,
          80894.88326,
          6006.983042,
          2277.742396,
          1226.04113,
          349,
          676.4422254,
          4720.942687,
          942.4082588,
          1814.12743,
          16903.04886,
          4977.41854,
          1135.514326,
          1295.46066,
          637.1232887
         ],
         "xaxis": "x",
         "y": [
          0.123782381421,
          5.12101242081,
          null,
          0.0624360387486,
          0.574162146975,
          0.331763432432,
          0.23191547809,
          2.05575631533,
          4.93341748634,
          4.86355784562,
          1.0719834839700002,
          43.4283027016,
          1.64225486815,
          null,
          1.83477215037,
          0.143519517019,
          0.0188098863912,
          0.205537806177,
          0.402522332305,
          0.555413076261,
          4.90876421118,
          1.54645934466,
          0.25192412202,
          0.360202673298,
          0.574906353177
         ],
         "yaxis": "y"
        },
        {
         "hovertemplate": "<b>%{hovertext}</b><br><br>continent=Europe<br>GDP per Capita=%{x}<br>CO2 Emissions (metric tons per capita)=%{y}<br>pop=%{marker.size}<extra></extra>",
         "hovertext": [
          "Albania",
          "Austria",
          "Belgium",
          "Bosnia and Herzegovina",
          "Bulgaria",
          "Croatia",
          "Czech Republic",
          "Denmark",
          "Finland",
          "France",
          "Germany",
          "Greece",
          "Hungary",
          "Iceland",
          "Ireland",
          "Italy",
          "Montenegro",
          "Netherlands",
          "Norway",
          "Poland",
          "Portugal",
          "Romania",
          "Serbia",
          "Slovak Republic",
          "Slovenia",
          "Spain",
          "Sweden",
          "Switzerland",
          "Turkey",
          "United Kingdom"
         ],
         "legendgroup": "Europe",
         "marker": {
          "color": "#EF553B",
          "size": [
           1984060,
           7376998,
           9556500,
           3585000,
           8310226,
           4174366,
           9835109,
           4838800,
           4605744,
           49569000,
           76368453,
           8716441,
           10223422,
           198676,
           2900100,
           52667100,
           501035,
           12596822,
           3786019,
           31785378,
           9103000,
           19284814,
           7971222,
           4442238,
           1646912,
           32850275,
           7867931,
           6063000,
           33411317,
           54959000
          ],
          "sizemode": "area",
          "sizeref": 209597.22222222222,
          "symbol": "circle"
         },
         "mode": "markers",
         "name": "Europe",
         "orientation": "v",
         "showlegend": true,
         "type": "scatter",
         "x": [
          2760.196931,
          12834.6024,
          13149.04119,
          2172.3524230000003,
          5577.0028,
          6960.297861,
          11399.44489,
          15937.21123,
          10921.63626,
          12999.91766,
          14745.62561,
          8513.097016,
          9326.64467,
          13319.89568,
          7655.568963,
          10022.40131,
          5907.850937,
          15363.25136,
          16361.87647,
          6557.152776,
          6361.517993,
          6470.866545,
          7991.707066,
          8412.902397,
          9405.489397,
          7993.512294,
          15258.29697,
          22966.14432,
          2826.3563870000003,
          14142.85089
         ],
         "xaxis": "x",
         "y": [
          1.36374630011,
          5.41773672705,
          11.2172567535,
          null,
          6.63836916108,
          null,
          null,
          10.1493005476,
          6.21338658857,
          7.3064221599,
          null,
          2.24941398567,
          5.758242269149999,
          7.269387323839999,
          5.65504728764,
          4.43148255688,
          null,
          8.47605463669,
          5.1072949704,
          8.105834013680001,
          1.39828723131,
          4.71631855487,
          null,
          null,
          null,
          2.64722755876,
          8.770023402589999,
          5.43460087436,
          1.03313907211,
          10.7841045545
         ],
         "yaxis": "y"
        },
        {
         "hovertemplate": "<b>%{hovertext}</b><br><br>continent=Africa<br>GDP per Capita=%{x}<br>CO2 Emissions (metric tons per capita)=%{y}<br>pop=%{marker.size}<extra></extra>",
         "hovertext": [
          "Algeria",
          "Angola",
          "Benin",
          "Botswana",
          "Burkina Faso",
          "Burundi",
          "Cameroon",
          "Central African Republic",
          "Chad",
          "Comoros",
          "Cote d'Ivoire",
          "Djibouti",
          "Equatorial Guinea",
          "Eritrea",
          "Ethiopia",
          "Gabon",
          "Ghana",
          "Guinea",
          "Guinea-Bissau",
          "Kenya",
          "Lesotho",
          "Liberia",
          "Libya",
          "Madagascar",
          "Malawi",
          "Mali",
          "Mauritania",
          "Mauritius",
          "Morocco",
          "Mozambique",
          "Namibia",
          "Niger",
          "Nigeria",
          "Rwanda",
          "Sao Tome and Principe",
          "Senegal",
          "Sierra Leone",
          "Somalia",
          "South Africa",
          "Sudan",
          "Swaziland",
          "Tanzania",
          "Togo",
          "Tunisia",
          "Uganda",
          "Zambia",
          "Zimbabwe"
         ],
         "legendgroup": "Africa",
         "marker": {
          "color": "#00cc96",
          "size": [
           12760499,
           5247469,
           2427334,
           553541,
           5127935,
           3330989,
           6335506,
           1733638,
           3495967,
           217378,
           4744870,
           127617,
           259864,
           1820319,
           27860297,
           489004,
           8490213,
           3451418,
           601287,
           10191512,
           996380,
           1279406,
           1759224,
           6334556,
           4147252,
           5212416,
           1230542,
           789309,
           14770296,
           8680909,
           706640,
           4534062,
           47287752,
           3451079,
           70787,
           3965841,
           2662190,
           3428839,
           20997321,
           12716129,
           420690,
           12607312,
           1735550,
           4786986,
           8900294,
           3900000,
           4995432
          ],
          "sizemode": "area",
          "sizeref": 209597.22222222222,
          "symbol": "circle"
         },
         "mode": "markers",
         "name": "Africa",
         "orientation": "v",
         "showlegend": true,
         "type": "scatter",
         "x": [
          3246.991771,
          5522.776375,
          1035.831411,
          1214.709294,
          794.8265597,
          412.97751360000007,
          1508.453148,
          1136.056615,
          1196.810565,
          1876.029643,
          2052.050473,
          3020.050513,
          915.5960025,
          468.7949699,
          516.1186438,
          8358.761987,
          1125.69716,
          708.7595409,
          715.5806402000001,
          1056.736457,
          498.6390265,
          713.6036482999999,
          18772.75169,
          1634.047282,
          495.5147806,
          545.0098873,
          1421.145193,
          2475.387562,
          1711.04477,
          566.6691539,
          3793.694753,
          1054.384891,
          1014.514104,
          510.9637142,
          1384.840593,
          1612.404632,
          1206.043465,
          1284.7331800000002,
          7114.477970999999,
          1687.997641,
          2613.101665,
          848.2186575,
          1477.59676,
          1932.3601670000005,
          908.9185217,
          1777.077318,
          569.7950712
         ],
         "xaxis": "x",
         "y": [
          0.632118426889,
          0.166658588848,
          0.0523195961148,
          null,
          0.0192168474009,
          0.0147354429891,
          0.0729810151442,
          0.0533441408437,
          0.0341490827003,
          0.0856623590204,
          0.324270273072,
          0.669756398256,
          0.0908814105401,
          null,
          0.0408827807982,
          1.82744493336,
          0.185683744295,
          0.180529006335,
          0.0707397168393,
          0.266146233454,
          null,
          0.465652918101,
          9.94130993774,
          0.138895338975,
          0.086039155676,
          0.0392007077217,
          0.188179057955,
          0.6361795955439999,
          0.3615857767970001,
          0.216165510896,
          null,
          0.0318543481335,
          0.244682890582,
          0.0118002652184999,
          0.1620797359809999,
          0.181319271624,
          0.105440879922,
          0.0704483235701,
          6.46564779364,
          0.250771072594,
          0.55253014742,
          0.141879278158,
          0.10672264605,
          0.638870927594,
          0.0944460734361,
          1.2636279603,
          1.12296052314
         ],
         "yaxis": "y"
        },
        {
         "hovertemplate": "<b>%{hovertext}</b><br><br>continent=Americas<br>GDP per Capita=%{x}<br>CO2 Emissions (metric tons per capita)=%{y}<br>pop=%{marker.size}<extra></extra>",
         "hovertext": [
          "Argentina",
          "Bolivia",
          "Brazil",
          "Canada",
          "Chile",
          "Colombia",
          "Costa Rica",
          "Cuba",
          "Dominican Republic",
          "Ecuador",
          "El Salvador",
          "Guatemala",
          "Haiti",
          "Honduras",
          "Jamaica",
          "Mexico",
          "Nicaragua",
          "Panama",
          "Paraguay",
          "Peru",
          "Puerto Rico",
          "Trinidad and Tobago",
          "United States",
          "Uruguay"
         ],
         "legendgroup": "Americas",
         "marker": {
          "color": "#FFA15A",
          "size": [
           22934225,
           4040665,
           88049823,
           20819767,
           8858908,
           19764027,
           1588717,
           8139332,
           4049146,
           5432424,
           3232927,
           4690773,
           4318137,
           2500689,
           1861096,
           47995559,
           1865490,
           1405486,
           2287985,
           12132200,
           2648961,
           960155,
           198712000,
           2748579
          ],
          "sizemode": "area",
          "sizeref": 209597.22222222222,
          "symbol": "circle"
         },
         "mode": "markers",
         "name": "Americas",
         "orientation": "v",
         "showlegend": true,
         "type": "scatter",
         "x": [
          8052.953020999999,
          2586.886053,
          3429.864357,
          16076.58803,
          5106.654313,
          2678.729839,
          4161.727834,
          5690.268015,
          1653.7230029999998,
          4579.074215,
          4358.595393,
          3242.531147,
          1452.057666,
          2538.269358,
          6124.703450999999,
          5754.733883,
          4643.393534000001,
          4421.009084,
          2299.376311,
          5788.09333,
          6929.277714,
          5621.368472,
          19530.36557,
          5444.61962
         ],
         "xaxis": "x",
         "y": [
          2.85816254619,
          0.446569679542,
          0.744966530874,
          13.8103545953,
          2.1409901271900003,
          1.21683476874,
          0.517145991263,
          1.90593276713,
          0.380469161164,
          0.465781970972,
          0.342459705043,
          0.397317380131,
          0.0585660070754,
          0.352498584235,
          2.14463346178,
          1.8996986330400003,
          0.493983688604,
          1.21812383412,
          0.213013396786,
          1.1118562074299998,
          null,
          5.00989828473,
          18.5983178822,
          1.77610139003
         ],
         "yaxis": "y"
        },
        {
         "hovertemplate": "<b>%{hovertext}</b><br><br>continent=Oceania<br>GDP per Capita=%{x}<br>CO2 Emissions (metric tons per capita)=%{y}<br>pop=%{marker.size}<extra></extra>",
         "hovertext": [
          "Australia",
          "New Zealand"
         ],
         "legendgroup": "Oceania",
         "marker": {
          "color": "#19d3f3",
          "size": [
           11872264,
           2728150
          ],
          "sizemode": "area",
          "sizeref": 209597.22222222222,
          "symbol": "circle"
         },
         "mode": "markers",
         "name": "Oceania",
         "orientation": "v",
         "showlegend": true,
         "type": "scatter",
         "x": [
          14526.12465,
          14463.918930000002
         ],
         "xaxis": "x",
         "y": [
          10.9556247987,
          5.00761352373
         ],
         "yaxis": "y"
        }
       ],
       "layout": {
        "legend": {
         "itemsizing": "constant",
         "title": {
          "text": "continent"
         },
         "tracegroupgap": 0
        },
        "template": {
         "data": {
          "bar": [
           {
            "error_x": {
             "color": "#2a3f5f"
            },
            "error_y": {
             "color": "#2a3f5f"
            },
            "marker": {
             "line": {
              "color": "#E5ECF6",
              "width": 0.5
             },
             "pattern": {
              "fillmode": "overlay",
              "size": 10,
              "solidity": 0.2
             }
            },
            "type": "bar"
           }
          ],
          "barpolar": [
           {
            "marker": {
             "line": {
              "color": "#E5ECF6",
              "width": 0.5
             },
             "pattern": {
              "fillmode": "overlay",
              "size": 10,
              "solidity": 0.2
             }
            },
            "type": "barpolar"
           }
          ],
          "carpet": [
           {
            "aaxis": {
             "endlinecolor": "#2a3f5f",
             "gridcolor": "white",
             "linecolor": "white",
             "minorgridcolor": "white",
             "startlinecolor": "#2a3f5f"
            },
            "baxis": {
             "endlinecolor": "#2a3f5f",
             "gridcolor": "white",
             "linecolor": "white",
             "minorgridcolor": "white",
             "startlinecolor": "#2a3f5f"
            },
            "type": "carpet"
           }
          ],
          "choropleth": [
           {
            "colorbar": {
             "outlinewidth": 0,
             "ticks": ""
            },
            "type": "choropleth"
           }
          ],
          "contour": [
           {
            "colorbar": {
             "outlinewidth": 0,
             "ticks": ""
            },
            "colorscale": [
             [
              0,
              "#0d0887"
             ],
             [
              0.1111111111111111,
              "#46039f"
             ],
             [
              0.2222222222222222,
              "#7201a8"
             ],
             [
              0.3333333333333333,
              "#9c179e"
             ],
             [
              0.4444444444444444,
              "#bd3786"
             ],
             [
              0.5555555555555556,
              "#d8576b"
             ],
             [
              0.6666666666666666,
              "#ed7953"
             ],
             [
              0.7777777777777778,
              "#fb9f3a"
             ],
             [
              0.8888888888888888,
              "#fdca26"
             ],
             [
              1,
              "#f0f921"
             ]
            ],
            "type": "contour"
           }
          ],
          "contourcarpet": [
           {
            "colorbar": {
             "outlinewidth": 0,
             "ticks": ""
            },
            "type": "contourcarpet"
           }
          ],
          "heatmap": [
           {
            "colorbar": {
             "outlinewidth": 0,
             "ticks": ""
            },
            "colorscale": [
             [
              0,
              "#0d0887"
             ],
             [
              0.1111111111111111,
              "#46039f"
             ],
             [
              0.2222222222222222,
              "#7201a8"
             ],
             [
              0.3333333333333333,
              "#9c179e"
             ],
             [
              0.4444444444444444,
              "#bd3786"
             ],
             [
              0.5555555555555556,
              "#d8576b"
             ],
             [
              0.6666666666666666,
              "#ed7953"
             ],
             [
              0.7777777777777778,
              "#fb9f3a"
             ],
             [
              0.8888888888888888,
              "#fdca26"
             ],
             [
              1,
              "#f0f921"
             ]
            ],
            "type": "heatmap"
           }
          ],
          "heatmapgl": [
           {
            "colorbar": {
             "outlinewidth": 0,
             "ticks": ""
            },
            "colorscale": [
             [
              0,
              "#0d0887"
             ],
             [
              0.1111111111111111,
              "#46039f"
             ],
             [
              0.2222222222222222,
              "#7201a8"
             ],
             [
              0.3333333333333333,
              "#9c179e"
             ],
             [
              0.4444444444444444,
              "#bd3786"
             ],
             [
              0.5555555555555556,
              "#d8576b"
             ],
             [
              0.6666666666666666,
              "#ed7953"
             ],
             [
              0.7777777777777778,
              "#fb9f3a"
             ],
             [
              0.8888888888888888,
              "#fdca26"
             ],
             [
              1,
              "#f0f921"
             ]
            ],
            "type": "heatmapgl"
           }
          ],
          "histogram": [
           {
            "marker": {
             "pattern": {
              "fillmode": "overlay",
              "size": 10,
              "solidity": 0.2
             }
            },
            "type": "histogram"
           }
          ],
          "histogram2d": [
           {
            "colorbar": {
             "outlinewidth": 0,
             "ticks": ""
            },
            "colorscale": [
             [
              0,
              "#0d0887"
             ],
             [
              0.1111111111111111,
              "#46039f"
             ],
             [
              0.2222222222222222,
              "#7201a8"
             ],
             [
              0.3333333333333333,
              "#9c179e"
             ],
             [
              0.4444444444444444,
              "#bd3786"
             ],
             [
              0.5555555555555556,
              "#d8576b"
             ],
             [
              0.6666666666666666,
              "#ed7953"
             ],
             [
              0.7777777777777778,
              "#fb9f3a"
             ],
             [
              0.8888888888888888,
              "#fdca26"
             ],
             [
              1,
              "#f0f921"
             ]
            ],
            "type": "histogram2d"
           }
          ],
          "histogram2dcontour": [
           {
            "colorbar": {
             "outlinewidth": 0,
             "ticks": ""
            },
            "colorscale": [
             [
              0,
              "#0d0887"
             ],
             [
              0.1111111111111111,
              "#46039f"
             ],
             [
              0.2222222222222222,
              "#7201a8"
             ],
             [
              0.3333333333333333,
              "#9c179e"
             ],
             [
              0.4444444444444444,
              "#bd3786"
             ],
             [
              0.5555555555555556,
              "#d8576b"
             ],
             [
              0.6666666666666666,
              "#ed7953"
             ],
             [
              0.7777777777777778,
              "#fb9f3a"
             ],
             [
              0.8888888888888888,
              "#fdca26"
             ],
             [
              1,
              "#f0f921"
             ]
            ],
            "type": "histogram2dcontour"
           }
          ],
          "mesh3d": [
           {
            "colorbar": {
             "outlinewidth": 0,
             "ticks": ""
            },
            "type": "mesh3d"
           }
          ],
          "parcoords": [
           {
            "line": {
             "colorbar": {
              "outlinewidth": 0,
              "ticks": ""
             }
            },
            "type": "parcoords"
           }
          ],
          "pie": [
           {
            "automargin": true,
            "type": "pie"
           }
          ],
          "scatter": [
           {
            "fillpattern": {
             "fillmode": "overlay",
             "size": 10,
             "solidity": 0.2
            },
            "type": "scatter"
           }
          ],
          "scatter3d": [
           {
            "line": {
             "colorbar": {
              "outlinewidth": 0,
              "ticks": ""
             }
            },
            "marker": {
             "colorbar": {
              "outlinewidth": 0,
              "ticks": ""
             }
            },
            "type": "scatter3d"
           }
          ],
          "scattercarpet": [
           {
            "marker": {
             "colorbar": {
              "outlinewidth": 0,
              "ticks": ""
             }
            },
            "type": "scattercarpet"
           }
          ],
          "scattergeo": [
           {
            "marker": {
             "colorbar": {
              "outlinewidth": 0,
              "ticks": ""
             }
            },
            "type": "scattergeo"
           }
          ],
          "scattergl": [
           {
            "marker": {
             "colorbar": {
              "outlinewidth": 0,
              "ticks": ""
             }
            },
            "type": "scattergl"
           }
          ],
          "scattermapbox": [
           {
            "marker": {
             "colorbar": {
              "outlinewidth": 0,
              "ticks": ""
             }
            },
            "type": "scattermapbox"
           }
          ],
          "scatterpolar": [
           {
            "marker": {
             "colorbar": {
              "outlinewidth": 0,
              "ticks": ""
             }
            },
            "type": "scatterpolar"
           }
          ],
          "scatterpolargl": [
           {
            "marker": {
             "colorbar": {
              "outlinewidth": 0,
              "ticks": ""
             }
            },
            "type": "scatterpolargl"
           }
          ],
          "scatterternary": [
           {
            "marker": {
             "colorbar": {
              "outlinewidth": 0,
              "ticks": ""
             }
            },
            "type": "scatterternary"
           }
          ],
          "surface": [
           {
            "colorbar": {
             "outlinewidth": 0,
             "ticks": ""
            },
            "colorscale": [
             [
              0,
              "#0d0887"
             ],
             [
              0.1111111111111111,
              "#46039f"
             ],
             [
              0.2222222222222222,
              "#7201a8"
             ],
             [
              0.3333333333333333,
              "#9c179e"
             ],
             [
              0.4444444444444444,
              "#bd3786"
             ],
             [
              0.5555555555555556,
              "#d8576b"
             ],
             [
              0.6666666666666666,
              "#ed7953"
             ],
             [
              0.7777777777777778,
              "#fb9f3a"
             ],
             [
              0.8888888888888888,
              "#fdca26"
             ],
             [
              1,
              "#f0f921"
             ]
            ],
            "type": "surface"
           }
          ],
          "table": [
           {
            "cells": {
             "fill": {
              "color": "#EBF0F8"
             },
             "line": {
              "color": "white"
             }
            },
            "header": {
             "fill": {
              "color": "#C8D4E3"
             },
             "line": {
              "color": "white"
             }
            },
            "type": "table"
           }
          ]
         },
         "layout": {
          "annotationdefaults": {
           "arrowcolor": "#2a3f5f",
           "arrowhead": 0,
           "arrowwidth": 1
          },
          "autotypenumbers": "strict",
          "coloraxis": {
           "colorbar": {
            "outlinewidth": 0,
            "ticks": ""
           }
          },
          "colorscale": {
           "diverging": [
            [
             0,
             "#8e0152"
            ],
            [
             0.1,
             "#c51b7d"
            ],
            [
             0.2,
             "#de77ae"
            ],
            [
             0.3,
             "#f1b6da"
            ],
            [
             0.4,
             "#fde0ef"
            ],
            [
             0.5,
             "#f7f7f7"
            ],
            [
             0.6,
             "#e6f5d0"
            ],
            [
             0.7,
             "#b8e186"
            ],
            [
             0.8,
             "#7fbc41"
            ],
            [
             0.9,
             "#4d9221"
            ],
            [
             1,
             "#276419"
            ]
           ],
           "sequential": [
            [
             0,
             "#0d0887"
            ],
            [
             0.1111111111111111,
             "#46039f"
            ],
            [
             0.2222222222222222,
             "#7201a8"
            ],
            [
             0.3333333333333333,
             "#9c179e"
            ],
            [
             0.4444444444444444,
             "#bd3786"
            ],
            [
             0.5555555555555556,
             "#d8576b"
            ],
            [
             0.6666666666666666,
             "#ed7953"
            ],
            [
             0.7777777777777778,
             "#fb9f3a"
            ],
            [
             0.8888888888888888,
             "#fdca26"
            ],
            [
             1,
             "#f0f921"
            ]
           ],
           "sequentialminus": [
            [
             0,
             "#0d0887"
            ],
            [
             0.1111111111111111,
             "#46039f"
            ],
            [
             0.2222222222222222,
             "#7201a8"
            ],
            [
             0.3333333333333333,
             "#9c179e"
            ],
            [
             0.4444444444444444,
             "#bd3786"
            ],
            [
             0.5555555555555556,
             "#d8576b"
            ],
            [
             0.6666666666666666,
             "#ed7953"
            ],
            [
             0.7777777777777778,
             "#fb9f3a"
            ],
            [
             0.8888888888888888,
             "#fdca26"
            ],
            [
             1,
             "#f0f921"
            ]
           ]
          },
          "colorway": [
           "#636efa",
           "#EF553B",
           "#00cc96",
           "#ab63fa",
           "#FFA15A",
           "#19d3f3",
           "#FF6692",
           "#B6E880",
           "#FF97FF",
           "#FECB52"
          ],
          "font": {
           "color": "#2a3f5f"
          },
          "geo": {
           "bgcolor": "white",
           "lakecolor": "white",
           "landcolor": "#E5ECF6",
           "showlakes": true,
           "showland": true,
           "subunitcolor": "white"
          },
          "hoverlabel": {
           "align": "left"
          },
          "hovermode": "closest",
          "mapbox": {
           "style": "light"
          },
          "paper_bgcolor": "white",
          "plot_bgcolor": "#E5ECF6",
          "polar": {
           "angularaxis": {
            "gridcolor": "white",
            "linecolor": "white",
            "ticks": ""
           },
           "bgcolor": "#E5ECF6",
           "radialaxis": {
            "gridcolor": "white",
            "linecolor": "white",
            "ticks": ""
           }
          },
          "scene": {
           "xaxis": {
            "backgroundcolor": "#E5ECF6",
            "gridcolor": "white",
            "gridwidth": 2,
            "linecolor": "white",
            "showbackground": true,
            "ticks": "",
            "zerolinecolor": "white"
           },
           "yaxis": {
            "backgroundcolor": "#E5ECF6",
            "gridcolor": "white",
            "gridwidth": 2,
            "linecolor": "white",
            "showbackground": true,
            "ticks": "",
            "zerolinecolor": "white"
           },
           "zaxis": {
            "backgroundcolor": "#E5ECF6",
            "gridcolor": "white",
            "gridwidth": 2,
            "linecolor": "white",
            "showbackground": true,
            "ticks": "",
            "zerolinecolor": "white"
           }
          },
          "shapedefaults": {
           "line": {
            "color": "#2a3f5f"
           }
          },
          "ternary": {
           "aaxis": {
            "gridcolor": "white",
            "linecolor": "white",
            "ticks": ""
           },
           "baxis": {
            "gridcolor": "white",
            "linecolor": "white",
            "ticks": ""
           },
           "bgcolor": "#E5ECF6",
           "caxis": {
            "gridcolor": "white",
            "linecolor": "white",
            "ticks": ""
           }
          },
          "title": {
           "x": 0.05
          },
          "xaxis": {
           "automargin": true,
           "gridcolor": "white",
           "linecolor": "white",
           "ticks": "",
           "title": {
            "standoff": 15
           },
           "zerolinecolor": "white",
           "zerolinewidth": 2
          },
          "yaxis": {
           "automargin": true,
           "gridcolor": "white",
           "linecolor": "white",
           "ticks": "",
           "title": {
            "standoff": 15
           },
           "zerolinecolor": "white",
           "zerolinewidth": 2
          }
         }
        },
        "title": {
         "text": "CO2 Emissions vs GDP per Capita (1967)"
        },
        "xaxis": {
         "anchor": "y",
         "domain": [
          0,
          1
         ],
         "title": {
          "text": "GDP per Capita"
         }
        },
        "yaxis": {
         "anchor": "x",
         "domain": [
          0,
          1
         ],
         "title": {
          "text": "CO2 Emissions (metric tons per capita)"
         }
        }
       }
      }
     },
     "metadata": {},
     "output_type": "display_data"
    }
   ],
   "source": [
    "# 5- Create an interactive scatter plot comparing 'CO2 emissions (metric tons per capita)' and gdpPercap for the year with the strongest correlation.\n",
    "import plotly.express as px\n",
    "\n",
    "# Filter data for the year 1967\n",
    "data_1967 = gapminder_df[gapminder_df['Year'] == 1967]\n",
    "\n",
    "# Create an interactive scatter plot using Plotly\n",
    "CO2_vs_GDP_1967_fig = px.scatter(\n",
    "    data_1967,\n",
    "    x='gdpPercap',\n",
    "    y='CO2 emissions (metric tons per capita)',\n",
    "    size='pop',\n",
    "    color='continent',\n",
    "    hover_name='Country Name',\n",
    "    title='CO2 Emissions vs GDP per Capita (1967)',\n",
    "    labels={'gdpPercap': 'GDP per Capita', 'CO2 emissions (metric tons per capita)': 'CO2 Emissions (metric tons per capita)'},\n",
    "    size_max=60\n",
    ")\n",
    "\n",
    "\n",
    "# Save the plot as an HTML file\n",
    "CO2_vs_GDP_1967_html_file_path = r'C:\\Users\\abdoj\\OneDrive - UGent\\Desktop\\summer\\skill-assessments\\Python for Data Science\\CO2_vs_GDP_1967.html'\n",
    "CO2_vs_GDP_1967_fig.write_html(CO2_vs_GDP_1967_html_file_path)\n",
    "\n",
    "CO2_vs_GDP_1967_html_file_path\n",
    "\n",
    "CO2_vs_GDP_1967_fig.show()\n",
    "\n"
   ]
  },
  {
   "cell_type": "code",
   "execution_count": null,
   "metadata": {},
   "outputs": [],
   "source": []
  },
  {
   "cell_type": "markdown",
   "metadata": {},
   "source": [
    "**Now, without further guidance, use your Python Data Science skills (and the correct statistical tests) to answer the following (*use the unfiltered dataset*):**"
   ]
  },
  {
   "cell_type": "code",
   "execution_count": 67,
   "metadata": {},
   "outputs": [
    {
     "data": {
      "text/plain": [
       "(F_onewayResult(statistic=51.45915759042634, pvalue=8.527003487154367e-39),\n",
       " array(['Europe', 'Africa', 'Americas', 'Oceania', 'Asia'], dtype=object),\n",
       " count      848.000000\n",
       " mean      1992.606751\n",
       " std       2154.338392\n",
       " min          9.715410\n",
       " 25%        484.128873\n",
       " 50%        995.564054\n",
       " 75%       2895.658932\n",
       " max      14746.031339\n",
       " Name: Energy use (kg of oil equivalent per capita), dtype: float64)"
      ]
     },
     "execution_count": 67,
     "metadata": {},
     "output_type": "execute_result"
    }
   ],
   "source": [
    "# 1. What is the relationship between `continent` and `'Energy use (kg of oil equivalent per capita)'`? (Stats test needed)\n",
    "\n",
    "import pandas as pd\n",
    "import plotly.express as px\n",
    "from scipy.stats import f_oneway\n",
    "\n",
    "# Load the unfiltered dataset again to ensure we are using the correct data\n",
    "file_path = r'C:\\Users\\abdoj\\OneDrive - UGent\\Desktop\\summer\\skill-assessments\\Python for Data Science\\gapminder_clean.csv'\n",
    "gapminder_df = pd.read_csv(file_path)\n",
    "\n",
    "# Check for missing data in 'Energy use (kg of oil equivalent per capita)' and 'continent'\n",
    "gapminder_df[['continent', 'Energy use (kg of oil equivalent per capita)']].isnull().sum()\n",
    "\n",
    "# Drop rows with missing values in the relevant columns\n",
    "filtered_df = gapminder_df.dropna(subset=['continent', 'Energy use (kg of oil equivalent per capita)'])\n",
    "\n",
    "# Perform ANOVA test\n",
    "anova_result = f_oneway(\n",
    "    *[group['Energy use (kg of oil equivalent per capita)'].values for name, group in filtered_df.groupby('continent')]\n",
    ")\n",
    "\n",
    "# Prepare for visualization\n",
    "anova_result, filtered_df['continent'].unique(), filtered_df['Energy use (kg of oil equivalent per capita)'].describe()\n",
    "\n"
   ]
  },
  {
   "cell_type": "markdown",
   "metadata": {},
   "source": [
    "The ANOVA test shows a significant result  (F  = 51.459,  p  < 0.0001) , indicating that there are statistically significant differences in the mean energy use (kg of oil equivalent per capita) across different continents.\n",
    "\n",
    "### Summary Statistics:\n",
    "- Count: 848 observations\n",
    "- Mean: 1992.61 kg of oil equivalent per capita\n",
    "- Standard Deviation: 2154.34\n",
    "- Min: 9.72\n",
    "- Max: 14746.03"
   ]
  },
  {
   "cell_type": "code",
   "execution_count": 68,
   "metadata": {},
   "outputs": [
    {
     "data": {
      "application/vnd.plotly.v1+json": {
       "config": {
        "plotlyServerURL": "https://plot.ly"
       },
       "data": [
        {
         "alignmentgroup": "True",
         "hovertemplate": "continent=%{x}<br>Energy Use (kg of oil equivalent per capita)=%{y}<extra></extra>",
         "legendgroup": "",
         "marker": {
          "color": "#636efa"
         },
         "name": "",
         "notched": false,
         "offsetgroup": "",
         "orientation": "v",
         "showlegend": false,
         "type": "box",
         "x": [
          "Europe",
          "Europe",
          "Europe",
          "Europe",
          "Europe",
          "Europe",
          "Europe",
          "Europe",
          "Africa",
          "Africa",
          "Africa",
          "Africa",
          "Africa",
          "Africa",
          "Africa",
          "Africa",
          "Africa",
          "Africa",
          "Africa",
          "Africa",
          "Africa",
          "Africa",
          "Africa",
          "Africa",
          "Americas",
          "Americas",
          "Americas",
          "Americas",
          "Americas",
          "Americas",
          "Americas",
          "Americas",
          "Oceania",
          "Oceania",
          "Oceania",
          "Oceania",
          "Oceania",
          "Oceania",
          "Oceania",
          "Oceania",
          "Oceania",
          "Oceania",
          "Europe",
          "Europe",
          "Europe",
          "Europe",
          "Europe",
          "Europe",
          "Europe",
          "Europe",
          "Europe",
          "Europe",
          "Asia",
          "Asia",
          "Asia",
          "Asia",
          "Asia",
          "Asia",
          "Asia",
          "Asia",
          "Asia",
          "Asia",
          "Asia",
          "Asia",
          "Asia",
          "Asia",
          "Asia",
          "Asia",
          "Europe",
          "Europe",
          "Europe",
          "Europe",
          "Europe",
          "Europe",
          "Europe",
          "Europe",
          "Europe",
          "Europe",
          "Africa",
          "Africa",
          "Africa",
          "Africa",
          "Africa",
          "Africa",
          "Africa",
          "Africa",
          "Americas",
          "Americas",
          "Americas",
          "Americas",
          "Americas",
          "Americas",
          "Americas",
          "Americas",
          "Europe",
          "Europe",
          "Europe",
          "Europe",
          "Africa",
          "Africa",
          "Africa",
          "Africa",
          "Africa",
          "Africa",
          "Americas",
          "Americas",
          "Americas",
          "Americas",
          "Americas",
          "Americas",
          "Americas",
          "Americas",
          "Europe",
          "Europe",
          "Europe",
          "Europe",
          "Europe",
          "Europe",
          "Europe",
          "Europe",
          "Asia",
          "Asia",
          "Asia",
          "Africa",
          "Africa",
          "Africa",
          "Africa",
          "Africa",
          "Africa",
          "Africa",
          "Africa",
          "Americas",
          "Americas",
          "Americas",
          "Americas",
          "Americas",
          "Americas",
          "Americas",
          "Americas",
          "Americas",
          "Americas",
          "Americas",
          "Americas",
          "Americas",
          "Americas",
          "Americas",
          "Americas",
          "Americas",
          "Americas",
          "Asia",
          "Asia",
          "Asia",
          "Asia",
          "Asia",
          "Asia",
          "Asia",
          "Asia",
          "Americas",
          "Americas",
          "Americas",
          "Americas",
          "Americas",
          "Americas",
          "Americas",
          "Americas",
          "Africa",
          "Americas",
          "Americas",
          "Americas",
          "Americas",
          "Americas",
          "Americas",
          "Americas",
          "Americas",
          "Africa",
          "Africa",
          "Africa",
          "Africa",
          "Africa",
          "Africa",
          "Africa",
          "Africa",
          "Europe",
          "Europe",
          "Europe",
          "Europe",
          "Americas",
          "Americas",
          "Americas",
          "Americas",
          "Americas",
          "Americas",
          "Americas",
          "Americas",
          "Europe",
          "Europe",
          "Europe",
          "Europe",
          "Europe",
          "Europe",
          "Europe",
          "Europe",
          "Europe",
          "Europe",
          "Europe",
          "Europe",
          "Europe",
          "Europe",
          "Europe",
          "Europe",
          "Europe",
          "Europe",
          "Africa",
          "Americas",
          "Americas",
          "Americas",
          "Americas",
          "Americas",
          "Americas",
          "Americas",
          "Americas",
          "Americas",
          "Americas",
          "Americas",
          "Americas",
          "Americas",
          "Americas",
          "Americas",
          "Americas",
          "Americas",
          "Americas",
          "Americas",
          "Americas",
          "Americas",
          "Americas",
          "Americas",
          "Americas",
          "Africa",
          "Africa",
          "Africa",
          "Africa",
          "Africa",
          "Africa",
          "Africa",
          "Africa",
          "Africa",
          "Africa",
          "Africa",
          "Africa",
          "Africa",
          "Europe",
          "Europe",
          "Europe",
          "Europe",
          "Europe",
          "Europe",
          "Europe",
          "Europe",
          "Europe",
          "Europe",
          "Europe",
          "Europe",
          "Europe",
          "Europe",
          "Europe",
          "Europe",
          "Europe",
          "Europe",
          "Europe",
          "Europe",
          "Africa",
          "Africa",
          "Africa",
          "Africa",
          "Africa",
          "Africa",
          "Africa",
          "Africa",
          "Europe",
          "Europe",
          "Europe",
          "Europe",
          "Europe",
          "Europe",
          "Europe",
          "Europe",
          "Europe",
          "Europe",
          "Africa",
          "Africa",
          "Africa",
          "Africa",
          "Africa",
          "Africa",
          "Africa",
          "Africa",
          "Europe",
          "Europe",
          "Europe",
          "Europe",
          "Europe",
          "Europe",
          "Europe",
          "Europe",
          "Europe",
          "Europe",
          "Americas",
          "Americas",
          "Americas",
          "Americas",
          "Americas",
          "Americas",
          "Americas",
          "Americas",
          "Africa",
          "Americas",
          "Americas",
          "Americas",
          "Americas",
          "Americas",
          "Americas",
          "Americas",
          "Americas",
          "Americas",
          "Americas",
          "Americas",
          "Americas",
          "Americas",
          "Americas",
          "Americas",
          "Americas",
          "Europe",
          "Europe",
          "Europe",
          "Europe",
          "Europe",
          "Europe",
          "Europe",
          "Europe",
          "Europe",
          "Europe",
          "Europe",
          "Europe",
          "Europe",
          "Europe",
          "Europe",
          "Europe",
          "Europe",
          "Europe",
          "Europe",
          "Asia",
          "Asia",
          "Asia",
          "Asia",
          "Asia",
          "Asia",
          "Asia",
          "Asia",
          "Asia",
          "Asia",
          "Asia",
          "Asia",
          "Asia",
          "Asia",
          "Asia",
          "Asia",
          "Asia",
          "Asia",
          "Asia",
          "Asia",
          "Asia",
          "Asia",
          "Asia",
          "Asia",
          "Europe",
          "Europe",
          "Europe",
          "Europe",
          "Europe",
          "Europe",
          "Europe",
          "Europe",
          "Europe",
          "Europe",
          "Asia",
          "Asia",
          "Asia",
          "Asia",
          "Asia",
          "Asia",
          "Asia",
          "Asia",
          "Europe",
          "Europe",
          "Europe",
          "Europe",
          "Europe",
          "Europe",
          "Europe",
          "Europe",
          "Europe",
          "Europe",
          "Americas",
          "Americas",
          "Americas",
          "Americas",
          "Americas",
          "Americas",
          "Americas",
          "Americas",
          "Asia",
          "Asia",
          "Asia",
          "Asia",
          "Asia",
          "Asia",
          "Asia",
          "Asia",
          "Asia",
          "Asia",
          "Asia",
          "Asia",
          "Asia",
          "Asia",
          "Asia",
          "Asia",
          "Asia",
          "Asia",
          "Africa",
          "Africa",
          "Africa",
          "Africa",
          "Africa",
          "Africa",
          "Africa",
          "Africa",
          "Asia",
          "Asia",
          "Asia",
          "Asia",
          "Asia",
          "Asia",
          "Asia",
          "Asia",
          "Asia",
          "Asia",
          "Asia",
          "Asia",
          "Asia",
          "Asia",
          "Asia",
          "Africa",
          "Africa",
          "Africa",
          "Africa",
          "Africa",
          "Africa",
          "Africa",
          "Africa",
          "Africa",
          "Asia",
          "Asia",
          "Asia",
          "Asia",
          "Asia",
          "Asia",
          "Asia",
          "Asia",
          "Africa",
          "Africa",
          "Africa",
          "Africa",
          "Africa",
          "Africa",
          "Africa",
          "Africa",
          "Americas",
          "Americas",
          "Americas",
          "Americas",
          "Americas",
          "Americas",
          "Americas",
          "Americas",
          "Asia",
          "Asia",
          "Asia",
          "Asia",
          "Asia",
          "Europe",
          "Africa",
          "Africa",
          "Africa",
          "Africa",
          "Africa",
          "Africa",
          "Africa",
          "Africa",
          "Africa",
          "Africa",
          "Africa",
          "Africa",
          "Africa",
          "Africa",
          "Africa",
          "Africa",
          "Asia",
          "Asia",
          "Asia",
          "Asia",
          "Asia",
          "Asia",
          "Asia",
          "Asia",
          "Africa",
          "Africa",
          "Africa",
          "Africa",
          "Asia",
          "Asia",
          "Asia",
          "Asia",
          "Asia",
          "Asia",
          "Asia",
          "Asia",
          "Europe",
          "Europe",
          "Europe",
          "Europe",
          "Europe",
          "Europe",
          "Europe",
          "Europe",
          "Europe",
          "Europe",
          "Oceania",
          "Oceania",
          "Oceania",
          "Oceania",
          "Oceania",
          "Oceania",
          "Oceania",
          "Oceania",
          "Oceania",
          "Oceania",
          "Americas",
          "Americas",
          "Americas",
          "Americas",
          "Americas",
          "Americas",
          "Americas",
          "Americas",
          "Africa",
          "Africa",
          "Africa",
          "Africa",
          "Africa",
          "Africa",
          "Africa",
          "Africa",
          "Africa",
          "Africa",
          "Europe",
          "Europe",
          "Europe",
          "Europe",
          "Europe",
          "Europe",
          "Europe",
          "Europe",
          "Europe",
          "Europe",
          "Asia",
          "Asia",
          "Asia",
          "Asia",
          "Asia",
          "Asia",
          "Asia",
          "Asia",
          "Asia",
          "Asia",
          "Asia",
          "Asia",
          "Asia",
          "Asia",
          "Asia",
          "Asia",
          "Americas",
          "Americas",
          "Americas",
          "Americas",
          "Americas",
          "Americas",
          "Americas",
          "Americas",
          "Americas",
          "Americas",
          "Americas",
          "Americas",
          "Americas",
          "Americas",
          "Americas",
          "Americas",
          "Americas",
          "Americas",
          "Americas",
          "Americas",
          "Americas",
          "Americas",
          "Americas",
          "Americas",
          "Asia",
          "Asia",
          "Asia",
          "Asia",
          "Asia",
          "Asia",
          "Asia",
          "Asia",
          "Europe",
          "Europe",
          "Europe",
          "Europe",
          "Europe",
          "Europe",
          "Europe",
          "Europe",
          "Europe",
          "Europe",
          "Europe",
          "Europe",
          "Europe",
          "Europe",
          "Europe",
          "Europe",
          "Europe",
          "Europe",
          "Europe",
          "Europe",
          "Europe",
          "Europe",
          "Europe",
          "Europe",
          "Europe",
          "Europe",
          "Europe",
          "Europe",
          "Africa",
          "Asia",
          "Asia",
          "Asia",
          "Asia",
          "Asia",
          "Asia",
          "Asia",
          "Asia",
          "Africa",
          "Africa",
          "Africa",
          "Africa",
          "Africa",
          "Africa",
          "Africa",
          "Africa",
          "Europe",
          "Europe",
          "Europe",
          "Europe",
          "Asia",
          "Asia",
          "Asia",
          "Asia",
          "Asia",
          "Asia",
          "Asia",
          "Asia",
          "Europe",
          "Europe",
          "Europe",
          "Europe",
          "Europe",
          "Europe",
          "Europe",
          "Europe",
          "Europe",
          "Europe",
          "Europe",
          "Europe",
          "Africa",
          "Africa",
          "Africa",
          "Africa",
          "Africa",
          "Africa",
          "Africa",
          "Africa",
          "Europe",
          "Europe",
          "Europe",
          "Europe",
          "Europe",
          "Europe",
          "Europe",
          "Europe",
          "Europe",
          "Europe",
          "Asia",
          "Asia",
          "Asia",
          "Asia",
          "Asia",
          "Asia",
          "Asia",
          "Asia",
          "Africa",
          "Africa",
          "Africa",
          "Africa",
          "Africa",
          "Africa",
          "Africa",
          "Africa",
          "Africa",
          "Europe",
          "Europe",
          "Europe",
          "Europe",
          "Europe",
          "Europe",
          "Europe",
          "Europe",
          "Europe",
          "Europe",
          "Europe",
          "Europe",
          "Europe",
          "Europe",
          "Europe",
          "Europe",
          "Europe",
          "Europe",
          "Europe",
          "Europe",
          "Africa",
          "Africa",
          "Africa",
          "Africa",
          "Africa",
          "Africa",
          "Africa",
          "Africa",
          "Asia",
          "Asia",
          "Asia",
          "Asia",
          "Asia",
          "Asia",
          "Asia",
          "Asia",
          "Africa",
          "Africa",
          "Africa",
          "Africa",
          "Africa",
          "Africa",
          "Africa",
          "Africa",
          "Americas",
          "Americas",
          "Americas",
          "Americas",
          "Americas",
          "Americas",
          "Americas",
          "Americas",
          "Africa",
          "Africa",
          "Africa",
          "Africa",
          "Africa",
          "Africa",
          "Africa",
          "Africa",
          "Europe",
          "Europe",
          "Europe",
          "Europe",
          "Europe",
          "Europe",
          "Europe",
          "Europe",
          "Europe",
          "Europe",
          "Europe",
          "Europe",
          "Europe",
          "Europe",
          "Europe",
          "Europe",
          "Europe",
          "Europe",
          "Europe",
          "Europe",
          "Americas",
          "Americas",
          "Americas",
          "Americas",
          "Americas",
          "Americas",
          "Americas",
          "Americas",
          "Americas",
          "Americas",
          "Americas",
          "Americas",
          "Americas",
          "Americas",
          "Americas",
          "Americas",
          "Americas",
          "Americas",
          "Asia",
          "Asia",
          "Asia",
          "Asia",
          "Asia",
          "Asia",
          "Asia",
          "Asia",
          "Africa",
          "Africa",
          "Africa",
          "Africa",
          "Africa",
          "Africa",
          "Africa",
          "Africa",
          "Africa",
          "Africa",
          "Africa",
          "Africa",
          "Africa",
          "Africa",
          "Africa",
          "Africa"
         ],
         "x0": " ",
         "xaxis": "x",
         "y": [
          865.592481207,
          923.728867504,
          966.683283781,
          921.893044018,
          418.286629757,
          384.594958328,
          645.080153785,
          679.861765101,
          261.465250751,
          398.656113469,
          771.235497639,
          827.552506829,
          883.7458819,
          804.842705115,
          904.456391853,
          1075.19412704,
          629.301934363,
          535.2524622330001,
          514.415934309,
          502.598458911,
          511.237051724,
          494.174484207,
          515.4034564030001,
          561.5501055130001,
          1379.81886741,
          1420.56765898,
          1416.53992488,
          1477.07652885,
          1484.0589177000004,
          1614.33824027,
          1502.22488095,
          1846.93675639,
          3172.97486502,
          3692.80794983,
          4035.20634439,
          4671.19567362,
          4817.48952431,
          4772.37046465,
          4959.21491855,
          5469.5999892,
          5569.6409925,
          5868.34709712,
          1675.87362115,
          1920.21212423,
          2627.32249578,
          2797.42192238,
          2830.22178095,
          3174.74539203,
          3239.0639673,
          3542.5214303,
          3765.28296302,
          4029.62695258,
          5960.21133509,
          8187.11498635,
          9071.02474414,
          9523.46356521,
          10844.7550254,
          12122.0506027,
          11704.3047293,
          11291.126355,
          86.903766977,
          97.860763105,
          105.482961637,
          106.866835127,
          119.405481659,
          135.210016124,
          149.933182829,
          173.580998621,
          2810.06114801,
          3182.9234575,
          4473.92951273,
          4589.52441,
          4208.25780214,
          4727.68639528,
          5092.96578511,
          5579.51075728,
          5461.40290348,
          5389.28164733,
          380.812029086,
          363.746124276,
          355.338045025,
          347.306591796,
          321.349456122,
          350.78972053,
          305.04923703400004,
          368.216084341,
          240.157170254,
          331.439253894,
          462.43170312,
          341.493450003,
          399.828007323,
          561.077061465,
          528.760849998,
          561.052703379,
          1034.34415156,
          712.9252777060001,
          1156.99672325,
          1381.12205494,
          739.29915268,
          743.685354401,
          979.087310581,
          900.173527778,
          1032.6780741,
          1028.07041536,
          741.6918705969998,
          868.475086329,
          867.193602187,
          987.562557183,
          929.003678998,
          1061.83829204,
          1081.26747985,
          1221.36231051,
          2262.78654882,
          2954.26673889,
          3309.20642511,
          3411.07339479,
          2396.00726637,
          2504.12268042,
          2401.37660851,
          2666.11144524,
          265.896639422,
          314.97027594400004,
          253.343288148,
          386.14642293800006,
          402.624623832,
          423.360959463,
          417.73292245,
          397.277540786,
          396.727156517,
          389.52261441,
          332.30332161,
          4451.56011604,
          5557.29174015,
          6933.60655182,
          7409.53000504,
          7149.344059999999,
          7641.32410546,
          7479.477427399999,
          7965.51932158,
          7920.11022894,
          8130.58019344,
          891.2738674039999,
          779.391621026,
          763.201224638,
          826.260796732,
          1141.81007039,
          1558.78524634,
          1644.79154564,
          1860.10017433,
          477.168708746,
          577.211010594,
          606.830437326,
          694.4223599789999,
          752.628662541,
          871.6462695360001,
          978.61898313,
          1550.53027085,
          598.975288294,
          638.025434659,
          635.432893568,
          696.0663928460001,
          704.354798517,
          709.8217022360001,
          606.266720641,
          637.510761494,
          63.1348128438,
          442.444664949,
          528.165846592,
          455.822967416,
          491.495062694,
          705.487675532,
          647.0037811669999,
          748.21348058,
          1031.80869969,
          453.243100247,
          449.52124719,
          393.432418022,
          383.372484812,
          373.659519455,
          386.175169435,
          406.144021726,
          539.7271851830001,
          1502.13713647,
          1704.81692913,
          1856.86891892,
          2102.14585212,
          1154.55654156,
          1424.73743541,
          1536.90510757,
          1578.25907104,
          1214.11700599,
          1125.97333686,
          1053.28051042,
          904.662628457,
          4613.78059093,
          4716.46270083,
          4633.61136678,
          4978.254944899999,
          4222.41657552,
          4184.88468363,
          4163.45010589,
          4468.96035161,
          2296.28956262,
          3061.11010693,
          3858.59212164,
          3830.10381024,
          3422.37480485,
          3819.83212874,
          3561.89036948,
          3848.1558436,
          3535.09801372,
          3622.59683256,
          178.904528787,
          573.372745636,
          601.951784846,
          596.93367919,
          594.381238984,
          603.781376066,
          749.844735219,
          819.797049144,
          763.408932512,
          360.600661999,
          568.073705272,
          666.635807378,
          602.470062495,
          629.220777401,
          721.687588695,
          739.4547575380002,
          833.203582927,
          484.967888203,
          622.1297874219999,
          595.2355137530001,
          503.481769676,
          525.453706523,
          624.096762293,
          720.3532811819998,
          748.1199930380002,
          2641.94245101,
          277.580928028,
          319.16492977400003,
          197.54986892,
          162.700034655,
          434.793195834,
          432.458375494,
          434.058222854,
          437.234995296,
          431.15182408,
          435.145404589,
          439.254909387,
          442.86665148300006,
          2361.74387608,
          3126.42604539,
          4188.16067653,
          4516.24806759,
          4805.49388193,
          5960.69258613,
          5380.99306782,
          6276.95169203,
          6705.43983596,
          6967.21323874,
          1852.7357712,
          2241.91139524,
          3160.80483651,
          3155.62146854,
          3272.05274478,
          3690.65145306,
          3954.00370317,
          4049.35046526,
          4225.60695353,
          4120.3058212,
          1707.3062928,
          2000.90013642,
          2069.78785109,
          1470.39664628,
          1298.09635297,
          1236.01768782,
          1229.36459426,
          1281.68189093,
          2124.84853926,
          2388.41234673,
          4017.33738516,
          4336.0874042,
          4257.86440736,
          4616.39706207,
          4190.98422047,
          4203.3573666,
          4108.40129887,
          3985.80810152,
          348.93189080300004,
          381.515147025,
          376.7088969880001,
          363.852104774,
          366.522645114,
          398.339353834,
          317.525749335,
          278.760989471,
          350.101257861,
          607.702155943,
          1134.78649348,
          1469.54942907,
          1537.27769706,
          1791.83338591,
          2129.89451644,
          2282.13703466,
          2597.74828926,
          2734.92011068,
          491.473442413,
          574.359356263,
          482.712477796,
          448.694681999,
          497.344297754,
          526.326033275,
          590.478746775,
          616.892076168,
          62.1995597581,
          317.810225983,
          350.433910995,
          301.847692756,
          226.326971354,
          219.075496949,
          252.463093356,
          261.374331488,
          384.513775199,
          499.277043223,
          512.605428263,
          520.393217065,
          481.319956646,
          483.335543947,
          528.901564325,
          516.4041365740001,
          657.398639731,
          1476.04957577,
          1880.53879751,
          2428.82933004,
          2630.75848148,
          2894.82745315,
          2423.17944795,
          2527.30162599,
          2520.15246577,
          2658.03637311,
          3028.29836932,
          3594.36178937,
          4403.96964669,
          5602.87016623,
          7076.20798768,
          7857.45488268,
          7755.39441578,
          8584.10049866,
          10804.6417156,
          14746.0313385,
          268.485083335,
          283.275393642,
          299.592677132,
          325.73809089400004,
          365.379491444,
          399.052528907,
          423.580114419,
          486.292374786,
          301.357990782,
          347.868204367,
          388.834624998,
          436.663234979,
          574.344890279,
          690.7954914339999,
          760.140852043,
          788.5836582439999,
          405.152489951,
          626.354937731,
          690.323799679,
          958.189471661,
          1311.18896852,
          1861.7960965,
          1130.94271589,
          892.39580238,
          1412.72967684,
          1767.42510638,
          2194.51306452,
          2203.82152215,
          2356.8942567,
          2608.80658136,
          2775.21800345,
          3255.49845122,
          3661.32224061,
          3416.03094562,
          1756.33100381,
          1786.48768337,
          1958.31704292,
          2278.47928588,
          2580.96935389,
          2881.12834133,
          2862.7957382,
          2898.15336834,
          1007.04834663,
          1551.51917279,
          2050.73787712,
          2204.17980667,
          2206.54273411,
          2407.25635314,
          2627.34000777,
          2834.40294607,
          3017.97165871,
          3062.36054739,
          1331.9860874,
          1153.48652689,
          1040.31180401,
          765.4628605460001,
          1215.0555252,
          1333.59707253,
          1371.65658542,
          1578.42891649,
          1003.75225394,
          1720.54974435,
          2667.04674964,
          2899.90421823,
          2840.60843908,
          3044.11508629,
          3652.07124745,
          4048.98200021,
          4005.94409353,
          4024.99795314,
          297.830418297,
          473.5437315580001,
          875.54040491,
          998.355658577,
          1015.41769856,
          991.96787502,
          1024.4838209,
          1251.68193903,
          455.513600948,
          455.626061673,
          437.652286948,
          464.00933684,
          445.111805733,
          441.007660811,
          440.968733004,
          462.22025237800005,
          7802.76597438,
          6429.99850119,
          7548.12934744,
          8616.57655309,
          8764.51262442,
          10105.8321479,
          10395.1176066,
          789.565543378,
          696.1964896339999,
          678.5814280469999,
          996.943321974,
          868.56933067,
          1698.3102702999995,
          1484.22892653,
          1034.92218437,
          9.71541007212,
          952.733553333,
          1455.08414725,
          2397.98259634,
          2700.28315715,
          2452.19740381,
          2991.94395278,
          3071.77483233,
          2725.88792504,
          536.095210505,
          621.740086559,
          898.6549052380002,
          1078.98626036,
          1566.72481216,
          2063.52696529,
          2183.8734214,
          2742.50027319,
          435.059790882,
          474.222876797,
          414.601806914,
          512.011597538,
          657.7868228880001,
          712.571976967,
          873.195801833,
          1007.57484088,
          856.81120942,
          1063.78037111,
          1465.05024708,
          1379.33314201,
          1452.97190576,
          1398.88398183,
          1412.86939872,
          1551.28978352,
          1746.24080026,
          1488.63742731,
          951.851569598,
          1058.16485595,
          1376.98860218,
          1927.97889182,
          190.387995598,
          252.036810104,
          268.259441677,
          277.485699249,
          327.952990834,
          362.27042057,
          402.312789339,
          487.448713086,
          699.0228986210001,
          608.405141326,
          523.782627433,
          474.548861116,
          420.272139083,
          390.685096382,
          395.127686774,
          407.278749651,
          281.931848431,
          276.246179043,
          270.238811656,
          269.30095308,
          251.060745819,
          263.20255292,
          266.385844866,
          307.913041122,
          496.518769708,
          594.756148267,
          579.8782172790001,
          659.366428344,
          300.972670494,
          302.06554296,
          305.746943514,
          307.065111322,
          309.74507691900004,
          316.822270368,
          345.37079196,
          357.131793555,
          2081.01162075,
          2762.80248267,
          4381.04179488,
          4560.27311991,
          3785.11593558,
          4387.67068914,
          4501.66087489,
          4579.47478164,
          4687.98228043,
          4843.79608802,
          1791.46132151,
          2188.69351345,
          2617.16105927,
          3055.08108455,
          3012.97138874,
          3452.96268019,
          3808.4772206,
          4258.75677677,
          4337.38052425,
          4054.4950045,
          487.96346663800006,
          585.0413863719999,
          469.268615848,
          502.383245685,
          509.839947747,
          503.04461939,
          508.740585366,
          521.961949752,
          130.047629217,
          128.026173022,
          583.794808164,
          634.258748201,
          689.4945390439999,
          674.47298453,
          719.308370017,
          696.8847876410001,
          721.312209806,
          747.1012487439999,
          2052.05448433,
          2815.68798736,
          3503.4299482,
          4060.10627707,
          4262.39171068,
          5048.49930916,
          5159.65421807,
          5477.88285412,
          5503.46451061,
          5864.97593092,
          112.054808283,
          761.662333837,
          1151.87126892,
          1412.3831509,
          2756.42578415,
          3027.90856152,
          3890.79215204,
          6881.62081928,
          285.16407106400004,
          302.558312012,
          336.92280827900004,
          376.344243754,
          412.405215402,
          448.925191849,
          455.934635667,
          523.2672101530001,
          1159.6892715999998,
          899.7691370580002,
          796.469906347,
          730.8000538289999,
          715.38365957,
          777.742373207,
          834.670915895,
          879.523836391,
          540.588375968,
          580.530937274,
          630.648885594,
          699.102776962,
          712.691343364,
          877.0448880460001,
          705.433761481,
          708.7828687130002,
          648.807999388,
          678.509067152,
          632.7254874390001,
          540.974320389,
          408.43313224,
          440.557973649,
          446.340827194,
          506.633143848,
          406.49229803800006,
          456.743021869,
          461.890994003,
          433.357672285,
          460.545976337,
          500.989771655,
          477.457211125,
          434.402352876,
          1976.85979181,
          2199.05462052,
          2693.74527501,
          3251.8025717,
          3412.49866376,
          3535.48197152,
          2569.17533457,
          2643.12353589,
          2314.20257992,
          2526.9949602,
          363.164047972,
          486.585415324,
          745.283954565,
          845.368945104,
          1119.20463053,
          1241.1956653,
          1813.8858461,
          2083.48767635,
          2477.48974988,
          2402.47799385,
          2131.63973572,
          2735.43911555,
          2876.73333115,
          3027.56521622,
          2052.96292702,
          1989.99418196,
          1755.13002556,
          1904.09688616,
          274.890043982,
          979.423249943,
          1368.95037047,
          4215.42559694,
          3750.91313869,
          4421.45445335,
          4354.65523263,
          4907.82867485,
          5379.69097885,
          280.837670795,
          281.840462003,
          260.719421235,
          254.211898654,
          222.634685966,
          221.005820684,
          253.315356135,
          252.409846662,
          2020.15373461,
          2299.90425855,
          2119.78208028,
          2248.15503566,
          1569.47082327,
          1763.23012084,
          1987.08730813,
          2757.88068931,
          4588.43321165,
          5818.15092473,
          5065.98450652,
          4677.20430572,
          3224.51944058,
          3780.58944725,
          3754.67958194,
          4074.77904741,
          3410.7278847,
          3361.88402225,
          3483.86750611,
          3320.45472221,
          2584.33517088,
          3310.40063325,
          3424.45287862,
          3627.52350948,
          1997.49821372,
          2208.54919916,
          2699.72841558,
          2831.14750181,
          2414.3981946,
          2655.26925959,
          2421.00577767,
          2805.48565552,
          605.223527325,
          881.3832485789999,
          1299.43101563,
          1667.64601643,
          1762.40454547,
          1919.44664907,
          2435.96962149,
          2666.2640552,
          3107.86734112,
          3180.03341956,
          314.546613794,
          293.833883231,
          324.13036566,
          328.090886835,
          327.882389865,
          380.086721607,
          432.84856645,
          470.83709579,
          485.018934669,
          445.524031505,
          431.003010124,
          397.42097884300006,
          386.72897561,
          392.294923579,
          411.137505242,
          366.495542,
          372.735499664,
          2887.23625249,
          3630.19413871,
          4527.21372025,
          5054.83376436,
          4877.79989653,
          5763.0704408,
          5369.37035674,
          5672.0081772,
          5802.11010517,
          5472.13539173,
          1568.91106002,
          2040.8279002,
          2727.71921732,
          2877.79290941,
          2984.22326318,
          3430.8555125,
          3613.49260926,
          3526.10543855,
          3553.18855698,
          3410.15494794,
          527.0538798619999,
          455.445767964,
          414.717967022,
          394.145177081,
          369.835021604,
          357.261154316,
          416.002267994,
          442.62215764,
          367.864327681,
          451.510578157,
          456.467867425,
          531.762695185,
          840.141111806,
          1164.94784692,
          1282.58023503,
          1585.96595222,
          332.041867346,
          327.998948608,
          327.324375984,
          328.062332773,
          328.69853999,
          384.078207642,
          424.034097572,
          417.118049767,
          2772.88276961,
          2808.51679767,
          3648.18714807,
          4188.6453215,
          5286.28687516,
          5437.91312128,
          9356.78097414,
          14608.0098682,
          341.737804158,
          427.302747359,
          493.048630903,
          542.645168334,
          641.6905970619999,
          679.079751272,
          801.489193653,
          883.981281357,
          410.021796967,
          484.393315616,
          605.1364652890001,
          778.4328071839999,
          732.662049648,
          917.976137079,
          960.859171935,
          1165.81161631,
          1139.69490969,
          1438.53526923,
          3087.34197183,
          3345.55349486,
          3747.96247517,
          3695.38387114,
          3397.12228872,
          3619.07726922,
          3684.72453527,
          3760.71236505,
          3685.8654787,
          3441.68876583,
          5774.58631485,
          6809.82048392,
          7940.99783226,
          8285.57089798,
          7259.07889875,
          7622.17301652,
          7677.40140109,
          7828.5810964,
          7843.34484914,
          7758.16570028,
          872.986354117,
          868.792103341,
          766.1430987780002,
          718.448623294,
          855.1247871139999,
          880.633650605,
          762.6981432010001,
          947.838610674,
          298.157558425,
          257.872313351,
          271.162299998,
          286.657214575,
          276.1308749,
          335.170556166,
          420.446832131,
          540.08195349,
          857.0932537580002,
          819.7872201060001,
          756.612333199,
          700.14084375,
          662.721536129,
          617.209365016,
          598.548219754,
          588.018958956,
          994.184786353,
          921.65469562,
          842.372683813,
          896.673611477,
          923.493407317,
          804.5088922269998,
          772.6766193660001,
          725.6810488469998
         ],
         "y0": " ",
         "yaxis": "y"
        }
       ],
       "layout": {
        "boxmode": "group",
        "legend": {
         "tracegroupgap": 0
        },
        "template": {
         "data": {
          "bar": [
           {
            "error_x": {
             "color": "#2a3f5f"
            },
            "error_y": {
             "color": "#2a3f5f"
            },
            "marker": {
             "line": {
              "color": "#E5ECF6",
              "width": 0.5
             },
             "pattern": {
              "fillmode": "overlay",
              "size": 10,
              "solidity": 0.2
             }
            },
            "type": "bar"
           }
          ],
          "barpolar": [
           {
            "marker": {
             "line": {
              "color": "#E5ECF6",
              "width": 0.5
             },
             "pattern": {
              "fillmode": "overlay",
              "size": 10,
              "solidity": 0.2
             }
            },
            "type": "barpolar"
           }
          ],
          "carpet": [
           {
            "aaxis": {
             "endlinecolor": "#2a3f5f",
             "gridcolor": "white",
             "linecolor": "white",
             "minorgridcolor": "white",
             "startlinecolor": "#2a3f5f"
            },
            "baxis": {
             "endlinecolor": "#2a3f5f",
             "gridcolor": "white",
             "linecolor": "white",
             "minorgridcolor": "white",
             "startlinecolor": "#2a3f5f"
            },
            "type": "carpet"
           }
          ],
          "choropleth": [
           {
            "colorbar": {
             "outlinewidth": 0,
             "ticks": ""
            },
            "type": "choropleth"
           }
          ],
          "contour": [
           {
            "colorbar": {
             "outlinewidth": 0,
             "ticks": ""
            },
            "colorscale": [
             [
              0,
              "#0d0887"
             ],
             [
              0.1111111111111111,
              "#46039f"
             ],
             [
              0.2222222222222222,
              "#7201a8"
             ],
             [
              0.3333333333333333,
              "#9c179e"
             ],
             [
              0.4444444444444444,
              "#bd3786"
             ],
             [
              0.5555555555555556,
              "#d8576b"
             ],
             [
              0.6666666666666666,
              "#ed7953"
             ],
             [
              0.7777777777777778,
              "#fb9f3a"
             ],
             [
              0.8888888888888888,
              "#fdca26"
             ],
             [
              1,
              "#f0f921"
             ]
            ],
            "type": "contour"
           }
          ],
          "contourcarpet": [
           {
            "colorbar": {
             "outlinewidth": 0,
             "ticks": ""
            },
            "type": "contourcarpet"
           }
          ],
          "heatmap": [
           {
            "colorbar": {
             "outlinewidth": 0,
             "ticks": ""
            },
            "colorscale": [
             [
              0,
              "#0d0887"
             ],
             [
              0.1111111111111111,
              "#46039f"
             ],
             [
              0.2222222222222222,
              "#7201a8"
             ],
             [
              0.3333333333333333,
              "#9c179e"
             ],
             [
              0.4444444444444444,
              "#bd3786"
             ],
             [
              0.5555555555555556,
              "#d8576b"
             ],
             [
              0.6666666666666666,
              "#ed7953"
             ],
             [
              0.7777777777777778,
              "#fb9f3a"
             ],
             [
              0.8888888888888888,
              "#fdca26"
             ],
             [
              1,
              "#f0f921"
             ]
            ],
            "type": "heatmap"
           }
          ],
          "heatmapgl": [
           {
            "colorbar": {
             "outlinewidth": 0,
             "ticks": ""
            },
            "colorscale": [
             [
              0,
              "#0d0887"
             ],
             [
              0.1111111111111111,
              "#46039f"
             ],
             [
              0.2222222222222222,
              "#7201a8"
             ],
             [
              0.3333333333333333,
              "#9c179e"
             ],
             [
              0.4444444444444444,
              "#bd3786"
             ],
             [
              0.5555555555555556,
              "#d8576b"
             ],
             [
              0.6666666666666666,
              "#ed7953"
             ],
             [
              0.7777777777777778,
              "#fb9f3a"
             ],
             [
              0.8888888888888888,
              "#fdca26"
             ],
             [
              1,
              "#f0f921"
             ]
            ],
            "type": "heatmapgl"
           }
          ],
          "histogram": [
           {
            "marker": {
             "pattern": {
              "fillmode": "overlay",
              "size": 10,
              "solidity": 0.2
             }
            },
            "type": "histogram"
           }
          ],
          "histogram2d": [
           {
            "colorbar": {
             "outlinewidth": 0,
             "ticks": ""
            },
            "colorscale": [
             [
              0,
              "#0d0887"
             ],
             [
              0.1111111111111111,
              "#46039f"
             ],
             [
              0.2222222222222222,
              "#7201a8"
             ],
             [
              0.3333333333333333,
              "#9c179e"
             ],
             [
              0.4444444444444444,
              "#bd3786"
             ],
             [
              0.5555555555555556,
              "#d8576b"
             ],
             [
              0.6666666666666666,
              "#ed7953"
             ],
             [
              0.7777777777777778,
              "#fb9f3a"
             ],
             [
              0.8888888888888888,
              "#fdca26"
             ],
             [
              1,
              "#f0f921"
             ]
            ],
            "type": "histogram2d"
           }
          ],
          "histogram2dcontour": [
           {
            "colorbar": {
             "outlinewidth": 0,
             "ticks": ""
            },
            "colorscale": [
             [
              0,
              "#0d0887"
             ],
             [
              0.1111111111111111,
              "#46039f"
             ],
             [
              0.2222222222222222,
              "#7201a8"
             ],
             [
              0.3333333333333333,
              "#9c179e"
             ],
             [
              0.4444444444444444,
              "#bd3786"
             ],
             [
              0.5555555555555556,
              "#d8576b"
             ],
             [
              0.6666666666666666,
              "#ed7953"
             ],
             [
              0.7777777777777778,
              "#fb9f3a"
             ],
             [
              0.8888888888888888,
              "#fdca26"
             ],
             [
              1,
              "#f0f921"
             ]
            ],
            "type": "histogram2dcontour"
           }
          ],
          "mesh3d": [
           {
            "colorbar": {
             "outlinewidth": 0,
             "ticks": ""
            },
            "type": "mesh3d"
           }
          ],
          "parcoords": [
           {
            "line": {
             "colorbar": {
              "outlinewidth": 0,
              "ticks": ""
             }
            },
            "type": "parcoords"
           }
          ],
          "pie": [
           {
            "automargin": true,
            "type": "pie"
           }
          ],
          "scatter": [
           {
            "fillpattern": {
             "fillmode": "overlay",
             "size": 10,
             "solidity": 0.2
            },
            "type": "scatter"
           }
          ],
          "scatter3d": [
           {
            "line": {
             "colorbar": {
              "outlinewidth": 0,
              "ticks": ""
             }
            },
            "marker": {
             "colorbar": {
              "outlinewidth": 0,
              "ticks": ""
             }
            },
            "type": "scatter3d"
           }
          ],
          "scattercarpet": [
           {
            "marker": {
             "colorbar": {
              "outlinewidth": 0,
              "ticks": ""
             }
            },
            "type": "scattercarpet"
           }
          ],
          "scattergeo": [
           {
            "marker": {
             "colorbar": {
              "outlinewidth": 0,
              "ticks": ""
             }
            },
            "type": "scattergeo"
           }
          ],
          "scattergl": [
           {
            "marker": {
             "colorbar": {
              "outlinewidth": 0,
              "ticks": ""
             }
            },
            "type": "scattergl"
           }
          ],
          "scattermapbox": [
           {
            "marker": {
             "colorbar": {
              "outlinewidth": 0,
              "ticks": ""
             }
            },
            "type": "scattermapbox"
           }
          ],
          "scatterpolar": [
           {
            "marker": {
             "colorbar": {
              "outlinewidth": 0,
              "ticks": ""
             }
            },
            "type": "scatterpolar"
           }
          ],
          "scatterpolargl": [
           {
            "marker": {
             "colorbar": {
              "outlinewidth": 0,
              "ticks": ""
             }
            },
            "type": "scatterpolargl"
           }
          ],
          "scatterternary": [
           {
            "marker": {
             "colorbar": {
              "outlinewidth": 0,
              "ticks": ""
             }
            },
            "type": "scatterternary"
           }
          ],
          "surface": [
           {
            "colorbar": {
             "outlinewidth": 0,
             "ticks": ""
            },
            "colorscale": [
             [
              0,
              "#0d0887"
             ],
             [
              0.1111111111111111,
              "#46039f"
             ],
             [
              0.2222222222222222,
              "#7201a8"
             ],
             [
              0.3333333333333333,
              "#9c179e"
             ],
             [
              0.4444444444444444,
              "#bd3786"
             ],
             [
              0.5555555555555556,
              "#d8576b"
             ],
             [
              0.6666666666666666,
              "#ed7953"
             ],
             [
              0.7777777777777778,
              "#fb9f3a"
             ],
             [
              0.8888888888888888,
              "#fdca26"
             ],
             [
              1,
              "#f0f921"
             ]
            ],
            "type": "surface"
           }
          ],
          "table": [
           {
            "cells": {
             "fill": {
              "color": "#EBF0F8"
             },
             "line": {
              "color": "white"
             }
            },
            "header": {
             "fill": {
              "color": "#C8D4E3"
             },
             "line": {
              "color": "white"
             }
            },
            "type": "table"
           }
          ]
         },
         "layout": {
          "annotationdefaults": {
           "arrowcolor": "#2a3f5f",
           "arrowhead": 0,
           "arrowwidth": 1
          },
          "autotypenumbers": "strict",
          "coloraxis": {
           "colorbar": {
            "outlinewidth": 0,
            "ticks": ""
           }
          },
          "colorscale": {
           "diverging": [
            [
             0,
             "#8e0152"
            ],
            [
             0.1,
             "#c51b7d"
            ],
            [
             0.2,
             "#de77ae"
            ],
            [
             0.3,
             "#f1b6da"
            ],
            [
             0.4,
             "#fde0ef"
            ],
            [
             0.5,
             "#f7f7f7"
            ],
            [
             0.6,
             "#e6f5d0"
            ],
            [
             0.7,
             "#b8e186"
            ],
            [
             0.8,
             "#7fbc41"
            ],
            [
             0.9,
             "#4d9221"
            ],
            [
             1,
             "#276419"
            ]
           ],
           "sequential": [
            [
             0,
             "#0d0887"
            ],
            [
             0.1111111111111111,
             "#46039f"
            ],
            [
             0.2222222222222222,
             "#7201a8"
            ],
            [
             0.3333333333333333,
             "#9c179e"
            ],
            [
             0.4444444444444444,
             "#bd3786"
            ],
            [
             0.5555555555555556,
             "#d8576b"
            ],
            [
             0.6666666666666666,
             "#ed7953"
            ],
            [
             0.7777777777777778,
             "#fb9f3a"
            ],
            [
             0.8888888888888888,
             "#fdca26"
            ],
            [
             1,
             "#f0f921"
            ]
           ],
           "sequentialminus": [
            [
             0,
             "#0d0887"
            ],
            [
             0.1111111111111111,
             "#46039f"
            ],
            [
             0.2222222222222222,
             "#7201a8"
            ],
            [
             0.3333333333333333,
             "#9c179e"
            ],
            [
             0.4444444444444444,
             "#bd3786"
            ],
            [
             0.5555555555555556,
             "#d8576b"
            ],
            [
             0.6666666666666666,
             "#ed7953"
            ],
            [
             0.7777777777777778,
             "#fb9f3a"
            ],
            [
             0.8888888888888888,
             "#fdca26"
            ],
            [
             1,
             "#f0f921"
            ]
           ]
          },
          "colorway": [
           "#636efa",
           "#EF553B",
           "#00cc96",
           "#ab63fa",
           "#FFA15A",
           "#19d3f3",
           "#FF6692",
           "#B6E880",
           "#FF97FF",
           "#FECB52"
          ],
          "font": {
           "color": "#2a3f5f"
          },
          "geo": {
           "bgcolor": "white",
           "lakecolor": "white",
           "landcolor": "#E5ECF6",
           "showlakes": true,
           "showland": true,
           "subunitcolor": "white"
          },
          "hoverlabel": {
           "align": "left"
          },
          "hovermode": "closest",
          "mapbox": {
           "style": "light"
          },
          "paper_bgcolor": "white",
          "plot_bgcolor": "#E5ECF6",
          "polar": {
           "angularaxis": {
            "gridcolor": "white",
            "linecolor": "white",
            "ticks": ""
           },
           "bgcolor": "#E5ECF6",
           "radialaxis": {
            "gridcolor": "white",
            "linecolor": "white",
            "ticks": ""
           }
          },
          "scene": {
           "xaxis": {
            "backgroundcolor": "#E5ECF6",
            "gridcolor": "white",
            "gridwidth": 2,
            "linecolor": "white",
            "showbackground": true,
            "ticks": "",
            "zerolinecolor": "white"
           },
           "yaxis": {
            "backgroundcolor": "#E5ECF6",
            "gridcolor": "white",
            "gridwidth": 2,
            "linecolor": "white",
            "showbackground": true,
            "ticks": "",
            "zerolinecolor": "white"
           },
           "zaxis": {
            "backgroundcolor": "#E5ECF6",
            "gridcolor": "white",
            "gridwidth": 2,
            "linecolor": "white",
            "showbackground": true,
            "ticks": "",
            "zerolinecolor": "white"
           }
          },
          "shapedefaults": {
           "line": {
            "color": "#2a3f5f"
           }
          },
          "ternary": {
           "aaxis": {
            "gridcolor": "white",
            "linecolor": "white",
            "ticks": ""
           },
           "baxis": {
            "gridcolor": "white",
            "linecolor": "white",
            "ticks": ""
           },
           "bgcolor": "#E5ECF6",
           "caxis": {
            "gridcolor": "white",
            "linecolor": "white",
            "ticks": ""
           }
          },
          "title": {
           "x": 0.05
          },
          "xaxis": {
           "automargin": true,
           "gridcolor": "white",
           "linecolor": "white",
           "ticks": "",
           "title": {
            "standoff": 15
           },
           "zerolinecolor": "white",
           "zerolinewidth": 2
          },
          "yaxis": {
           "automargin": true,
           "gridcolor": "white",
           "linecolor": "white",
           "ticks": "",
           "title": {
            "standoff": 15
           },
           "zerolinecolor": "white",
           "zerolinewidth": 2
          }
         }
        },
        "title": {
         "text": "Energy Use (kg of oil equivalent per capita) by Continent"
        },
        "xaxis": {
         "anchor": "y",
         "domain": [
          0,
          1
         ],
         "title": {
          "text": "continent"
         }
        },
        "yaxis": {
         "anchor": "x",
         "domain": [
          0,
          1
         ],
         "title": {
          "text": "Energy Use (kg of oil equivalent per capita)"
         }
        }
       }
      }
     },
     "metadata": {},
     "output_type": "display_data"
    },
    {
     "data": {
      "application/vnd.plotly.v1+json": {
       "config": {
        "plotlyServerURL": "https://plot.ly"
       },
       "data": [
        {
         "hovertemplate": "<b>%{hovertext}</b><br><br>continent=%{x}<br>Energy Use (kg of oil equivalent per capita)=%{marker.size}<extra></extra>",
         "hovertext": [
          "Albania",
          "Albania",
          "Albania",
          "Albania",
          "Albania",
          "Albania",
          "Albania",
          "Albania",
          "Austria",
          "Austria",
          "Austria",
          "Austria",
          "Austria",
          "Austria",
          "Austria",
          "Austria",
          "Austria",
          "Austria",
          "Belgium",
          "Belgium",
          "Belgium",
          "Belgium",
          "Belgium",
          "Belgium",
          "Belgium",
          "Belgium",
          "Belgium",
          "Belgium",
          "Bosnia and Herzegovina",
          "Bosnia and Herzegovina",
          "Bosnia and Herzegovina",
          "Bosnia and Herzegovina",
          "Bulgaria",
          "Bulgaria",
          "Bulgaria",
          "Bulgaria",
          "Bulgaria",
          "Bulgaria",
          "Bulgaria",
          "Bulgaria",
          "Croatia",
          "Croatia",
          "Croatia",
          "Croatia",
          "Czech Republic",
          "Czech Republic",
          "Czech Republic",
          "Czech Republic",
          "Czech Republic",
          "Czech Republic",
          "Czech Republic",
          "Czech Republic",
          "Denmark",
          "Denmark",
          "Denmark",
          "Denmark",
          "Denmark",
          "Denmark",
          "Denmark",
          "Denmark",
          "Denmark",
          "Denmark",
          "Finland",
          "Finland",
          "Finland",
          "Finland",
          "Finland",
          "Finland",
          "Finland",
          "Finland",
          "Finland",
          "Finland",
          "France",
          "France",
          "France",
          "France",
          "France",
          "France",
          "France",
          "France",
          "France",
          "France",
          "Germany",
          "Germany",
          "Germany",
          "Germany",
          "Germany",
          "Germany",
          "Germany",
          "Germany",
          "Germany",
          "Germany",
          "Greece",
          "Greece",
          "Greece",
          "Greece",
          "Greece",
          "Greece",
          "Greece",
          "Greece",
          "Greece",
          "Greece",
          "Hungary",
          "Hungary",
          "Hungary",
          "Hungary",
          "Hungary",
          "Hungary",
          "Hungary",
          "Hungary",
          "Hungary",
          "Iceland",
          "Iceland",
          "Iceland",
          "Iceland",
          "Iceland",
          "Iceland",
          "Iceland",
          "Iceland",
          "Iceland",
          "Iceland",
          "Ireland",
          "Ireland",
          "Ireland",
          "Ireland",
          "Ireland",
          "Ireland",
          "Ireland",
          "Ireland",
          "Ireland",
          "Ireland",
          "Italy",
          "Italy",
          "Italy",
          "Italy",
          "Italy",
          "Italy",
          "Italy",
          "Italy",
          "Italy",
          "Italy",
          "Montenegro",
          "Netherlands",
          "Netherlands",
          "Netherlands",
          "Netherlands",
          "Netherlands",
          "Netherlands",
          "Netherlands",
          "Netherlands",
          "Netherlands",
          "Netherlands",
          "Norway",
          "Norway",
          "Norway",
          "Norway",
          "Norway",
          "Norway",
          "Norway",
          "Norway",
          "Norway",
          "Norway",
          "Poland",
          "Poland",
          "Poland",
          "Poland",
          "Poland",
          "Poland",
          "Poland",
          "Poland",
          "Poland",
          "Poland",
          "Portugal",
          "Portugal",
          "Portugal",
          "Portugal",
          "Portugal",
          "Portugal",
          "Portugal",
          "Portugal",
          "Portugal",
          "Portugal",
          "Romania",
          "Romania",
          "Romania",
          "Romania",
          "Romania",
          "Romania",
          "Romania",
          "Romania",
          "Serbia",
          "Serbia",
          "Serbia",
          "Serbia",
          "Slovak Republic",
          "Slovak Republic",
          "Slovak Republic",
          "Slovak Republic",
          "Slovak Republic",
          "Slovak Republic",
          "Slovak Republic",
          "Slovak Republic",
          "Slovenia",
          "Slovenia",
          "Slovenia",
          "Slovenia",
          "Spain",
          "Spain",
          "Spain",
          "Spain",
          "Spain",
          "Spain",
          "Spain",
          "Spain",
          "Spain",
          "Spain",
          "Sweden",
          "Sweden",
          "Sweden",
          "Sweden",
          "Sweden",
          "Sweden",
          "Sweden",
          "Sweden",
          "Sweden",
          "Sweden",
          "Switzerland",
          "Switzerland",
          "Switzerland",
          "Switzerland",
          "Switzerland",
          "Switzerland",
          "Switzerland",
          "Switzerland",
          "Switzerland",
          "Switzerland",
          "Turkey",
          "Turkey",
          "Turkey",
          "Turkey",
          "Turkey",
          "Turkey",
          "Turkey",
          "Turkey",
          "Turkey",
          "Turkey",
          "United Kingdom",
          "United Kingdom",
          "United Kingdom",
          "United Kingdom",
          "United Kingdom",
          "United Kingdom",
          "United Kingdom",
          "United Kingdom",
          "United Kingdom",
          "United Kingdom"
         ],
         "legendgroup": "Europe",
         "marker": {
          "color": "#636efa",
          "size": [
           865.592481207,
           923.728867504,
           966.683283781,
           921.893044018,
           418.286629757,
           384.594958328,
           645.080153785,
           679.861765101,
           1675.87362115,
           1920.21212423,
           2627.32249578,
           2797.42192238,
           2830.22178095,
           3174.74539203,
           3239.0639673,
           3542.5214303,
           3765.28296302,
           4029.62695258,
           2810.06114801,
           3182.9234575,
           4473.92951273,
           4589.52441,
           4208.25780214,
           4727.68639528,
           5092.96578511,
           5579.51075728,
           5461.40290348,
           5389.28164733,
           1034.34415156,
           712.9252777060001,
           1156.99672325,
           1381.12205494,
           2262.78654882,
           2954.26673889,
           3309.20642511,
           3411.07339479,
           2396.00726637,
           2504.12268042,
           2401.37660851,
           2666.11144524,
           1502.13713647,
           1704.81692913,
           1856.86891892,
           2102.14585212,
           4613.78059093,
           4716.46270083,
           4633.61136678,
           4978.254944899999,
           4222.41657552,
           4184.88468363,
           4163.45010589,
           4468.96035161,
           2296.28956262,
           3061.11010693,
           3858.59212164,
           3830.10381024,
           3422.37480485,
           3819.83212874,
           3561.89036948,
           3848.1558436,
           3535.09801372,
           3622.59683256,
           2361.74387608,
           3126.42604539,
           4188.16067653,
           4516.24806759,
           4805.49388193,
           5960.69258613,
           5380.99306782,
           6276.95169203,
           6705.43983596,
           6967.21323874,
           1852.7357712,
           2241.91139524,
           3160.80483651,
           3155.62146854,
           3272.05274478,
           3690.65145306,
           3954.00370317,
           4049.35046526,
           4225.60695353,
           4120.3058212,
           2124.84853926,
           2388.41234673,
           4017.33738516,
           4336.0874042,
           4257.86440736,
           4616.39706207,
           4190.98422047,
           4203.3573666,
           4108.40129887,
           3985.80810152,
           350.101257861,
           607.702155943,
           1134.78649348,
           1469.54942907,
           1537.27769706,
           1791.83338591,
           2129.89451644,
           2282.13703466,
           2597.74828926,
           2734.92011068,
           1476.04957577,
           1880.53879751,
           2428.82933004,
           2630.75848148,
           2894.82745315,
           2423.17944795,
           2527.30162599,
           2520.15246577,
           2658.03637311,
           3028.29836932,
           3594.36178937,
           4403.96964669,
           5602.87016623,
           7076.20798768,
           7857.45488268,
           7755.39441578,
           8584.10049866,
           10804.6417156,
           14746.0313385,
           1412.72967684,
           1767.42510638,
           2194.51306452,
           2203.82152215,
           2356.8942567,
           2608.80658136,
           2775.21800345,
           3255.49845122,
           3661.32224061,
           3416.03094562,
           1007.04834663,
           1551.51917279,
           2050.73787712,
           2204.17980667,
           2206.54273411,
           2407.25635314,
           2627.34000777,
           2834.40294607,
           3017.97165871,
           3062.36054739,
           1927.97889182,
           2081.01162075,
           2762.80248267,
           4381.04179488,
           4560.27311991,
           3785.11593558,
           4387.67068914,
           4501.66087489,
           4579.47478164,
           4687.98228043,
           4843.79608802,
           2052.05448433,
           2815.68798736,
           3503.4299482,
           4060.10627707,
           4262.39171068,
           5048.49930916,
           5159.65421807,
           5477.88285412,
           5503.46451061,
           5864.97593092,
           1976.85979181,
           2199.05462052,
           2693.74527501,
           3251.8025717,
           3412.49866376,
           3535.48197152,
           2569.17533457,
           2643.12353589,
           2314.20257992,
           2526.9949602,
           363.164047972,
           486.585415324,
           745.283954565,
           845.368945104,
           1119.20463053,
           1241.1956653,
           1813.8858461,
           2083.48767635,
           2477.48974988,
           2402.47799385,
           2131.63973572,
           2735.43911555,
           2876.73333115,
           3027.56521622,
           2052.96292702,
           1989.99418196,
           1755.13002556,
           1904.09688616,
           2020.15373461,
           2299.90425855,
           2119.78208028,
           2248.15503566,
           3224.51944058,
           3780.58944725,
           3754.67958194,
           4074.77904741,
           3410.7278847,
           3361.88402225,
           3483.86750611,
           3320.45472221,
           2584.33517088,
           3310.40063325,
           3424.45287862,
           3627.52350948,
           605.223527325,
           881.3832485789999,
           1299.43101563,
           1667.64601643,
           1762.40454547,
           1919.44664907,
           2435.96962149,
           2666.2640552,
           3107.86734112,
           3180.03341956,
           2887.23625249,
           3630.19413871,
           4527.21372025,
           5054.83376436,
           4877.79989653,
           5763.0704408,
           5369.37035674,
           5672.0081772,
           5802.11010517,
           5472.13539173,
           1568.91106002,
           2040.8279002,
           2727.71921732,
           2877.79290941,
           2984.22326318,
           3430.8555125,
           3613.49260926,
           3526.10543855,
           3553.18855698,
           3410.15494794,
           410.021796967,
           484.393315616,
           605.1364652890001,
           778.4328071839999,
           732.662049648,
           917.976137079,
           960.859171935,
           1165.81161631,
           1139.69490969,
           1438.53526923,
           3087.34197183,
           3345.55349486,
           3747.96247517,
           3695.38387114,
           3397.12228872,
           3619.07726922,
           3684.72453527,
           3760.71236505,
           3685.8654787,
           3441.68876583
          ],
          "sizemode": "area",
          "sizeref": 36.86507834625,
          "symbol": "circle"
         },
         "mode": "markers",
         "name": "Europe",
         "orientation": "v",
         "showlegend": true,
         "type": "scatter",
         "x": [
          "Europe",
          "Europe",
          "Europe",
          "Europe",
          "Europe",
          "Europe",
          "Europe",
          "Europe",
          "Europe",
          "Europe",
          "Europe",
          "Europe",
          "Europe",
          "Europe",
          "Europe",
          "Europe",
          "Europe",
          "Europe",
          "Europe",
          "Europe",
          "Europe",
          "Europe",
          "Europe",
          "Europe",
          "Europe",
          "Europe",
          "Europe",
          "Europe",
          "Europe",
          "Europe",
          "Europe",
          "Europe",
          "Europe",
          "Europe",
          "Europe",
          "Europe",
          "Europe",
          "Europe",
          "Europe",
          "Europe",
          "Europe",
          "Europe",
          "Europe",
          "Europe",
          "Europe",
          "Europe",
          "Europe",
          "Europe",
          "Europe",
          "Europe",
          "Europe",
          "Europe",
          "Europe",
          "Europe",
          "Europe",
          "Europe",
          "Europe",
          "Europe",
          "Europe",
          "Europe",
          "Europe",
          "Europe",
          "Europe",
          "Europe",
          "Europe",
          "Europe",
          "Europe",
          "Europe",
          "Europe",
          "Europe",
          "Europe",
          "Europe",
          "Europe",
          "Europe",
          "Europe",
          "Europe",
          "Europe",
          "Europe",
          "Europe",
          "Europe",
          "Europe",
          "Europe",
          "Europe",
          "Europe",
          "Europe",
          "Europe",
          "Europe",
          "Europe",
          "Europe",
          "Europe",
          "Europe",
          "Europe",
          "Europe",
          "Europe",
          "Europe",
          "Europe",
          "Europe",
          "Europe",
          "Europe",
          "Europe",
          "Europe",
          "Europe",
          "Europe",
          "Europe",
          "Europe",
          "Europe",
          "Europe",
          "Europe",
          "Europe",
          "Europe",
          "Europe",
          "Europe",
          "Europe",
          "Europe",
          "Europe",
          "Europe",
          "Europe",
          "Europe",
          "Europe",
          "Europe",
          "Europe",
          "Europe",
          "Europe",
          "Europe",
          "Europe",
          "Europe",
          "Europe",
          "Europe",
          "Europe",
          "Europe",
          "Europe",
          "Europe",
          "Europe",
          "Europe",
          "Europe",
          "Europe",
          "Europe",
          "Europe",
          "Europe",
          "Europe",
          "Europe",
          "Europe",
          "Europe",
          "Europe",
          "Europe",
          "Europe",
          "Europe",
          "Europe",
          "Europe",
          "Europe",
          "Europe",
          "Europe",
          "Europe",
          "Europe",
          "Europe",
          "Europe",
          "Europe",
          "Europe",
          "Europe",
          "Europe",
          "Europe",
          "Europe",
          "Europe",
          "Europe",
          "Europe",
          "Europe",
          "Europe",
          "Europe",
          "Europe",
          "Europe",
          "Europe",
          "Europe",
          "Europe",
          "Europe",
          "Europe",
          "Europe",
          "Europe",
          "Europe",
          "Europe",
          "Europe",
          "Europe",
          "Europe",
          "Europe",
          "Europe",
          "Europe",
          "Europe",
          "Europe",
          "Europe",
          "Europe",
          "Europe",
          "Europe",
          "Europe",
          "Europe",
          "Europe",
          "Europe",
          "Europe",
          "Europe",
          "Europe",
          "Europe",
          "Europe",
          "Europe",
          "Europe",
          "Europe",
          "Europe",
          "Europe",
          "Europe",
          "Europe",
          "Europe",
          "Europe",
          "Europe",
          "Europe",
          "Europe",
          "Europe",
          "Europe",
          "Europe",
          "Europe",
          "Europe",
          "Europe",
          "Europe",
          "Europe",
          "Europe",
          "Europe",
          "Europe",
          "Europe",
          "Europe",
          "Europe",
          "Europe",
          "Europe",
          "Europe",
          "Europe",
          "Europe",
          "Europe",
          "Europe",
          "Europe",
          "Europe",
          "Europe",
          "Europe",
          "Europe",
          "Europe",
          "Europe",
          "Europe",
          "Europe",
          "Europe",
          "Europe",
          "Europe",
          "Europe",
          "Europe",
          "Europe",
          "Europe",
          "Europe",
          "Europe",
          "Europe",
          "Europe",
          "Europe",
          "Europe",
          "Europe"
         ],
         "xaxis": "x",
         "y": [
          865.592481207,
          923.728867504,
          966.683283781,
          921.893044018,
          418.286629757,
          384.594958328,
          645.080153785,
          679.861765101,
          1675.87362115,
          1920.21212423,
          2627.32249578,
          2797.42192238,
          2830.22178095,
          3174.74539203,
          3239.0639673,
          3542.5214303,
          3765.28296302,
          4029.62695258,
          2810.06114801,
          3182.9234575,
          4473.92951273,
          4589.52441,
          4208.25780214,
          4727.68639528,
          5092.96578511,
          5579.51075728,
          5461.40290348,
          5389.28164733,
          1034.34415156,
          712.9252777060001,
          1156.99672325,
          1381.12205494,
          2262.78654882,
          2954.26673889,
          3309.20642511,
          3411.07339479,
          2396.00726637,
          2504.12268042,
          2401.37660851,
          2666.11144524,
          1502.13713647,
          1704.81692913,
          1856.86891892,
          2102.14585212,
          4613.78059093,
          4716.46270083,
          4633.61136678,
          4978.254944899999,
          4222.41657552,
          4184.88468363,
          4163.45010589,
          4468.96035161,
          2296.28956262,
          3061.11010693,
          3858.59212164,
          3830.10381024,
          3422.37480485,
          3819.83212874,
          3561.89036948,
          3848.1558436,
          3535.09801372,
          3622.59683256,
          2361.74387608,
          3126.42604539,
          4188.16067653,
          4516.24806759,
          4805.49388193,
          5960.69258613,
          5380.99306782,
          6276.95169203,
          6705.43983596,
          6967.21323874,
          1852.7357712,
          2241.91139524,
          3160.80483651,
          3155.62146854,
          3272.05274478,
          3690.65145306,
          3954.00370317,
          4049.35046526,
          4225.60695353,
          4120.3058212,
          2124.84853926,
          2388.41234673,
          4017.33738516,
          4336.0874042,
          4257.86440736,
          4616.39706207,
          4190.98422047,
          4203.3573666,
          4108.40129887,
          3985.80810152,
          350.101257861,
          607.702155943,
          1134.78649348,
          1469.54942907,
          1537.27769706,
          1791.83338591,
          2129.89451644,
          2282.13703466,
          2597.74828926,
          2734.92011068,
          1476.04957577,
          1880.53879751,
          2428.82933004,
          2630.75848148,
          2894.82745315,
          2423.17944795,
          2527.30162599,
          2520.15246577,
          2658.03637311,
          3028.29836932,
          3594.36178937,
          4403.96964669,
          5602.87016623,
          7076.20798768,
          7857.45488268,
          7755.39441578,
          8584.10049866,
          10804.6417156,
          14746.0313385,
          1412.72967684,
          1767.42510638,
          2194.51306452,
          2203.82152215,
          2356.8942567,
          2608.80658136,
          2775.21800345,
          3255.49845122,
          3661.32224061,
          3416.03094562,
          1007.04834663,
          1551.51917279,
          2050.73787712,
          2204.17980667,
          2206.54273411,
          2407.25635314,
          2627.34000777,
          2834.40294607,
          3017.97165871,
          3062.36054739,
          1927.97889182,
          2081.01162075,
          2762.80248267,
          4381.04179488,
          4560.27311991,
          3785.11593558,
          4387.67068914,
          4501.66087489,
          4579.47478164,
          4687.98228043,
          4843.79608802,
          2052.05448433,
          2815.68798736,
          3503.4299482,
          4060.10627707,
          4262.39171068,
          5048.49930916,
          5159.65421807,
          5477.88285412,
          5503.46451061,
          5864.97593092,
          1976.85979181,
          2199.05462052,
          2693.74527501,
          3251.8025717,
          3412.49866376,
          3535.48197152,
          2569.17533457,
          2643.12353589,
          2314.20257992,
          2526.9949602,
          363.164047972,
          486.585415324,
          745.283954565,
          845.368945104,
          1119.20463053,
          1241.1956653,
          1813.8858461,
          2083.48767635,
          2477.48974988,
          2402.47799385,
          2131.63973572,
          2735.43911555,
          2876.73333115,
          3027.56521622,
          2052.96292702,
          1989.99418196,
          1755.13002556,
          1904.09688616,
          2020.15373461,
          2299.90425855,
          2119.78208028,
          2248.15503566,
          3224.51944058,
          3780.58944725,
          3754.67958194,
          4074.77904741,
          3410.7278847,
          3361.88402225,
          3483.86750611,
          3320.45472221,
          2584.33517088,
          3310.40063325,
          3424.45287862,
          3627.52350948,
          605.223527325,
          881.3832485789999,
          1299.43101563,
          1667.64601643,
          1762.40454547,
          1919.44664907,
          2435.96962149,
          2666.2640552,
          3107.86734112,
          3180.03341956,
          2887.23625249,
          3630.19413871,
          4527.21372025,
          5054.83376436,
          4877.79989653,
          5763.0704408,
          5369.37035674,
          5672.0081772,
          5802.11010517,
          5472.13539173,
          1568.91106002,
          2040.8279002,
          2727.71921732,
          2877.79290941,
          2984.22326318,
          3430.8555125,
          3613.49260926,
          3526.10543855,
          3553.18855698,
          3410.15494794,
          410.021796967,
          484.393315616,
          605.1364652890001,
          778.4328071839999,
          732.662049648,
          917.976137079,
          960.859171935,
          1165.81161631,
          1139.69490969,
          1438.53526923,
          3087.34197183,
          3345.55349486,
          3747.96247517,
          3695.38387114,
          3397.12228872,
          3619.07726922,
          3684.72453527,
          3760.71236505,
          3685.8654787,
          3441.68876583
         ],
         "yaxis": "y"
        },
        {
         "hovertemplate": "<b>%{hovertext}</b><br><br>continent=%{x}<br>Energy Use (kg of oil equivalent per capita)=%{marker.size}<extra></extra>",
         "hovertext": [
          "Algeria",
          "Algeria",
          "Algeria",
          "Algeria",
          "Algeria",
          "Algeria",
          "Algeria",
          "Algeria",
          "Angola",
          "Angola",
          "Angola",
          "Angola",
          "Angola",
          "Angola",
          "Angola",
          "Angola",
          "Benin",
          "Benin",
          "Benin",
          "Benin",
          "Benin",
          "Benin",
          "Benin",
          "Benin",
          "Botswana",
          "Botswana",
          "Botswana",
          "Botswana",
          "Botswana",
          "Botswana",
          "Cameroon",
          "Cameroon",
          "Cameroon",
          "Cameroon",
          "Cameroon",
          "Cameroon",
          "Cameroon",
          "Cameroon",
          "Comoros",
          "Cote d'Ivoire",
          "Cote d'Ivoire",
          "Cote d'Ivoire",
          "Cote d'Ivoire",
          "Cote d'Ivoire",
          "Cote d'Ivoire",
          "Cote d'Ivoire",
          "Cote d'Ivoire",
          "Djibouti",
          "Equatorial Guinea",
          "Eritrea",
          "Eritrea",
          "Eritrea",
          "Eritrea",
          "Ethiopia",
          "Ethiopia",
          "Ethiopia",
          "Ethiopia",
          "Ethiopia",
          "Ethiopia",
          "Ethiopia",
          "Ethiopia",
          "Gabon",
          "Gabon",
          "Gabon",
          "Gabon",
          "Gabon",
          "Gabon",
          "Gabon",
          "Gabon",
          "Ghana",
          "Ghana",
          "Ghana",
          "Ghana",
          "Ghana",
          "Ghana",
          "Ghana",
          "Ghana",
          "Guinea-Bissau",
          "Kenya",
          "Kenya",
          "Kenya",
          "Kenya",
          "Kenya",
          "Kenya",
          "Kenya",
          "Kenya",
          "Lesotho",
          "Libya",
          "Libya",
          "Libya",
          "Libya",
          "Libya",
          "Libya",
          "Libya",
          "Libya",
          "Mauritius",
          "Mauritius",
          "Mauritius",
          "Mauritius",
          "Mauritius",
          "Mauritius",
          "Mauritius",
          "Mauritius",
          "Morocco",
          "Morocco",
          "Morocco",
          "Morocco",
          "Morocco",
          "Morocco",
          "Morocco",
          "Morocco",
          "Mozambique",
          "Mozambique",
          "Mozambique",
          "Mozambique",
          "Mozambique",
          "Mozambique",
          "Mozambique",
          "Mozambique",
          "Namibia",
          "Namibia",
          "Namibia",
          "Namibia",
          "Niger",
          "Niger",
          "Nigeria",
          "Nigeria",
          "Nigeria",
          "Nigeria",
          "Nigeria",
          "Nigeria",
          "Nigeria",
          "Nigeria",
          "Sao Tome and Principe",
          "Senegal",
          "Senegal",
          "Senegal",
          "Senegal",
          "Senegal",
          "Senegal",
          "Senegal",
          "Senegal",
          "South Africa",
          "South Africa",
          "South Africa",
          "South Africa",
          "South Africa",
          "South Africa",
          "South Africa",
          "South Africa",
          "Sudan",
          "Sudan",
          "Sudan",
          "Sudan",
          "Sudan",
          "Sudan",
          "Sudan",
          "Sudan",
          "Swaziland",
          "Tanzania",
          "Tanzania",
          "Tanzania",
          "Tanzania",
          "Tanzania",
          "Tanzania",
          "Tanzania",
          "Tanzania",
          "Togo",
          "Togo",
          "Togo",
          "Togo",
          "Togo",
          "Togo",
          "Togo",
          "Togo",
          "Tunisia",
          "Tunisia",
          "Tunisia",
          "Tunisia",
          "Tunisia",
          "Tunisia",
          "Tunisia",
          "Tunisia",
          "Zambia",
          "Zambia",
          "Zambia",
          "Zambia",
          "Zambia",
          "Zambia",
          "Zambia",
          "Zambia",
          "Zimbabwe",
          "Zimbabwe",
          "Zimbabwe",
          "Zimbabwe",
          "Zimbabwe",
          "Zimbabwe",
          "Zimbabwe",
          "Zimbabwe"
         ],
         "legendgroup": "Africa",
         "marker": {
          "color": "#EF553B",
          "size": [
           261.465250751,
           398.656113469,
           771.235497639,
           827.552506829,
           883.7458819,
           804.842705115,
           904.456391853,
           1075.19412704,
           629.301934363,
           535.2524622330001,
           514.415934309,
           502.598458911,
           511.237051724,
           494.174484207,
           515.4034564030001,
           561.5501055130001,
           380.812029086,
           363.746124276,
           355.338045025,
           347.306591796,
           321.349456122,
           350.78972053,
           305.04923703400004,
           368.216084341,
           739.29915268,
           743.685354401,
           979.087310581,
           900.173527778,
           1032.6780741,
           1028.07041536,
           386.14642293800006,
           402.624623832,
           423.360959463,
           417.73292245,
           397.277540786,
           396.727156517,
           389.52261441,
           332.30332161,
           63.1348128438,
           453.243100247,
           449.52124719,
           393.432418022,
           383.372484812,
           373.659519455,
           386.175169435,
           406.144021726,
           539.7271851830001,
           178.904528787,
           2641.94245101,
           277.580928028,
           319.16492977400003,
           197.54986892,
           162.700034655,
           434.793195834,
           432.458375494,
           434.058222854,
           437.234995296,
           431.15182408,
           435.145404589,
           439.254909387,
           442.86665148300006,
           1707.3062928,
           2000.90013642,
           2069.78785109,
           1470.39664628,
           1298.09635297,
           1236.01768782,
           1229.36459426,
           1281.68189093,
           348.93189080300004,
           381.515147025,
           376.7088969880001,
           363.852104774,
           366.522645114,
           398.339353834,
           317.525749335,
           278.760989471,
           62.1995597581,
           455.513600948,
           455.626061673,
           437.652286948,
           464.00933684,
           445.111805733,
           441.007660811,
           440.968733004,
           462.22025237800005,
           9.71541007212,
           952.733553333,
           1455.08414725,
           2397.98259634,
           2700.28315715,
           2452.19740381,
           2991.94395278,
           3071.77483233,
           2725.88792504,
           435.059790882,
           474.222876797,
           414.601806914,
           512.011597538,
           657.7868228880001,
           712.571976967,
           873.195801833,
           1007.57484088,
           190.387995598,
           252.036810104,
           268.259441677,
           277.485699249,
           327.952990834,
           362.27042057,
           402.312789339,
           487.448713086,
           699.0228986210001,
           608.405141326,
           523.782627433,
           474.548861116,
           420.272139083,
           390.685096382,
           395.127686774,
           407.278749651,
           496.518769708,
           594.756148267,
           579.8782172790001,
           659.366428344,
           130.047629217,
           128.026173022,
           583.794808164,
           634.258748201,
           689.4945390439999,
           674.47298453,
           719.308370017,
           696.8847876410001,
           721.312209806,
           747.1012487439999,
           274.890043982,
           280.837670795,
           281.840462003,
           260.719421235,
           254.211898654,
           222.634685966,
           221.005820684,
           253.315356135,
           252.409846662,
           1997.49821372,
           2208.54919916,
           2699.72841558,
           2831.14750181,
           2414.3981946,
           2655.26925959,
           2421.00577767,
           2805.48565552,
           485.018934669,
           445.524031505,
           431.003010124,
           397.42097884300006,
           386.72897561,
           392.294923579,
           411.137505242,
           366.495542,
           372.735499664,
           527.0538798619999,
           455.445767964,
           414.717967022,
           394.145177081,
           369.835021604,
           357.261154316,
           416.002267994,
           442.62215764,
           332.041867346,
           327.998948608,
           327.324375984,
           328.062332773,
           328.69853999,
           384.078207642,
           424.034097572,
           417.118049767,
           341.737804158,
           427.302747359,
           493.048630903,
           542.645168334,
           641.6905970619999,
           679.079751272,
           801.489193653,
           883.981281357,
           857.0932537580002,
           819.7872201060001,
           756.612333199,
           700.14084375,
           662.721536129,
           617.209365016,
           598.548219754,
           588.018958956,
           994.184786353,
           921.65469562,
           842.372683813,
           896.673611477,
           923.493407317,
           804.5088922269998,
           772.6766193660001,
           725.6810488469998
          ],
          "sizemode": "area",
          "sizeref": 36.86507834625,
          "symbol": "circle"
         },
         "mode": "markers",
         "name": "Africa",
         "orientation": "v",
         "showlegend": true,
         "type": "scatter",
         "x": [
          "Africa",
          "Africa",
          "Africa",
          "Africa",
          "Africa",
          "Africa",
          "Africa",
          "Africa",
          "Africa",
          "Africa",
          "Africa",
          "Africa",
          "Africa",
          "Africa",
          "Africa",
          "Africa",
          "Africa",
          "Africa",
          "Africa",
          "Africa",
          "Africa",
          "Africa",
          "Africa",
          "Africa",
          "Africa",
          "Africa",
          "Africa",
          "Africa",
          "Africa",
          "Africa",
          "Africa",
          "Africa",
          "Africa",
          "Africa",
          "Africa",
          "Africa",
          "Africa",
          "Africa",
          "Africa",
          "Africa",
          "Africa",
          "Africa",
          "Africa",
          "Africa",
          "Africa",
          "Africa",
          "Africa",
          "Africa",
          "Africa",
          "Africa",
          "Africa",
          "Africa",
          "Africa",
          "Africa",
          "Africa",
          "Africa",
          "Africa",
          "Africa",
          "Africa",
          "Africa",
          "Africa",
          "Africa",
          "Africa",
          "Africa",
          "Africa",
          "Africa",
          "Africa",
          "Africa",
          "Africa",
          "Africa",
          "Africa",
          "Africa",
          "Africa",
          "Africa",
          "Africa",
          "Africa",
          "Africa",
          "Africa",
          "Africa",
          "Africa",
          "Africa",
          "Africa",
          "Africa",
          "Africa",
          "Africa",
          "Africa",
          "Africa",
          "Africa",
          "Africa",
          "Africa",
          "Africa",
          "Africa",
          "Africa",
          "Africa",
          "Africa",
          "Africa",
          "Africa",
          "Africa",
          "Africa",
          "Africa",
          "Africa",
          "Africa",
          "Africa",
          "Africa",
          "Africa",
          "Africa",
          "Africa",
          "Africa",
          "Africa",
          "Africa",
          "Africa",
          "Africa",
          "Africa",
          "Africa",
          "Africa",
          "Africa",
          "Africa",
          "Africa",
          "Africa",
          "Africa",
          "Africa",
          "Africa",
          "Africa",
          "Africa",
          "Africa",
          "Africa",
          "Africa",
          "Africa",
          "Africa",
          "Africa",
          "Africa",
          "Africa",
          "Africa",
          "Africa",
          "Africa",
          "Africa",
          "Africa",
          "Africa",
          "Africa",
          "Africa",
          "Africa",
          "Africa",
          "Africa",
          "Africa",
          "Africa",
          "Africa",
          "Africa",
          "Africa",
          "Africa",
          "Africa",
          "Africa",
          "Africa",
          "Africa",
          "Africa",
          "Africa",
          "Africa",
          "Africa",
          "Africa",
          "Africa",
          "Africa",
          "Africa",
          "Africa",
          "Africa",
          "Africa",
          "Africa",
          "Africa",
          "Africa",
          "Africa",
          "Africa",
          "Africa",
          "Africa",
          "Africa",
          "Africa",
          "Africa",
          "Africa",
          "Africa",
          "Africa",
          "Africa",
          "Africa",
          "Africa",
          "Africa",
          "Africa",
          "Africa",
          "Africa",
          "Africa",
          "Africa",
          "Africa",
          "Africa",
          "Africa",
          "Africa",
          "Africa",
          "Africa",
          "Africa",
          "Africa",
          "Africa",
          "Africa",
          "Africa",
          "Africa",
          "Africa"
         ],
         "xaxis": "x",
         "y": [
          261.465250751,
          398.656113469,
          771.235497639,
          827.552506829,
          883.7458819,
          804.842705115,
          904.456391853,
          1075.19412704,
          629.301934363,
          535.2524622330001,
          514.415934309,
          502.598458911,
          511.237051724,
          494.174484207,
          515.4034564030001,
          561.5501055130001,
          380.812029086,
          363.746124276,
          355.338045025,
          347.306591796,
          321.349456122,
          350.78972053,
          305.04923703400004,
          368.216084341,
          739.29915268,
          743.685354401,
          979.087310581,
          900.173527778,
          1032.6780741,
          1028.07041536,
          386.14642293800006,
          402.624623832,
          423.360959463,
          417.73292245,
          397.277540786,
          396.727156517,
          389.52261441,
          332.30332161,
          63.1348128438,
          453.243100247,
          449.52124719,
          393.432418022,
          383.372484812,
          373.659519455,
          386.175169435,
          406.144021726,
          539.7271851830001,
          178.904528787,
          2641.94245101,
          277.580928028,
          319.16492977400003,
          197.54986892,
          162.700034655,
          434.793195834,
          432.458375494,
          434.058222854,
          437.234995296,
          431.15182408,
          435.145404589,
          439.254909387,
          442.86665148300006,
          1707.3062928,
          2000.90013642,
          2069.78785109,
          1470.39664628,
          1298.09635297,
          1236.01768782,
          1229.36459426,
          1281.68189093,
          348.93189080300004,
          381.515147025,
          376.7088969880001,
          363.852104774,
          366.522645114,
          398.339353834,
          317.525749335,
          278.760989471,
          62.1995597581,
          455.513600948,
          455.626061673,
          437.652286948,
          464.00933684,
          445.111805733,
          441.007660811,
          440.968733004,
          462.22025237800005,
          9.71541007212,
          952.733553333,
          1455.08414725,
          2397.98259634,
          2700.28315715,
          2452.19740381,
          2991.94395278,
          3071.77483233,
          2725.88792504,
          435.059790882,
          474.222876797,
          414.601806914,
          512.011597538,
          657.7868228880001,
          712.571976967,
          873.195801833,
          1007.57484088,
          190.387995598,
          252.036810104,
          268.259441677,
          277.485699249,
          327.952990834,
          362.27042057,
          402.312789339,
          487.448713086,
          699.0228986210001,
          608.405141326,
          523.782627433,
          474.548861116,
          420.272139083,
          390.685096382,
          395.127686774,
          407.278749651,
          496.518769708,
          594.756148267,
          579.8782172790001,
          659.366428344,
          130.047629217,
          128.026173022,
          583.794808164,
          634.258748201,
          689.4945390439999,
          674.47298453,
          719.308370017,
          696.8847876410001,
          721.312209806,
          747.1012487439999,
          274.890043982,
          280.837670795,
          281.840462003,
          260.719421235,
          254.211898654,
          222.634685966,
          221.005820684,
          253.315356135,
          252.409846662,
          1997.49821372,
          2208.54919916,
          2699.72841558,
          2831.14750181,
          2414.3981946,
          2655.26925959,
          2421.00577767,
          2805.48565552,
          485.018934669,
          445.524031505,
          431.003010124,
          397.42097884300006,
          386.72897561,
          392.294923579,
          411.137505242,
          366.495542,
          372.735499664,
          527.0538798619999,
          455.445767964,
          414.717967022,
          394.145177081,
          369.835021604,
          357.261154316,
          416.002267994,
          442.62215764,
          332.041867346,
          327.998948608,
          327.324375984,
          328.062332773,
          328.69853999,
          384.078207642,
          424.034097572,
          417.118049767,
          341.737804158,
          427.302747359,
          493.048630903,
          542.645168334,
          641.6905970619999,
          679.079751272,
          801.489193653,
          883.981281357,
          857.0932537580002,
          819.7872201060001,
          756.612333199,
          700.14084375,
          662.721536129,
          617.209365016,
          598.548219754,
          588.018958956,
          994.184786353,
          921.65469562,
          842.372683813,
          896.673611477,
          923.493407317,
          804.5088922269998,
          772.6766193660001,
          725.6810488469998
         ],
         "yaxis": "y"
        },
        {
         "hovertemplate": "<b>%{hovertext}</b><br><br>continent=%{x}<br>Energy Use (kg of oil equivalent per capita)=%{marker.size}<extra></extra>",
         "hovertext": [
          "Argentina",
          "Argentina",
          "Argentina",
          "Argentina",
          "Argentina",
          "Argentina",
          "Argentina",
          "Argentina",
          "Bolivia",
          "Bolivia",
          "Bolivia",
          "Bolivia",
          "Bolivia",
          "Bolivia",
          "Bolivia",
          "Bolivia",
          "Brazil",
          "Brazil",
          "Brazil",
          "Brazil",
          "Brazil",
          "Brazil",
          "Brazil",
          "Brazil",
          "Canada",
          "Canada",
          "Canada",
          "Canada",
          "Canada",
          "Canada",
          "Canada",
          "Canada",
          "Canada",
          "Canada",
          "Chile",
          "Chile",
          "Chile",
          "Chile",
          "Chile",
          "Chile",
          "Chile",
          "Chile",
          "Colombia",
          "Colombia",
          "Colombia",
          "Colombia",
          "Colombia",
          "Colombia",
          "Colombia",
          "Colombia",
          "Costa Rica",
          "Costa Rica",
          "Costa Rica",
          "Costa Rica",
          "Costa Rica",
          "Costa Rica",
          "Costa Rica",
          "Costa Rica",
          "Cuba",
          "Cuba",
          "Cuba",
          "Cuba",
          "Cuba",
          "Cuba",
          "Cuba",
          "Cuba",
          "Dominican Republic",
          "Dominican Republic",
          "Dominican Republic",
          "Dominican Republic",
          "Dominican Republic",
          "Dominican Republic",
          "Dominican Republic",
          "Dominican Republic",
          "Ecuador",
          "Ecuador",
          "Ecuador",
          "Ecuador",
          "Ecuador",
          "Ecuador",
          "Ecuador",
          "Ecuador",
          "El Salvador",
          "El Salvador",
          "El Salvador",
          "El Salvador",
          "El Salvador",
          "El Salvador",
          "El Salvador",
          "El Salvador",
          "Guatemala",
          "Guatemala",
          "Guatemala",
          "Guatemala",
          "Guatemala",
          "Guatemala",
          "Guatemala",
          "Guatemala",
          "Haiti",
          "Haiti",
          "Haiti",
          "Haiti",
          "Haiti",
          "Haiti",
          "Haiti",
          "Haiti",
          "Honduras",
          "Honduras",
          "Honduras",
          "Honduras",
          "Honduras",
          "Honduras",
          "Honduras",
          "Honduras",
          "Jamaica",
          "Jamaica",
          "Jamaica",
          "Jamaica",
          "Jamaica",
          "Jamaica",
          "Jamaica",
          "Jamaica",
          "Mexico",
          "Mexico",
          "Mexico",
          "Mexico",
          "Mexico",
          "Mexico",
          "Mexico",
          "Mexico",
          "Nicaragua",
          "Nicaragua",
          "Nicaragua",
          "Nicaragua",
          "Nicaragua",
          "Nicaragua",
          "Nicaragua",
          "Nicaragua",
          "Panama",
          "Panama",
          "Panama",
          "Panama",
          "Panama",
          "Panama",
          "Panama",
          "Panama",
          "Paraguay",
          "Paraguay",
          "Paraguay",
          "Paraguay",
          "Paraguay",
          "Paraguay",
          "Paraguay",
          "Paraguay",
          "Peru",
          "Peru",
          "Peru",
          "Peru",
          "Peru",
          "Peru",
          "Peru",
          "Peru",
          "Trinidad and Tobago",
          "Trinidad and Tobago",
          "Trinidad and Tobago",
          "Trinidad and Tobago",
          "Trinidad and Tobago",
          "Trinidad and Tobago",
          "Trinidad and Tobago",
          "Trinidad and Tobago",
          "United States",
          "United States",
          "United States",
          "United States",
          "United States",
          "United States",
          "United States",
          "United States",
          "United States",
          "United States",
          "Uruguay",
          "Uruguay",
          "Uruguay",
          "Uruguay",
          "Uruguay",
          "Uruguay",
          "Uruguay",
          "Uruguay"
         ],
         "legendgroup": "Americas",
         "marker": {
          "color": "#00cc96",
          "size": [
           1379.81886741,
           1420.56765898,
           1416.53992488,
           1477.07652885,
           1484.0589177000004,
           1614.33824027,
           1502.22488095,
           1846.93675639,
           240.157170254,
           331.439253894,
           462.43170312,
           341.493450003,
           399.828007323,
           561.077061465,
           528.760849998,
           561.052703379,
           741.6918705969998,
           868.475086329,
           867.193602187,
           987.562557183,
           929.003678998,
           1061.83829204,
           1081.26747985,
           1221.36231051,
           4451.56011604,
           5557.29174015,
           6933.60655182,
           7409.53000504,
           7149.344059999999,
           7641.32410546,
           7479.477427399999,
           7965.51932158,
           7920.11022894,
           8130.58019344,
           891.2738674039999,
           779.391621026,
           763.201224638,
           826.260796732,
           1141.81007039,
           1558.78524634,
           1644.79154564,
           1860.10017433,
           598.975288294,
           638.025434659,
           635.432893568,
           696.0663928460001,
           704.354798517,
           709.8217022360001,
           606.266720641,
           637.510761494,
           442.444664949,
           528.165846592,
           455.822967416,
           491.495062694,
           705.487675532,
           647.0037811669999,
           748.21348058,
           1031.80869969,
           1154.55654156,
           1424.73743541,
           1536.90510757,
           1578.25907104,
           1214.11700599,
           1125.97333686,
           1053.28051042,
           904.662628457,
           573.372745636,
           601.951784846,
           596.93367919,
           594.381238984,
           603.781376066,
           749.844735219,
           819.797049144,
           763.408932512,
           360.600661999,
           568.073705272,
           666.635807378,
           602.470062495,
           629.220777401,
           721.687588695,
           739.4547575380002,
           833.203582927,
           484.967888203,
           622.1297874219999,
           595.2355137530001,
           503.481769676,
           525.453706523,
           624.096762293,
           720.3532811819998,
           748.1199930380002,
           491.473442413,
           574.359356263,
           482.712477796,
           448.694681999,
           497.344297754,
           526.326033275,
           590.478746775,
           616.892076168,
           317.810225983,
           350.433910995,
           301.847692756,
           226.326971354,
           219.075496949,
           252.463093356,
           261.374331488,
           384.513775199,
           499.277043223,
           512.605428263,
           520.393217065,
           481.319956646,
           483.335543947,
           528.901564325,
           516.4041365740001,
           657.398639731,
           1331.9860874,
           1153.48652689,
           1040.31180401,
           765.4628605460001,
           1215.0555252,
           1333.59707253,
           1371.65658542,
           1578.42891649,
           856.81120942,
           1063.78037111,
           1465.05024708,
           1379.33314201,
           1452.97190576,
           1398.88398183,
           1412.86939872,
           1551.28978352,
           487.96346663800006,
           585.0413863719999,
           469.268615848,
           502.383245685,
           509.839947747,
           503.04461939,
           508.740585366,
           521.961949752,
           1159.6892715999998,
           899.7691370580002,
           796.469906347,
           730.8000538289999,
           715.38365957,
           777.742373207,
           834.670915895,
           879.523836391,
           540.588375968,
           580.530937274,
           630.648885594,
           699.102776962,
           712.691343364,
           877.0448880460001,
           705.433761481,
           708.7828687130002,
           648.807999388,
           678.509067152,
           632.7254874390001,
           540.974320389,
           408.43313224,
           440.557973649,
           446.340827194,
           506.633143848,
           2772.88276961,
           2808.51679767,
           3648.18714807,
           4188.6453215,
           5286.28687516,
           5437.91312128,
           9356.78097414,
           14608.0098682,
           5774.58631485,
           6809.82048392,
           7940.99783226,
           8285.57089798,
           7259.07889875,
           7622.17301652,
           7677.40140109,
           7828.5810964,
           7843.34484914,
           7758.16570028,
           872.986354117,
           868.792103341,
           766.1430987780002,
           718.448623294,
           855.1247871139999,
           880.633650605,
           762.6981432010001,
           947.838610674
          ],
          "sizemode": "area",
          "sizeref": 36.86507834625,
          "symbol": "circle"
         },
         "mode": "markers",
         "name": "Americas",
         "orientation": "v",
         "showlegend": true,
         "type": "scatter",
         "x": [
          "Americas",
          "Americas",
          "Americas",
          "Americas",
          "Americas",
          "Americas",
          "Americas",
          "Americas",
          "Americas",
          "Americas",
          "Americas",
          "Americas",
          "Americas",
          "Americas",
          "Americas",
          "Americas",
          "Americas",
          "Americas",
          "Americas",
          "Americas",
          "Americas",
          "Americas",
          "Americas",
          "Americas",
          "Americas",
          "Americas",
          "Americas",
          "Americas",
          "Americas",
          "Americas",
          "Americas",
          "Americas",
          "Americas",
          "Americas",
          "Americas",
          "Americas",
          "Americas",
          "Americas",
          "Americas",
          "Americas",
          "Americas",
          "Americas",
          "Americas",
          "Americas",
          "Americas",
          "Americas",
          "Americas",
          "Americas",
          "Americas",
          "Americas",
          "Americas",
          "Americas",
          "Americas",
          "Americas",
          "Americas",
          "Americas",
          "Americas",
          "Americas",
          "Americas",
          "Americas",
          "Americas",
          "Americas",
          "Americas",
          "Americas",
          "Americas",
          "Americas",
          "Americas",
          "Americas",
          "Americas",
          "Americas",
          "Americas",
          "Americas",
          "Americas",
          "Americas",
          "Americas",
          "Americas",
          "Americas",
          "Americas",
          "Americas",
          "Americas",
          "Americas",
          "Americas",
          "Americas",
          "Americas",
          "Americas",
          "Americas",
          "Americas",
          "Americas",
          "Americas",
          "Americas",
          "Americas",
          "Americas",
          "Americas",
          "Americas",
          "Americas",
          "Americas",
          "Americas",
          "Americas",
          "Americas",
          "Americas",
          "Americas",
          "Americas",
          "Americas",
          "Americas",
          "Americas",
          "Americas",
          "Americas",
          "Americas",
          "Americas",
          "Americas",
          "Americas",
          "Americas",
          "Americas",
          "Americas",
          "Americas",
          "Americas",
          "Americas",
          "Americas",
          "Americas",
          "Americas",
          "Americas",
          "Americas",
          "Americas",
          "Americas",
          "Americas",
          "Americas",
          "Americas",
          "Americas",
          "Americas",
          "Americas",
          "Americas",
          "Americas",
          "Americas",
          "Americas",
          "Americas",
          "Americas",
          "Americas",
          "Americas",
          "Americas",
          "Americas",
          "Americas",
          "Americas",
          "Americas",
          "Americas",
          "Americas",
          "Americas",
          "Americas",
          "Americas",
          "Americas",
          "Americas",
          "Americas",
          "Americas",
          "Americas",
          "Americas",
          "Americas",
          "Americas",
          "Americas",
          "Americas",
          "Americas",
          "Americas",
          "Americas",
          "Americas",
          "Americas",
          "Americas",
          "Americas",
          "Americas",
          "Americas",
          "Americas",
          "Americas",
          "Americas",
          "Americas",
          "Americas",
          "Americas",
          "Americas",
          "Americas",
          "Americas",
          "Americas",
          "Americas",
          "Americas",
          "Americas",
          "Americas",
          "Americas",
          "Americas",
          "Americas",
          "Americas",
          "Americas",
          "Americas",
          "Americas"
         ],
         "xaxis": "x",
         "y": [
          1379.81886741,
          1420.56765898,
          1416.53992488,
          1477.07652885,
          1484.0589177000004,
          1614.33824027,
          1502.22488095,
          1846.93675639,
          240.157170254,
          331.439253894,
          462.43170312,
          341.493450003,
          399.828007323,
          561.077061465,
          528.760849998,
          561.052703379,
          741.6918705969998,
          868.475086329,
          867.193602187,
          987.562557183,
          929.003678998,
          1061.83829204,
          1081.26747985,
          1221.36231051,
          4451.56011604,
          5557.29174015,
          6933.60655182,
          7409.53000504,
          7149.344059999999,
          7641.32410546,
          7479.477427399999,
          7965.51932158,
          7920.11022894,
          8130.58019344,
          891.2738674039999,
          779.391621026,
          763.201224638,
          826.260796732,
          1141.81007039,
          1558.78524634,
          1644.79154564,
          1860.10017433,
          598.975288294,
          638.025434659,
          635.432893568,
          696.0663928460001,
          704.354798517,
          709.8217022360001,
          606.266720641,
          637.510761494,
          442.444664949,
          528.165846592,
          455.822967416,
          491.495062694,
          705.487675532,
          647.0037811669999,
          748.21348058,
          1031.80869969,
          1154.55654156,
          1424.73743541,
          1536.90510757,
          1578.25907104,
          1214.11700599,
          1125.97333686,
          1053.28051042,
          904.662628457,
          573.372745636,
          601.951784846,
          596.93367919,
          594.381238984,
          603.781376066,
          749.844735219,
          819.797049144,
          763.408932512,
          360.600661999,
          568.073705272,
          666.635807378,
          602.470062495,
          629.220777401,
          721.687588695,
          739.4547575380002,
          833.203582927,
          484.967888203,
          622.1297874219999,
          595.2355137530001,
          503.481769676,
          525.453706523,
          624.096762293,
          720.3532811819998,
          748.1199930380002,
          491.473442413,
          574.359356263,
          482.712477796,
          448.694681999,
          497.344297754,
          526.326033275,
          590.478746775,
          616.892076168,
          317.810225983,
          350.433910995,
          301.847692756,
          226.326971354,
          219.075496949,
          252.463093356,
          261.374331488,
          384.513775199,
          499.277043223,
          512.605428263,
          520.393217065,
          481.319956646,
          483.335543947,
          528.901564325,
          516.4041365740001,
          657.398639731,
          1331.9860874,
          1153.48652689,
          1040.31180401,
          765.4628605460001,
          1215.0555252,
          1333.59707253,
          1371.65658542,
          1578.42891649,
          856.81120942,
          1063.78037111,
          1465.05024708,
          1379.33314201,
          1452.97190576,
          1398.88398183,
          1412.86939872,
          1551.28978352,
          487.96346663800006,
          585.0413863719999,
          469.268615848,
          502.383245685,
          509.839947747,
          503.04461939,
          508.740585366,
          521.961949752,
          1159.6892715999998,
          899.7691370580002,
          796.469906347,
          730.8000538289999,
          715.38365957,
          777.742373207,
          834.670915895,
          879.523836391,
          540.588375968,
          580.530937274,
          630.648885594,
          699.102776962,
          712.691343364,
          877.0448880460001,
          705.433761481,
          708.7828687130002,
          648.807999388,
          678.509067152,
          632.7254874390001,
          540.974320389,
          408.43313224,
          440.557973649,
          446.340827194,
          506.633143848,
          2772.88276961,
          2808.51679767,
          3648.18714807,
          4188.6453215,
          5286.28687516,
          5437.91312128,
          9356.78097414,
          14608.0098682,
          5774.58631485,
          6809.82048392,
          7940.99783226,
          8285.57089798,
          7259.07889875,
          7622.17301652,
          7677.40140109,
          7828.5810964,
          7843.34484914,
          7758.16570028,
          872.986354117,
          868.792103341,
          766.1430987780002,
          718.448623294,
          855.1247871139999,
          880.633650605,
          762.6981432010001,
          947.838610674
         ],
         "yaxis": "y"
        },
        {
         "hovertemplate": "<b>%{hovertext}</b><br><br>continent=%{x}<br>Energy Use (kg of oil equivalent per capita)=%{marker.size}<extra></extra>",
         "hovertext": [
          "Australia",
          "Australia",
          "Australia",
          "Australia",
          "Australia",
          "Australia",
          "Australia",
          "Australia",
          "Australia",
          "Australia",
          "New Zealand",
          "New Zealand",
          "New Zealand",
          "New Zealand",
          "New Zealand",
          "New Zealand",
          "New Zealand",
          "New Zealand",
          "New Zealand",
          "New Zealand"
         ],
         "legendgroup": "Oceania",
         "marker": {
          "color": "#ab63fa",
          "size": [
           3172.97486502,
           3692.80794983,
           4035.20634439,
           4671.19567362,
           4817.48952431,
           4772.37046465,
           4959.21491855,
           5469.5999892,
           5569.6409925,
           5868.34709712,
           1791.46132151,
           2188.69351345,
           2617.16105927,
           3055.08108455,
           3012.97138874,
           3452.96268019,
           3808.4772206,
           4258.75677677,
           4337.38052425,
           4054.4950045
          ],
          "sizemode": "area",
          "sizeref": 36.86507834625,
          "symbol": "circle"
         },
         "mode": "markers",
         "name": "Oceania",
         "orientation": "v",
         "showlegend": true,
         "type": "scatter",
         "x": [
          "Oceania",
          "Oceania",
          "Oceania",
          "Oceania",
          "Oceania",
          "Oceania",
          "Oceania",
          "Oceania",
          "Oceania",
          "Oceania",
          "Oceania",
          "Oceania",
          "Oceania",
          "Oceania",
          "Oceania",
          "Oceania",
          "Oceania",
          "Oceania",
          "Oceania",
          "Oceania"
         ],
         "xaxis": "x",
         "y": [
          3172.97486502,
          3692.80794983,
          4035.20634439,
          4671.19567362,
          4817.48952431,
          4772.37046465,
          4959.21491855,
          5469.5999892,
          5569.6409925,
          5868.34709712,
          1791.46132151,
          2188.69351345,
          2617.16105927,
          3055.08108455,
          3012.97138874,
          3452.96268019,
          3808.4772206,
          4258.75677677,
          4337.38052425,
          4054.4950045
         ],
         "yaxis": "y"
        },
        {
         "hovertemplate": "<b>%{hovertext}</b><br><br>continent=%{x}<br>Energy Use (kg of oil equivalent per capita)=%{marker.size}<extra></extra>",
         "hovertext": [
          "Bahrain",
          "Bahrain",
          "Bahrain",
          "Bahrain",
          "Bahrain",
          "Bahrain",
          "Bahrain",
          "Bahrain",
          "Bangladesh",
          "Bangladesh",
          "Bangladesh",
          "Bangladesh",
          "Bangladesh",
          "Bangladesh",
          "Bangladesh",
          "Bangladesh",
          "Cambodia",
          "Cambodia",
          "Cambodia",
          "China",
          "China",
          "China",
          "China",
          "China",
          "China",
          "China",
          "China",
          "India",
          "India",
          "India",
          "India",
          "India",
          "India",
          "India",
          "India",
          "Indonesia",
          "Indonesia",
          "Indonesia",
          "Indonesia",
          "Indonesia",
          "Indonesia",
          "Indonesia",
          "Indonesia",
          "Iraq",
          "Iraq",
          "Iraq",
          "Iraq",
          "Iraq",
          "Iraq",
          "Iraq",
          "Iraq",
          "Israel",
          "Israel",
          "Israel",
          "Israel",
          "Israel",
          "Israel",
          "Israel",
          "Israel",
          "Japan",
          "Japan",
          "Japan",
          "Japan",
          "Japan",
          "Japan",
          "Japan",
          "Japan",
          "Japan",
          "Japan",
          "Jordan",
          "Jordan",
          "Jordan",
          "Jordan",
          "Jordan",
          "Jordan",
          "Jordan",
          "Jordan",
          "Kuwait",
          "Kuwait",
          "Kuwait",
          "Kuwait",
          "Kuwait",
          "Kuwait",
          "Kuwait",
          "Lebanon",
          "Lebanon",
          "Lebanon",
          "Lebanon",
          "Lebanon",
          "Lebanon",
          "Lebanon",
          "Lebanon",
          "Malaysia",
          "Malaysia",
          "Malaysia",
          "Malaysia",
          "Malaysia",
          "Malaysia",
          "Malaysia",
          "Malaysia",
          "Mongolia",
          "Mongolia",
          "Mongolia",
          "Mongolia",
          "Mongolia",
          "Myanmar",
          "Myanmar",
          "Myanmar",
          "Myanmar",
          "Myanmar",
          "Myanmar",
          "Myanmar",
          "Myanmar",
          "Nepal",
          "Nepal",
          "Nepal",
          "Nepal",
          "Nepal",
          "Nepal",
          "Nepal",
          "Nepal",
          "Oman",
          "Oman",
          "Oman",
          "Oman",
          "Oman",
          "Oman",
          "Oman",
          "Oman",
          "Pakistan",
          "Pakistan",
          "Pakistan",
          "Pakistan",
          "Pakistan",
          "Pakistan",
          "Pakistan",
          "Pakistan",
          "Philippines",
          "Philippines",
          "Philippines",
          "Philippines",
          "Philippines",
          "Philippines",
          "Philippines",
          "Philippines",
          "Saudi Arabia",
          "Saudi Arabia",
          "Saudi Arabia",
          "Saudi Arabia",
          "Saudi Arabia",
          "Saudi Arabia",
          "Saudi Arabia",
          "Saudi Arabia",
          "Singapore",
          "Singapore",
          "Singapore",
          "Singapore",
          "Singapore",
          "Singapore",
          "Singapore",
          "Singapore",
          "Sri Lanka",
          "Sri Lanka",
          "Sri Lanka",
          "Sri Lanka",
          "Sri Lanka",
          "Sri Lanka",
          "Sri Lanka",
          "Sri Lanka",
          "Thailand",
          "Thailand",
          "Thailand",
          "Thailand",
          "Thailand",
          "Thailand",
          "Thailand",
          "Thailand",
          "Vietnam",
          "Vietnam",
          "Vietnam",
          "Vietnam",
          "Vietnam",
          "Vietnam",
          "Vietnam",
          "Vietnam"
         ],
         "legendgroup": "Asia",
         "marker": {
          "color": "#FFA15A",
          "size": [
           5960.21133509,
           8187.11498635,
           9071.02474414,
           9523.46356521,
           10844.7550254,
           12122.0506027,
           11704.3047293,
           11291.126355,
           86.903766977,
           97.860763105,
           105.482961637,
           106.866835127,
           119.405481659,
           135.210016124,
           149.933182829,
           173.580998621,
           265.896639422,
           314.97027594400004,
           253.343288148,
           477.168708746,
           577.211010594,
           606.830437326,
           694.4223599789999,
           752.628662541,
           871.6462695360001,
           978.61898313,
           1550.53027085,
           268.485083335,
           283.275393642,
           299.592677132,
           325.73809089400004,
           365.379491444,
           399.052528907,
           423.580114419,
           486.292374786,
           301.357990782,
           347.868204367,
           388.834624998,
           436.663234979,
           574.344890279,
           690.7954914339999,
           760.140852043,
           788.5836582439999,
           405.152489951,
           626.354937731,
           690.323799679,
           958.189471661,
           1311.18896852,
           1861.7960965,
           1130.94271589,
           892.39580238,
           1756.33100381,
           1786.48768337,
           1958.31704292,
           2278.47928588,
           2580.96935389,
           2881.12834133,
           2862.7957382,
           2898.15336834,
           1003.75225394,
           1720.54974435,
           2667.04674964,
           2899.90421823,
           2840.60843908,
           3044.11508629,
           3652.07124745,
           4048.98200021,
           4005.94409353,
           4024.99795314,
           297.830418297,
           473.5437315580001,
           875.54040491,
           998.355658577,
           1015.41769856,
           991.96787502,
           1024.4838209,
           1251.68193903,
           7802.76597438,
           6429.99850119,
           7548.12934744,
           8616.57655309,
           8764.51262442,
           10105.8321479,
           10395.1176066,
           789.565543378,
           696.1964896339999,
           678.5814280469999,
           996.943321974,
           868.56933067,
           1698.3102702999995,
           1484.22892653,
           1034.92218437,
           536.095210505,
           621.740086559,
           898.6549052380002,
           1078.98626036,
           1566.72481216,
           2063.52696529,
           2183.8734214,
           2742.50027319,
           1746.24080026,
           1488.63742731,
           951.851569598,
           1058.16485595,
           1376.98860218,
           281.931848431,
           276.246179043,
           270.238811656,
           269.30095308,
           251.060745819,
           263.20255292,
           266.385844866,
           307.913041122,
           300.972670494,
           302.06554296,
           305.746943514,
           307.065111322,
           309.74507691900004,
           316.822270368,
           345.37079196,
           357.131793555,
           112.054808283,
           761.662333837,
           1151.87126892,
           1412.3831509,
           2756.42578415,
           3027.90856152,
           3890.79215204,
           6881.62081928,
           285.16407106400004,
           302.558312012,
           336.92280827900004,
           376.344243754,
           412.405215402,
           448.925191849,
           455.934635667,
           523.2672101530001,
           406.49229803800006,
           456.743021869,
           461.890994003,
           433.357672285,
           460.545976337,
           500.989771655,
           477.457211125,
           434.402352876,
           979.423249943,
           1368.95037047,
           4215.42559694,
           3750.91313869,
           4421.45445335,
           4354.65523263,
           4907.82867485,
           5379.69097885,
           1569.47082327,
           1763.23012084,
           1987.08730813,
           2757.88068931,
           4588.43321165,
           5818.15092473,
           5065.98450652,
           4677.20430572,
           314.546613794,
           293.833883231,
           324.13036566,
           328.090886835,
           327.882389865,
           380.086721607,
           432.84856645,
           470.83709579,
           367.864327681,
           451.510578157,
           456.467867425,
           531.762695185,
           840.141111806,
           1164.94784692,
           1282.58023503,
           1585.96595222,
           298.157558425,
           257.872313351,
           271.162299998,
           286.657214575,
           276.1308749,
           335.170556166,
           420.446832131,
           540.08195349
          ],
          "sizemode": "area",
          "sizeref": 36.86507834625,
          "symbol": "circle"
         },
         "mode": "markers",
         "name": "Asia",
         "orientation": "v",
         "showlegend": true,
         "type": "scatter",
         "x": [
          "Asia",
          "Asia",
          "Asia",
          "Asia",
          "Asia",
          "Asia",
          "Asia",
          "Asia",
          "Asia",
          "Asia",
          "Asia",
          "Asia",
          "Asia",
          "Asia",
          "Asia",
          "Asia",
          "Asia",
          "Asia",
          "Asia",
          "Asia",
          "Asia",
          "Asia",
          "Asia",
          "Asia",
          "Asia",
          "Asia",
          "Asia",
          "Asia",
          "Asia",
          "Asia",
          "Asia",
          "Asia",
          "Asia",
          "Asia",
          "Asia",
          "Asia",
          "Asia",
          "Asia",
          "Asia",
          "Asia",
          "Asia",
          "Asia",
          "Asia",
          "Asia",
          "Asia",
          "Asia",
          "Asia",
          "Asia",
          "Asia",
          "Asia",
          "Asia",
          "Asia",
          "Asia",
          "Asia",
          "Asia",
          "Asia",
          "Asia",
          "Asia",
          "Asia",
          "Asia",
          "Asia",
          "Asia",
          "Asia",
          "Asia",
          "Asia",
          "Asia",
          "Asia",
          "Asia",
          "Asia",
          "Asia",
          "Asia",
          "Asia",
          "Asia",
          "Asia",
          "Asia",
          "Asia",
          "Asia",
          "Asia",
          "Asia",
          "Asia",
          "Asia",
          "Asia",
          "Asia",
          "Asia",
          "Asia",
          "Asia",
          "Asia",
          "Asia",
          "Asia",
          "Asia",
          "Asia",
          "Asia",
          "Asia",
          "Asia",
          "Asia",
          "Asia",
          "Asia",
          "Asia",
          "Asia",
          "Asia",
          "Asia",
          "Asia",
          "Asia",
          "Asia",
          "Asia",
          "Asia",
          "Asia",
          "Asia",
          "Asia",
          "Asia",
          "Asia",
          "Asia",
          "Asia",
          "Asia",
          "Asia",
          "Asia",
          "Asia",
          "Asia",
          "Asia",
          "Asia",
          "Asia",
          "Asia",
          "Asia",
          "Asia",
          "Asia",
          "Asia",
          "Asia",
          "Asia",
          "Asia",
          "Asia",
          "Asia",
          "Asia",
          "Asia",
          "Asia",
          "Asia",
          "Asia",
          "Asia",
          "Asia",
          "Asia",
          "Asia",
          "Asia",
          "Asia",
          "Asia",
          "Asia",
          "Asia",
          "Asia",
          "Asia",
          "Asia",
          "Asia",
          "Asia",
          "Asia",
          "Asia",
          "Asia",
          "Asia",
          "Asia",
          "Asia",
          "Asia",
          "Asia",
          "Asia",
          "Asia",
          "Asia",
          "Asia",
          "Asia",
          "Asia",
          "Asia",
          "Asia",
          "Asia",
          "Asia",
          "Asia",
          "Asia",
          "Asia",
          "Asia",
          "Asia",
          "Asia",
          "Asia",
          "Asia",
          "Asia",
          "Asia",
          "Asia",
          "Asia",
          "Asia",
          "Asia",
          "Asia",
          "Asia",
          "Asia"
         ],
         "xaxis": "x",
         "y": [
          5960.21133509,
          8187.11498635,
          9071.02474414,
          9523.46356521,
          10844.7550254,
          12122.0506027,
          11704.3047293,
          11291.126355,
          86.903766977,
          97.860763105,
          105.482961637,
          106.866835127,
          119.405481659,
          135.210016124,
          149.933182829,
          173.580998621,
          265.896639422,
          314.97027594400004,
          253.343288148,
          477.168708746,
          577.211010594,
          606.830437326,
          694.4223599789999,
          752.628662541,
          871.6462695360001,
          978.61898313,
          1550.53027085,
          268.485083335,
          283.275393642,
          299.592677132,
          325.73809089400004,
          365.379491444,
          399.052528907,
          423.580114419,
          486.292374786,
          301.357990782,
          347.868204367,
          388.834624998,
          436.663234979,
          574.344890279,
          690.7954914339999,
          760.140852043,
          788.5836582439999,
          405.152489951,
          626.354937731,
          690.323799679,
          958.189471661,
          1311.18896852,
          1861.7960965,
          1130.94271589,
          892.39580238,
          1756.33100381,
          1786.48768337,
          1958.31704292,
          2278.47928588,
          2580.96935389,
          2881.12834133,
          2862.7957382,
          2898.15336834,
          1003.75225394,
          1720.54974435,
          2667.04674964,
          2899.90421823,
          2840.60843908,
          3044.11508629,
          3652.07124745,
          4048.98200021,
          4005.94409353,
          4024.99795314,
          297.830418297,
          473.5437315580001,
          875.54040491,
          998.355658577,
          1015.41769856,
          991.96787502,
          1024.4838209,
          1251.68193903,
          7802.76597438,
          6429.99850119,
          7548.12934744,
          8616.57655309,
          8764.51262442,
          10105.8321479,
          10395.1176066,
          789.565543378,
          696.1964896339999,
          678.5814280469999,
          996.943321974,
          868.56933067,
          1698.3102702999995,
          1484.22892653,
          1034.92218437,
          536.095210505,
          621.740086559,
          898.6549052380002,
          1078.98626036,
          1566.72481216,
          2063.52696529,
          2183.8734214,
          2742.50027319,
          1746.24080026,
          1488.63742731,
          951.851569598,
          1058.16485595,
          1376.98860218,
          281.931848431,
          276.246179043,
          270.238811656,
          269.30095308,
          251.060745819,
          263.20255292,
          266.385844866,
          307.913041122,
          300.972670494,
          302.06554296,
          305.746943514,
          307.065111322,
          309.74507691900004,
          316.822270368,
          345.37079196,
          357.131793555,
          112.054808283,
          761.662333837,
          1151.87126892,
          1412.3831509,
          2756.42578415,
          3027.90856152,
          3890.79215204,
          6881.62081928,
          285.16407106400004,
          302.558312012,
          336.92280827900004,
          376.344243754,
          412.405215402,
          448.925191849,
          455.934635667,
          523.2672101530001,
          406.49229803800006,
          456.743021869,
          461.890994003,
          433.357672285,
          460.545976337,
          500.989771655,
          477.457211125,
          434.402352876,
          979.423249943,
          1368.95037047,
          4215.42559694,
          3750.91313869,
          4421.45445335,
          4354.65523263,
          4907.82867485,
          5379.69097885,
          1569.47082327,
          1763.23012084,
          1987.08730813,
          2757.88068931,
          4588.43321165,
          5818.15092473,
          5065.98450652,
          4677.20430572,
          314.546613794,
          293.833883231,
          324.13036566,
          328.090886835,
          327.882389865,
          380.086721607,
          432.84856645,
          470.83709579,
          367.864327681,
          451.510578157,
          456.467867425,
          531.762695185,
          840.141111806,
          1164.94784692,
          1282.58023503,
          1585.96595222,
          298.157558425,
          257.872313351,
          271.162299998,
          286.657214575,
          276.1308749,
          335.170556166,
          420.446832131,
          540.08195349
         ],
         "yaxis": "y"
        }
       ],
       "layout": {
        "legend": {
         "itemsizing": "constant",
         "title": {
          "text": "continent"
         },
         "tracegroupgap": 0
        },
        "template": {
         "data": {
          "bar": [
           {
            "error_x": {
             "color": "#2a3f5f"
            },
            "error_y": {
             "color": "#2a3f5f"
            },
            "marker": {
             "line": {
              "color": "#E5ECF6",
              "width": 0.5
             },
             "pattern": {
              "fillmode": "overlay",
              "size": 10,
              "solidity": 0.2
             }
            },
            "type": "bar"
           }
          ],
          "barpolar": [
           {
            "marker": {
             "line": {
              "color": "#E5ECF6",
              "width": 0.5
             },
             "pattern": {
              "fillmode": "overlay",
              "size": 10,
              "solidity": 0.2
             }
            },
            "type": "barpolar"
           }
          ],
          "carpet": [
           {
            "aaxis": {
             "endlinecolor": "#2a3f5f",
             "gridcolor": "white",
             "linecolor": "white",
             "minorgridcolor": "white",
             "startlinecolor": "#2a3f5f"
            },
            "baxis": {
             "endlinecolor": "#2a3f5f",
             "gridcolor": "white",
             "linecolor": "white",
             "minorgridcolor": "white",
             "startlinecolor": "#2a3f5f"
            },
            "type": "carpet"
           }
          ],
          "choropleth": [
           {
            "colorbar": {
             "outlinewidth": 0,
             "ticks": ""
            },
            "type": "choropleth"
           }
          ],
          "contour": [
           {
            "colorbar": {
             "outlinewidth": 0,
             "ticks": ""
            },
            "colorscale": [
             [
              0,
              "#0d0887"
             ],
             [
              0.1111111111111111,
              "#46039f"
             ],
             [
              0.2222222222222222,
              "#7201a8"
             ],
             [
              0.3333333333333333,
              "#9c179e"
             ],
             [
              0.4444444444444444,
              "#bd3786"
             ],
             [
              0.5555555555555556,
              "#d8576b"
             ],
             [
              0.6666666666666666,
              "#ed7953"
             ],
             [
              0.7777777777777778,
              "#fb9f3a"
             ],
             [
              0.8888888888888888,
              "#fdca26"
             ],
             [
              1,
              "#f0f921"
             ]
            ],
            "type": "contour"
           }
          ],
          "contourcarpet": [
           {
            "colorbar": {
             "outlinewidth": 0,
             "ticks": ""
            },
            "type": "contourcarpet"
           }
          ],
          "heatmap": [
           {
            "colorbar": {
             "outlinewidth": 0,
             "ticks": ""
            },
            "colorscale": [
             [
              0,
              "#0d0887"
             ],
             [
              0.1111111111111111,
              "#46039f"
             ],
             [
              0.2222222222222222,
              "#7201a8"
             ],
             [
              0.3333333333333333,
              "#9c179e"
             ],
             [
              0.4444444444444444,
              "#bd3786"
             ],
             [
              0.5555555555555556,
              "#d8576b"
             ],
             [
              0.6666666666666666,
              "#ed7953"
             ],
             [
              0.7777777777777778,
              "#fb9f3a"
             ],
             [
              0.8888888888888888,
              "#fdca26"
             ],
             [
              1,
              "#f0f921"
             ]
            ],
            "type": "heatmap"
           }
          ],
          "heatmapgl": [
           {
            "colorbar": {
             "outlinewidth": 0,
             "ticks": ""
            },
            "colorscale": [
             [
              0,
              "#0d0887"
             ],
             [
              0.1111111111111111,
              "#46039f"
             ],
             [
              0.2222222222222222,
              "#7201a8"
             ],
             [
              0.3333333333333333,
              "#9c179e"
             ],
             [
              0.4444444444444444,
              "#bd3786"
             ],
             [
              0.5555555555555556,
              "#d8576b"
             ],
             [
              0.6666666666666666,
              "#ed7953"
             ],
             [
              0.7777777777777778,
              "#fb9f3a"
             ],
             [
              0.8888888888888888,
              "#fdca26"
             ],
             [
              1,
              "#f0f921"
             ]
            ],
            "type": "heatmapgl"
           }
          ],
          "histogram": [
           {
            "marker": {
             "pattern": {
              "fillmode": "overlay",
              "size": 10,
              "solidity": 0.2
             }
            },
            "type": "histogram"
           }
          ],
          "histogram2d": [
           {
            "colorbar": {
             "outlinewidth": 0,
             "ticks": ""
            },
            "colorscale": [
             [
              0,
              "#0d0887"
             ],
             [
              0.1111111111111111,
              "#46039f"
             ],
             [
              0.2222222222222222,
              "#7201a8"
             ],
             [
              0.3333333333333333,
              "#9c179e"
             ],
             [
              0.4444444444444444,
              "#bd3786"
             ],
             [
              0.5555555555555556,
              "#d8576b"
             ],
             [
              0.6666666666666666,
              "#ed7953"
             ],
             [
              0.7777777777777778,
              "#fb9f3a"
             ],
             [
              0.8888888888888888,
              "#fdca26"
             ],
             [
              1,
              "#f0f921"
             ]
            ],
            "type": "histogram2d"
           }
          ],
          "histogram2dcontour": [
           {
            "colorbar": {
             "outlinewidth": 0,
             "ticks": ""
            },
            "colorscale": [
             [
              0,
              "#0d0887"
             ],
             [
              0.1111111111111111,
              "#46039f"
             ],
             [
              0.2222222222222222,
              "#7201a8"
             ],
             [
              0.3333333333333333,
              "#9c179e"
             ],
             [
              0.4444444444444444,
              "#bd3786"
             ],
             [
              0.5555555555555556,
              "#d8576b"
             ],
             [
              0.6666666666666666,
              "#ed7953"
             ],
             [
              0.7777777777777778,
              "#fb9f3a"
             ],
             [
              0.8888888888888888,
              "#fdca26"
             ],
             [
              1,
              "#f0f921"
             ]
            ],
            "type": "histogram2dcontour"
           }
          ],
          "mesh3d": [
           {
            "colorbar": {
             "outlinewidth": 0,
             "ticks": ""
            },
            "type": "mesh3d"
           }
          ],
          "parcoords": [
           {
            "line": {
             "colorbar": {
              "outlinewidth": 0,
              "ticks": ""
             }
            },
            "type": "parcoords"
           }
          ],
          "pie": [
           {
            "automargin": true,
            "type": "pie"
           }
          ],
          "scatter": [
           {
            "fillpattern": {
             "fillmode": "overlay",
             "size": 10,
             "solidity": 0.2
            },
            "type": "scatter"
           }
          ],
          "scatter3d": [
           {
            "line": {
             "colorbar": {
              "outlinewidth": 0,
              "ticks": ""
             }
            },
            "marker": {
             "colorbar": {
              "outlinewidth": 0,
              "ticks": ""
             }
            },
            "type": "scatter3d"
           }
          ],
          "scattercarpet": [
           {
            "marker": {
             "colorbar": {
              "outlinewidth": 0,
              "ticks": ""
             }
            },
            "type": "scattercarpet"
           }
          ],
          "scattergeo": [
           {
            "marker": {
             "colorbar": {
              "outlinewidth": 0,
              "ticks": ""
             }
            },
            "type": "scattergeo"
           }
          ],
          "scattergl": [
           {
            "marker": {
             "colorbar": {
              "outlinewidth": 0,
              "ticks": ""
             }
            },
            "type": "scattergl"
           }
          ],
          "scattermapbox": [
           {
            "marker": {
             "colorbar": {
              "outlinewidth": 0,
              "ticks": ""
             }
            },
            "type": "scattermapbox"
           }
          ],
          "scatterpolar": [
           {
            "marker": {
             "colorbar": {
              "outlinewidth": 0,
              "ticks": ""
             }
            },
            "type": "scatterpolar"
           }
          ],
          "scatterpolargl": [
           {
            "marker": {
             "colorbar": {
              "outlinewidth": 0,
              "ticks": ""
             }
            },
            "type": "scatterpolargl"
           }
          ],
          "scatterternary": [
           {
            "marker": {
             "colorbar": {
              "outlinewidth": 0,
              "ticks": ""
             }
            },
            "type": "scatterternary"
           }
          ],
          "surface": [
           {
            "colorbar": {
             "outlinewidth": 0,
             "ticks": ""
            },
            "colorscale": [
             [
              0,
              "#0d0887"
             ],
             [
              0.1111111111111111,
              "#46039f"
             ],
             [
              0.2222222222222222,
              "#7201a8"
             ],
             [
              0.3333333333333333,
              "#9c179e"
             ],
             [
              0.4444444444444444,
              "#bd3786"
             ],
             [
              0.5555555555555556,
              "#d8576b"
             ],
             [
              0.6666666666666666,
              "#ed7953"
             ],
             [
              0.7777777777777778,
              "#fb9f3a"
             ],
             [
              0.8888888888888888,
              "#fdca26"
             ],
             [
              1,
              "#f0f921"
             ]
            ],
            "type": "surface"
           }
          ],
          "table": [
           {
            "cells": {
             "fill": {
              "color": "#EBF0F8"
             },
             "line": {
              "color": "white"
             }
            },
            "header": {
             "fill": {
              "color": "#C8D4E3"
             },
             "line": {
              "color": "white"
             }
            },
            "type": "table"
           }
          ]
         },
         "layout": {
          "annotationdefaults": {
           "arrowcolor": "#2a3f5f",
           "arrowhead": 0,
           "arrowwidth": 1
          },
          "autotypenumbers": "strict",
          "coloraxis": {
           "colorbar": {
            "outlinewidth": 0,
            "ticks": ""
           }
          },
          "colorscale": {
           "diverging": [
            [
             0,
             "#8e0152"
            ],
            [
             0.1,
             "#c51b7d"
            ],
            [
             0.2,
             "#de77ae"
            ],
            [
             0.3,
             "#f1b6da"
            ],
            [
             0.4,
             "#fde0ef"
            ],
            [
             0.5,
             "#f7f7f7"
            ],
            [
             0.6,
             "#e6f5d0"
            ],
            [
             0.7,
             "#b8e186"
            ],
            [
             0.8,
             "#7fbc41"
            ],
            [
             0.9,
             "#4d9221"
            ],
            [
             1,
             "#276419"
            ]
           ],
           "sequential": [
            [
             0,
             "#0d0887"
            ],
            [
             0.1111111111111111,
             "#46039f"
            ],
            [
             0.2222222222222222,
             "#7201a8"
            ],
            [
             0.3333333333333333,
             "#9c179e"
            ],
            [
             0.4444444444444444,
             "#bd3786"
            ],
            [
             0.5555555555555556,
             "#d8576b"
            ],
            [
             0.6666666666666666,
             "#ed7953"
            ],
            [
             0.7777777777777778,
             "#fb9f3a"
            ],
            [
             0.8888888888888888,
             "#fdca26"
            ],
            [
             1,
             "#f0f921"
            ]
           ],
           "sequentialminus": [
            [
             0,
             "#0d0887"
            ],
            [
             0.1111111111111111,
             "#46039f"
            ],
            [
             0.2222222222222222,
             "#7201a8"
            ],
            [
             0.3333333333333333,
             "#9c179e"
            ],
            [
             0.4444444444444444,
             "#bd3786"
            ],
            [
             0.5555555555555556,
             "#d8576b"
            ],
            [
             0.6666666666666666,
             "#ed7953"
            ],
            [
             0.7777777777777778,
             "#fb9f3a"
            ],
            [
             0.8888888888888888,
             "#fdca26"
            ],
            [
             1,
             "#f0f921"
            ]
           ]
          },
          "colorway": [
           "#636efa",
           "#EF553B",
           "#00cc96",
           "#ab63fa",
           "#FFA15A",
           "#19d3f3",
           "#FF6692",
           "#B6E880",
           "#FF97FF",
           "#FECB52"
          ],
          "font": {
           "color": "#2a3f5f"
          },
          "geo": {
           "bgcolor": "white",
           "lakecolor": "white",
           "landcolor": "#E5ECF6",
           "showlakes": true,
           "showland": true,
           "subunitcolor": "white"
          },
          "hoverlabel": {
           "align": "left"
          },
          "hovermode": "closest",
          "mapbox": {
           "style": "light"
          },
          "paper_bgcolor": "white",
          "plot_bgcolor": "#E5ECF6",
          "polar": {
           "angularaxis": {
            "gridcolor": "white",
            "linecolor": "white",
            "ticks": ""
           },
           "bgcolor": "#E5ECF6",
           "radialaxis": {
            "gridcolor": "white",
            "linecolor": "white",
            "ticks": ""
           }
          },
          "scene": {
           "xaxis": {
            "backgroundcolor": "#E5ECF6",
            "gridcolor": "white",
            "gridwidth": 2,
            "linecolor": "white",
            "showbackground": true,
            "ticks": "",
            "zerolinecolor": "white"
           },
           "yaxis": {
            "backgroundcolor": "#E5ECF6",
            "gridcolor": "white",
            "gridwidth": 2,
            "linecolor": "white",
            "showbackground": true,
            "ticks": "",
            "zerolinecolor": "white"
           },
           "zaxis": {
            "backgroundcolor": "#E5ECF6",
            "gridcolor": "white",
            "gridwidth": 2,
            "linecolor": "white",
            "showbackground": true,
            "ticks": "",
            "zerolinecolor": "white"
           }
          },
          "shapedefaults": {
           "line": {
            "color": "#2a3f5f"
           }
          },
          "ternary": {
           "aaxis": {
            "gridcolor": "white",
            "linecolor": "white",
            "ticks": ""
           },
           "baxis": {
            "gridcolor": "white",
            "linecolor": "white",
            "ticks": ""
           },
           "bgcolor": "#E5ECF6",
           "caxis": {
            "gridcolor": "white",
            "linecolor": "white",
            "ticks": ""
           }
          },
          "title": {
           "x": 0.05
          },
          "xaxis": {
           "automargin": true,
           "gridcolor": "white",
           "linecolor": "white",
           "ticks": "",
           "title": {
            "standoff": 15
           },
           "zerolinecolor": "white",
           "zerolinewidth": 2
          },
          "yaxis": {
           "automargin": true,
           "gridcolor": "white",
           "linecolor": "white",
           "ticks": "",
           "title": {
            "standoff": 15
           },
           "zerolinecolor": "white",
           "zerolinewidth": 2
          }
         }
        },
        "title": {
         "text": "Energy Use (kg of oil equivalent per capita) by Continent"
        },
        "xaxis": {
         "anchor": "y",
         "categoryarray": [
          "Europe",
          "Africa",
          "Americas",
          "Oceania",
          "Asia"
         ],
         "categoryorder": "array",
         "domain": [
          0,
          1
         ],
         "title": {
          "text": "continent"
         }
        },
        "yaxis": {
         "anchor": "x",
         "domain": [
          0,
          1
         ],
         "title": {
          "text": "Energy Use (kg of oil equivalent per capita)"
         }
        }
       }
      }
     },
     "metadata": {},
     "output_type": "display_data"
    }
   ],
   "source": [
    "#generate interactive summary visualizations that demonstrate your answer\n",
    "\n",
    "# Create an interactive box plot\n",
    "Energy_Use_fig_box = px.box(\n",
    "    filtered_df,\n",
    "    x='continent',\n",
    "    y='Energy use (kg of oil equivalent per capita)',\n",
    "    title='Energy Use (kg of oil equivalent per capita) by Continent',\n",
    "    labels={'Energy use (kg of oil equivalent per capita)': 'Energy Use (kg of oil equivalent per capita)'}\n",
    ")\n",
    "\n",
    "# Create an interactive scatter plot\n",
    "Energy_Use_fig_scatter = px.scatter(\n",
    "    filtered_df,\n",
    "    x='continent',\n",
    "    y='Energy use (kg of oil equivalent per capita)',\n",
    "    title='Energy Use (kg of oil equivalent per capita) by Continent',\n",
    "    labels={'Energy use (kg of oil equivalent per capita)': 'Energy Use (kg of oil equivalent per capita)'},\n",
    "    color='continent',\n",
    "    size='Energy use (kg of oil equivalent per capita)',\n",
    "    hover_name='Country Name'\n",
    ")\n",
    "\n",
    "# Save the plots as HTML files\n",
    "Energy_Use_box_plot_path = r'C:\\Users\\abdoj\\OneDrive - UGent\\Desktop\\summer\\skill-assessments\\Python for Data Science\\Energy_Use_Box_Plot.html'\n",
    "\n",
    "Energy_Use_scatter_plot_path = r'C:\\Users\\abdoj\\OneDrive - UGent\\Desktop\\summer\\skill-assessments\\Python for Data Science\\Energy_Use_Scatter_Plot.html'\n",
    "\n",
    "Energy_Use_fig_box.write_html(Energy_Use_box_plot_path)\n",
    "Energy_Use_fig_scatter.write_html(Energy_Use_scatter_plot_path)\n",
    "Energy_Use_box_plot_path, Energy_Use_scatter_plot_path\n",
    "\n",
    "\n",
    "Energy_Use_fig_box.show()\n",
    "Energy_Use_fig_scatter.show()"
   ]
  },
  {
   "cell_type": "markdown",
   "metadata": {},
   "source": [
    "**describe your reasoning for the statistical tests you chose to use**\n",
    "The reasoning for choosing the statistical test is based on the nature of the variables involved and the research question:\n",
    "\n",
    "### Research Question:\n",
    "What is the relationship between `continent` (a categorical variable) and `Energy use (kg of oil equivalent per capita)` (a quantitative variable)?\n",
    "\n",
    "### Steps for Choosing the Statistical Test:\n",
    "\n",
    "1. **Identify the Predictor and Outcome Variables:**\n",
    "   - Predictor Variable: `continent` (categorical)\n",
    "   - Outcome Variable: `Energy use (kg of oil equivalent per capita)` (quantitative)\n",
    "\n",
    "2. **Determine the Nature of Variables:**\n",
    "   - The predictor variable `continent` is categorical because it represents distinct groups (e.g., Europe, Africa, Americas, Oceania, Asia).\n",
    "   - The outcome variable `Energy use (kg of oil equivalent per capita)` is quantitative because it is a continuous measure.\n",
    "\n",
    "3. **Choose the Appropriate Test Based on the Variables:**\n",
    "   - According to the provided flowchart, when we have a categorical predictor variable and a quantitative outcome variable, we need to compare the means of the outcome variable across the different groups defined by the predictor variable.\n",
    "   - If we are comparing means across more than two groups, the appropriate test is ANOVA (Analysis of Variance).\n",
    "\n",
    "### Reasoning for ANOVA:\n",
    "- **ANOVA** is used to compare the means of a quantitative variable across multiple groups. It tests the null hypothesis that the means of the groups are equal.\n",
    "- In this case, ANOVA allows us to determine if there are statistically significant differences in the mean energy use between continents.\n",
    "\n",
    "### Additional Considerations:\n",
    "- **Assumptions of ANOVA**: The assumptions include independence of observations, normality of the dependent variable within groups, and homogeneity of variances across groups. While we haven't explicitly tested these assumptions here, ANOVA is robust to violations of normality, especially with larger sample sizes.\n",
    "\n",
    "### Visualization:\n",
    "- **Box Plot**: To visualize the distribution and spread of energy use within each continent, showing medians, quartiles, and potential outliers.\n",
    "- **Scatter Plot**: To provide a detailed view of individual data points, highlighting variations and patterns within each continent.\n",
    "\n",
    "### Summary:\n",
    "Using ANOVA was the most appropriate choice given the nature of our predictor and outcome variables. The significant ANOVA result indicates that there are differences in energy use across continents, which we further explored using interactive visualizations."
   ]
  },
  {
   "cell_type": "code",
   "execution_count": 69,
   "metadata": {},
   "outputs": [
    {
     "data": {
      "text/plain": [
       "(-1.3552198505869248, 0.1775691189807683, 114, 98)"
      ]
     },
     "execution_count": 69,
     "metadata": {},
     "output_type": "execute_result"
    }
   ],
   "source": [
    "# 2. Is there a significant difference between Europe and Asia with respect to\n",
    "# `'Imports of goods and services (% of GDP)'` in the years after 1990? (Stats test needed)\n",
    "\n",
    "\n",
    "from scipy.stats import ttest_ind\n",
    "\n",
    "# Filter the data to include only Europe and Asia and years after 1990\n",
    "filtered_df = gapminder_df[(gapminder_df['Year'] > 1990) & (gapminder_df['continent'].isin(['Europe', 'Asia']))]\n",
    "\n",
    "# Drop rows with missing values in the relevant columns\n",
    "filtered_df = filtered_df.dropna(subset=['Imports of goods and services (% of GDP)', 'continent'])\n",
    "\n",
    "# Separate the data into two groups: Europe and Asia\n",
    "europe_data = filtered_df[filtered_df['continent'] == 'Europe']['Imports of goods and services (% of GDP)']\n",
    "asia_data = filtered_df[filtered_df['continent'] == 'Asia']['Imports of goods and services (% of GDP)']\n",
    "\n",
    "# Perform the T-test\n",
    "t_stat, p_value = ttest_ind(europe_data, asia_data, equal_var=False)\n",
    "\n",
    "t_stat, p_value, len(europe_data), len(asia_data)\n",
    "\n"
   ]
  },
  {
   "cell_type": "markdown",
   "metadata": {},
   "source": [
    "To determine if there is a significant difference between Europe and Asia regarding 'Imports of goods and services (% of GDP)' in the years after 1990, we can use a T-test for independent samples. This test compares the means of the two groups to see if they are significantly different.\n",
    "\n",
    "### Reasoning for T-test:\n",
    "- **T-test**: Used to compare the means of two independent groups. It assumes that the samples are independent, the data is approximately normally distributed, and the variances of the two groups are equal (though the T-test is quite robust to violations of these assumptions with large sample sizes).\n",
    "\n",
    "### Results:\n",
    "- **T-statistic**: -1.355\n",
    "- **P-value**: 0.178\n",
    "- **Sample Sizes**: Europe: 114, Asia: 98\n",
    "\n",
    "### Interpretation:\n",
    "The p-value (0.178) is greater than the common significance level of 0.05, indicating that we do not have sufficient evidence to reject the null hypothesis. This means that there is no statistically significant difference between Europe and Asia regarding 'Imports of goods and services (% of GDP)' in the years after 1990."
   ]
  },
  {
   "cell_type": "code",
   "execution_count": 70,
   "metadata": {},
   "outputs": [
    {
     "data": {
      "application/vnd.plotly.v1+json": {
       "config": {
        "plotlyServerURL": "https://plot.ly"
       },
       "data": [
        {
         "alignmentgroup": "True",
         "hovertemplate": "continent=%{x}<br>Imports (% of GDP)=%{y}<extra></extra>",
         "legendgroup": "",
         "marker": {
          "color": "#636efa"
         },
         "name": "",
         "notched": false,
         "offsetgroup": "",
         "orientation": "v",
         "showlegend": false,
         "type": "box",
         "x": [
          "Asia",
          "Asia",
          "Europe",
          "Europe",
          "Europe",
          "Europe",
          "Europe",
          "Europe",
          "Europe",
          "Europe",
          "Asia",
          "Asia",
          "Asia",
          "Asia",
          "Asia",
          "Asia",
          "Asia",
          "Asia",
          "Europe",
          "Europe",
          "Europe",
          "Europe",
          "Europe",
          "Europe",
          "Europe",
          "Europe",
          "Europe",
          "Europe",
          "Europe",
          "Asia",
          "Asia",
          "Asia",
          "Asia",
          "Asia",
          "Asia",
          "Asia",
          "Europe",
          "Europe",
          "Europe",
          "Europe",
          "Europe",
          "Europe",
          "Europe",
          "Europe",
          "Europe",
          "Europe",
          "Europe",
          "Europe",
          "Europe",
          "Europe",
          "Europe",
          "Europe",
          "Europe",
          "Europe",
          "Europe",
          "Europe",
          "Europe",
          "Europe",
          "Europe",
          "Europe",
          "Europe",
          "Europe",
          "Europe",
          "Europe",
          "Europe",
          "Europe",
          "Europe",
          "Europe",
          "Europe",
          "Europe",
          "Europe",
          "Asia",
          "Asia",
          "Asia",
          "Asia",
          "Asia",
          "Asia",
          "Asia",
          "Asia",
          "Asia",
          "Asia",
          "Asia",
          "Asia",
          "Europe",
          "Europe",
          "Europe",
          "Europe",
          "Asia",
          "Asia",
          "Asia",
          "Asia",
          "Europe",
          "Europe",
          "Europe",
          "Europe",
          "Asia",
          "Asia",
          "Asia",
          "Asia",
          "Asia",
          "Asia",
          "Asia",
          "Asia",
          "Asia",
          "Asia",
          "Asia",
          "Asia",
          "Asia",
          "Asia",
          "Asia",
          "Asia",
          "Asia",
          "Asia",
          "Asia",
          "Asia",
          "Asia",
          "Asia",
          "Asia",
          "Asia",
          "Europe",
          "Europe",
          "Asia",
          "Asia",
          "Asia",
          "Asia",
          "Asia",
          "Asia",
          "Europe",
          "Europe",
          "Europe",
          "Europe",
          "Europe",
          "Europe",
          "Europe",
          "Europe",
          "Asia",
          "Asia",
          "Asia",
          "Asia",
          "Asia",
          "Asia",
          "Asia",
          "Asia",
          "Asia",
          "Asia",
          "Asia",
          "Asia",
          "Europe",
          "Europe",
          "Europe",
          "Europe",
          "Europe",
          "Europe",
          "Europe",
          "Europe",
          "Europe",
          "Europe",
          "Europe",
          "Europe",
          "Asia",
          "Asia",
          "Asia",
          "Asia",
          "Europe",
          "Europe",
          "Europe",
          "Asia",
          "Asia",
          "Asia",
          "Asia",
          "Europe",
          "Europe",
          "Europe",
          "Europe",
          "Europe",
          "Europe",
          "Europe",
          "Europe",
          "Europe",
          "Europe",
          "Europe",
          "Asia",
          "Asia",
          "Asia",
          "Asia",
          "Europe",
          "Europe",
          "Europe",
          "Europe",
          "Europe",
          "Europe",
          "Europe",
          "Europe",
          "Asia",
          "Asia",
          "Asia",
          "Asia",
          "Europe",
          "Europe",
          "Europe",
          "Europe",
          "Europe",
          "Europe",
          "Europe",
          "Europe",
          "Asia",
          "Asia",
          "Asia",
          "Asia",
          "Asia",
          "Asia",
          "Asia"
         ],
         "x0": " ",
         "xaxis": "x",
         "y": [
          65.2877040065,
          58.3500468255,
          88.5122484875,
          34.1899954311,
          44.3353664726,
          54.7882006817,
          34.5289764917,
          37.8834640896,
          41.6507009529,
          48.3336828443,
          96.7420454545,
          69.5052959617,
          58.389862877,
          58.105521340200006,
          12.3473285921,
          15.8051428327,
          16.557411789,
          22.9470478067,
          56.0198770682,
          60.4699234894,
          64.8101122243,
          73.6727852921,
          72.797329856,
          70.9293545706,
          56.4586949513,
          52.938247012,
          37.2840983857,
          41.7304308008,
          70.6481778799,
          45.3177088819,
          64.2708081103,
          72.94217881899999,
          14.4875132406,
          15.0398612938,
          20.1026620472,
          26.7164353002,
          44.2274001589,
          45.5475127824,
          46.26795219,
          39.0048670058,
          44.7363476681,
          46.5234495636,
          64.1024536911,
          30.1104077732,
          33.4544366297,
          38.8921703701,
          48.502240028,
          24.6770848065,
          30.4628943994,
          30.2045330402,
          39.1791364747,
          20.5079690124,
          22.3386387575,
          25.3757388229,
          28.4193105717,
          22.7863176274,
          24.2090600837,
          28.1989688995,
          36.3606196011,
          23.9437536025,
          23.0519635059,
          30.2361418116,
          35.0041044594,
          27.8478918237,
          46.9886021788,
          60.117586376800006,
          77.6183100564,
          29.731456037,
          34.9518564867,
          34.5066481223,
          42.5353946584,
          9.42488847372,
          11.723082627,
          14.9815485884,
          25.1519079066,
          27.1201247208,
          28.1346335393,
          26.3918424154,
          25.3935314931,
          1.3387380938299998,
          42.3411609934,
          49.1919962299,
          28.1930139321,
          51.0894327446,
          65.17606264310001,
          73.295336366,
          72.4776748214,
          44.3365198368,
          32.587292588400004,
          35.6972911543,
          41.0701019971,
          17.4871644619,
          20.4814697289,
          23.7262338729,
          27.7864496661,
          7.643451906869999,
          9.49188652841,
          9.66739032943,
          15.6005719141,
          81.4065893831,
          71.5829118173,
          66.632176737,
          91.7584082453,
          54.2177987777,
          39.5915918101,
          36.6091466782,
          28.3171173383,
          75.8579855593,
          47.5546391753,
          34.9438902743,
          63.0607287449,
          74.6278561995,
          92.3753082915,
          91.0509065478,
          86.2975320889,
          36.3626536496,
          47.32510391939999,
          67.7906371355,
          58.2659779932,
          59.8844129108,
          86.6989968539,
          0.225449347209,
          0.0795059581624,
          25.7356870079,
          37.7076998214,
          28.4935889762,
          31.7236101436,
          48.7843340291,
          54.20113381979999,
          53.959648211,
          61.4482781111,
          30.5310708615,
          32.5057564723,
          27.2520303734,
          29.8897253923,
          35.5479437749,
          38.5910173249,
          27.9151441594,
          39.9893707746,
          20.5285578209,
          20.7703128758,
          15.3140127214,
          19.7758151542,
          34.0281852291,
          59.29383539999999,
          55.6880751307,
          43.3586106398,
          19.9467339483,
          27.1144798245,
          32.1662388033,
          42.0974145444,
          31.8454729567,
          35.141898248800004,
          35.2155009835,
          38.6473370483,
          36.1988323492,
          34.7505362196,
          40.8248050842,
          43.4469976538,
          36.1921329627,
          26.1824690647,
          23.7762475126,
          34.9258769575,
          29.8848078941,
          38.7253440201,
          52.66337379310001,
          149.51131554,
          155.486859844,
          168.31371458,
          183.915527311,
          69.7293093289,
          64.4734963454,
          64.7137426173,
          84.3950908526,
          48.7322747634,
          51.1695761128,
          68.8949043961,
          19.7473148836,
          25.5385108358,
          28.5057281045,
          31.6987214183,
          41.0333824771,
          43.5994352288,
          41.4218015848,
          39.4915119731,
          25.0010584659,
          33.102555836,
          35.7735159206,
          41.2817143067,
          37.6912446806,
          42.1233310838,
          42.258312305100006,
          50.2696323325,
          40.9821700246,
          46.8148412659,
          54.3239904201,
          61.0009114941,
          17.3451299105,
          30.3886058881,
          23.5827728271,
          27.4838724792,
          22.8596273413,
          25.1006811488,
          26.6895890682,
          27.4732345237,
          38.8312898757,
          51.2417759691,
          57.249342474,
          84.0875093943,
          73.04111867479999,
          62.8156816898,
          77.8106722688
         ],
         "y0": " ",
         "yaxis": "y"
        }
       ],
       "layout": {
        "boxmode": "group",
        "legend": {
         "tracegroupgap": 0
        },
        "template": {
         "data": {
          "bar": [
           {
            "error_x": {
             "color": "#2a3f5f"
            },
            "error_y": {
             "color": "#2a3f5f"
            },
            "marker": {
             "line": {
              "color": "#E5ECF6",
              "width": 0.5
             },
             "pattern": {
              "fillmode": "overlay",
              "size": 10,
              "solidity": 0.2
             }
            },
            "type": "bar"
           }
          ],
          "barpolar": [
           {
            "marker": {
             "line": {
              "color": "#E5ECF6",
              "width": 0.5
             },
             "pattern": {
              "fillmode": "overlay",
              "size": 10,
              "solidity": 0.2
             }
            },
            "type": "barpolar"
           }
          ],
          "carpet": [
           {
            "aaxis": {
             "endlinecolor": "#2a3f5f",
             "gridcolor": "white",
             "linecolor": "white",
             "minorgridcolor": "white",
             "startlinecolor": "#2a3f5f"
            },
            "baxis": {
             "endlinecolor": "#2a3f5f",
             "gridcolor": "white",
             "linecolor": "white",
             "minorgridcolor": "white",
             "startlinecolor": "#2a3f5f"
            },
            "type": "carpet"
           }
          ],
          "choropleth": [
           {
            "colorbar": {
             "outlinewidth": 0,
             "ticks": ""
            },
            "type": "choropleth"
           }
          ],
          "contour": [
           {
            "colorbar": {
             "outlinewidth": 0,
             "ticks": ""
            },
            "colorscale": [
             [
              0,
              "#0d0887"
             ],
             [
              0.1111111111111111,
              "#46039f"
             ],
             [
              0.2222222222222222,
              "#7201a8"
             ],
             [
              0.3333333333333333,
              "#9c179e"
             ],
             [
              0.4444444444444444,
              "#bd3786"
             ],
             [
              0.5555555555555556,
              "#d8576b"
             ],
             [
              0.6666666666666666,
              "#ed7953"
             ],
             [
              0.7777777777777778,
              "#fb9f3a"
             ],
             [
              0.8888888888888888,
              "#fdca26"
             ],
             [
              1,
              "#f0f921"
             ]
            ],
            "type": "contour"
           }
          ],
          "contourcarpet": [
           {
            "colorbar": {
             "outlinewidth": 0,
             "ticks": ""
            },
            "type": "contourcarpet"
           }
          ],
          "heatmap": [
           {
            "colorbar": {
             "outlinewidth": 0,
             "ticks": ""
            },
            "colorscale": [
             [
              0,
              "#0d0887"
             ],
             [
              0.1111111111111111,
              "#46039f"
             ],
             [
              0.2222222222222222,
              "#7201a8"
             ],
             [
              0.3333333333333333,
              "#9c179e"
             ],
             [
              0.4444444444444444,
              "#bd3786"
             ],
             [
              0.5555555555555556,
              "#d8576b"
             ],
             [
              0.6666666666666666,
              "#ed7953"
             ],
             [
              0.7777777777777778,
              "#fb9f3a"
             ],
             [
              0.8888888888888888,
              "#fdca26"
             ],
             [
              1,
              "#f0f921"
             ]
            ],
            "type": "heatmap"
           }
          ],
          "heatmapgl": [
           {
            "colorbar": {
             "outlinewidth": 0,
             "ticks": ""
            },
            "colorscale": [
             [
              0,
              "#0d0887"
             ],
             [
              0.1111111111111111,
              "#46039f"
             ],
             [
              0.2222222222222222,
              "#7201a8"
             ],
             [
              0.3333333333333333,
              "#9c179e"
             ],
             [
              0.4444444444444444,
              "#bd3786"
             ],
             [
              0.5555555555555556,
              "#d8576b"
             ],
             [
              0.6666666666666666,
              "#ed7953"
             ],
             [
              0.7777777777777778,
              "#fb9f3a"
             ],
             [
              0.8888888888888888,
              "#fdca26"
             ],
             [
              1,
              "#f0f921"
             ]
            ],
            "type": "heatmapgl"
           }
          ],
          "histogram": [
           {
            "marker": {
             "pattern": {
              "fillmode": "overlay",
              "size": 10,
              "solidity": 0.2
             }
            },
            "type": "histogram"
           }
          ],
          "histogram2d": [
           {
            "colorbar": {
             "outlinewidth": 0,
             "ticks": ""
            },
            "colorscale": [
             [
              0,
              "#0d0887"
             ],
             [
              0.1111111111111111,
              "#46039f"
             ],
             [
              0.2222222222222222,
              "#7201a8"
             ],
             [
              0.3333333333333333,
              "#9c179e"
             ],
             [
              0.4444444444444444,
              "#bd3786"
             ],
             [
              0.5555555555555556,
              "#d8576b"
             ],
             [
              0.6666666666666666,
              "#ed7953"
             ],
             [
              0.7777777777777778,
              "#fb9f3a"
             ],
             [
              0.8888888888888888,
              "#fdca26"
             ],
             [
              1,
              "#f0f921"
             ]
            ],
            "type": "histogram2d"
           }
          ],
          "histogram2dcontour": [
           {
            "colorbar": {
             "outlinewidth": 0,
             "ticks": ""
            },
            "colorscale": [
             [
              0,
              "#0d0887"
             ],
             [
              0.1111111111111111,
              "#46039f"
             ],
             [
              0.2222222222222222,
              "#7201a8"
             ],
             [
              0.3333333333333333,
              "#9c179e"
             ],
             [
              0.4444444444444444,
              "#bd3786"
             ],
             [
              0.5555555555555556,
              "#d8576b"
             ],
             [
              0.6666666666666666,
              "#ed7953"
             ],
             [
              0.7777777777777778,
              "#fb9f3a"
             ],
             [
              0.8888888888888888,
              "#fdca26"
             ],
             [
              1,
              "#f0f921"
             ]
            ],
            "type": "histogram2dcontour"
           }
          ],
          "mesh3d": [
           {
            "colorbar": {
             "outlinewidth": 0,
             "ticks": ""
            },
            "type": "mesh3d"
           }
          ],
          "parcoords": [
           {
            "line": {
             "colorbar": {
              "outlinewidth": 0,
              "ticks": ""
             }
            },
            "type": "parcoords"
           }
          ],
          "pie": [
           {
            "automargin": true,
            "type": "pie"
           }
          ],
          "scatter": [
           {
            "fillpattern": {
             "fillmode": "overlay",
             "size": 10,
             "solidity": 0.2
            },
            "type": "scatter"
           }
          ],
          "scatter3d": [
           {
            "line": {
             "colorbar": {
              "outlinewidth": 0,
              "ticks": ""
             }
            },
            "marker": {
             "colorbar": {
              "outlinewidth": 0,
              "ticks": ""
             }
            },
            "type": "scatter3d"
           }
          ],
          "scattercarpet": [
           {
            "marker": {
             "colorbar": {
              "outlinewidth": 0,
              "ticks": ""
             }
            },
            "type": "scattercarpet"
           }
          ],
          "scattergeo": [
           {
            "marker": {
             "colorbar": {
              "outlinewidth": 0,
              "ticks": ""
             }
            },
            "type": "scattergeo"
           }
          ],
          "scattergl": [
           {
            "marker": {
             "colorbar": {
              "outlinewidth": 0,
              "ticks": ""
             }
            },
            "type": "scattergl"
           }
          ],
          "scattermapbox": [
           {
            "marker": {
             "colorbar": {
              "outlinewidth": 0,
              "ticks": ""
             }
            },
            "type": "scattermapbox"
           }
          ],
          "scatterpolar": [
           {
            "marker": {
             "colorbar": {
              "outlinewidth": 0,
              "ticks": ""
             }
            },
            "type": "scatterpolar"
           }
          ],
          "scatterpolargl": [
           {
            "marker": {
             "colorbar": {
              "outlinewidth": 0,
              "ticks": ""
             }
            },
            "type": "scatterpolargl"
           }
          ],
          "scatterternary": [
           {
            "marker": {
             "colorbar": {
              "outlinewidth": 0,
              "ticks": ""
             }
            },
            "type": "scatterternary"
           }
          ],
          "surface": [
           {
            "colorbar": {
             "outlinewidth": 0,
             "ticks": ""
            },
            "colorscale": [
             [
              0,
              "#0d0887"
             ],
             [
              0.1111111111111111,
              "#46039f"
             ],
             [
              0.2222222222222222,
              "#7201a8"
             ],
             [
              0.3333333333333333,
              "#9c179e"
             ],
             [
              0.4444444444444444,
              "#bd3786"
             ],
             [
              0.5555555555555556,
              "#d8576b"
             ],
             [
              0.6666666666666666,
              "#ed7953"
             ],
             [
              0.7777777777777778,
              "#fb9f3a"
             ],
             [
              0.8888888888888888,
              "#fdca26"
             ],
             [
              1,
              "#f0f921"
             ]
            ],
            "type": "surface"
           }
          ],
          "table": [
           {
            "cells": {
             "fill": {
              "color": "#EBF0F8"
             },
             "line": {
              "color": "white"
             }
            },
            "header": {
             "fill": {
              "color": "#C8D4E3"
             },
             "line": {
              "color": "white"
             }
            },
            "type": "table"
           }
          ]
         },
         "layout": {
          "annotationdefaults": {
           "arrowcolor": "#2a3f5f",
           "arrowhead": 0,
           "arrowwidth": 1
          },
          "autotypenumbers": "strict",
          "coloraxis": {
           "colorbar": {
            "outlinewidth": 0,
            "ticks": ""
           }
          },
          "colorscale": {
           "diverging": [
            [
             0,
             "#8e0152"
            ],
            [
             0.1,
             "#c51b7d"
            ],
            [
             0.2,
             "#de77ae"
            ],
            [
             0.3,
             "#f1b6da"
            ],
            [
             0.4,
             "#fde0ef"
            ],
            [
             0.5,
             "#f7f7f7"
            ],
            [
             0.6,
             "#e6f5d0"
            ],
            [
             0.7,
             "#b8e186"
            ],
            [
             0.8,
             "#7fbc41"
            ],
            [
             0.9,
             "#4d9221"
            ],
            [
             1,
             "#276419"
            ]
           ],
           "sequential": [
            [
             0,
             "#0d0887"
            ],
            [
             0.1111111111111111,
             "#46039f"
            ],
            [
             0.2222222222222222,
             "#7201a8"
            ],
            [
             0.3333333333333333,
             "#9c179e"
            ],
            [
             0.4444444444444444,
             "#bd3786"
            ],
            [
             0.5555555555555556,
             "#d8576b"
            ],
            [
             0.6666666666666666,
             "#ed7953"
            ],
            [
             0.7777777777777778,
             "#fb9f3a"
            ],
            [
             0.8888888888888888,
             "#fdca26"
            ],
            [
             1,
             "#f0f921"
            ]
           ],
           "sequentialminus": [
            [
             0,
             "#0d0887"
            ],
            [
             0.1111111111111111,
             "#46039f"
            ],
            [
             0.2222222222222222,
             "#7201a8"
            ],
            [
             0.3333333333333333,
             "#9c179e"
            ],
            [
             0.4444444444444444,
             "#bd3786"
            ],
            [
             0.5555555555555556,
             "#d8576b"
            ],
            [
             0.6666666666666666,
             "#ed7953"
            ],
            [
             0.7777777777777778,
             "#fb9f3a"
            ],
            [
             0.8888888888888888,
             "#fdca26"
            ],
            [
             1,
             "#f0f921"
            ]
           ]
          },
          "colorway": [
           "#636efa",
           "#EF553B",
           "#00cc96",
           "#ab63fa",
           "#FFA15A",
           "#19d3f3",
           "#FF6692",
           "#B6E880",
           "#FF97FF",
           "#FECB52"
          ],
          "font": {
           "color": "#2a3f5f"
          },
          "geo": {
           "bgcolor": "white",
           "lakecolor": "white",
           "landcolor": "#E5ECF6",
           "showlakes": true,
           "showland": true,
           "subunitcolor": "white"
          },
          "hoverlabel": {
           "align": "left"
          },
          "hovermode": "closest",
          "mapbox": {
           "style": "light"
          },
          "paper_bgcolor": "white",
          "plot_bgcolor": "#E5ECF6",
          "polar": {
           "angularaxis": {
            "gridcolor": "white",
            "linecolor": "white",
            "ticks": ""
           },
           "bgcolor": "#E5ECF6",
           "radialaxis": {
            "gridcolor": "white",
            "linecolor": "white",
            "ticks": ""
           }
          },
          "scene": {
           "xaxis": {
            "backgroundcolor": "#E5ECF6",
            "gridcolor": "white",
            "gridwidth": 2,
            "linecolor": "white",
            "showbackground": true,
            "ticks": "",
            "zerolinecolor": "white"
           },
           "yaxis": {
            "backgroundcolor": "#E5ECF6",
            "gridcolor": "white",
            "gridwidth": 2,
            "linecolor": "white",
            "showbackground": true,
            "ticks": "",
            "zerolinecolor": "white"
           },
           "zaxis": {
            "backgroundcolor": "#E5ECF6",
            "gridcolor": "white",
            "gridwidth": 2,
            "linecolor": "white",
            "showbackground": true,
            "ticks": "",
            "zerolinecolor": "white"
           }
          },
          "shapedefaults": {
           "line": {
            "color": "#2a3f5f"
           }
          },
          "ternary": {
           "aaxis": {
            "gridcolor": "white",
            "linecolor": "white",
            "ticks": ""
           },
           "baxis": {
            "gridcolor": "white",
            "linecolor": "white",
            "ticks": ""
           },
           "bgcolor": "#E5ECF6",
           "caxis": {
            "gridcolor": "white",
            "linecolor": "white",
            "ticks": ""
           }
          },
          "title": {
           "x": 0.05
          },
          "xaxis": {
           "automargin": true,
           "gridcolor": "white",
           "linecolor": "white",
           "ticks": "",
           "title": {
            "standoff": 15
           },
           "zerolinecolor": "white",
           "zerolinewidth": 2
          },
          "yaxis": {
           "automargin": true,
           "gridcolor": "white",
           "linecolor": "white",
           "ticks": "",
           "title": {
            "standoff": 15
           },
           "zerolinecolor": "white",
           "zerolinewidth": 2
          }
         }
        },
        "title": {
         "text": "Imports of Goods and Services (% of GDP) by Continent (Europe vs Asia, post-1990)"
        },
        "xaxis": {
         "anchor": "y",
         "domain": [
          0,
          1
         ],
         "title": {
          "text": "continent"
         }
        },
        "yaxis": {
         "anchor": "x",
         "domain": [
          0,
          1
         ],
         "title": {
          "text": "Imports (% of GDP)"
         }
        }
       }
      }
     },
     "metadata": {},
     "output_type": "display_data"
    },
    {
     "data": {
      "application/vnd.plotly.v1+json": {
       "config": {
        "plotlyServerURL": "https://plot.ly"
       },
       "data": [
        {
         "alignmentgroup": "True",
         "box": {
          "visible": true
         },
         "hovertemplate": "continent=%{x}<br>Imports (% of GDP)=%{y}<extra></extra>",
         "legendgroup": "",
         "marker": {
          "color": "#636efa"
         },
         "name": "",
         "offsetgroup": "",
         "orientation": "v",
         "points": "all",
         "scalegroup": "True",
         "showlegend": false,
         "type": "violin",
         "x": [
          "Asia",
          "Asia",
          "Europe",
          "Europe",
          "Europe",
          "Europe",
          "Europe",
          "Europe",
          "Europe",
          "Europe",
          "Asia",
          "Asia",
          "Asia",
          "Asia",
          "Asia",
          "Asia",
          "Asia",
          "Asia",
          "Europe",
          "Europe",
          "Europe",
          "Europe",
          "Europe",
          "Europe",
          "Europe",
          "Europe",
          "Europe",
          "Europe",
          "Europe",
          "Asia",
          "Asia",
          "Asia",
          "Asia",
          "Asia",
          "Asia",
          "Asia",
          "Europe",
          "Europe",
          "Europe",
          "Europe",
          "Europe",
          "Europe",
          "Europe",
          "Europe",
          "Europe",
          "Europe",
          "Europe",
          "Europe",
          "Europe",
          "Europe",
          "Europe",
          "Europe",
          "Europe",
          "Europe",
          "Europe",
          "Europe",
          "Europe",
          "Europe",
          "Europe",
          "Europe",
          "Europe",
          "Europe",
          "Europe",
          "Europe",
          "Europe",
          "Europe",
          "Europe",
          "Europe",
          "Europe",
          "Europe",
          "Europe",
          "Asia",
          "Asia",
          "Asia",
          "Asia",
          "Asia",
          "Asia",
          "Asia",
          "Asia",
          "Asia",
          "Asia",
          "Asia",
          "Asia",
          "Europe",
          "Europe",
          "Europe",
          "Europe",
          "Asia",
          "Asia",
          "Asia",
          "Asia",
          "Europe",
          "Europe",
          "Europe",
          "Europe",
          "Asia",
          "Asia",
          "Asia",
          "Asia",
          "Asia",
          "Asia",
          "Asia",
          "Asia",
          "Asia",
          "Asia",
          "Asia",
          "Asia",
          "Asia",
          "Asia",
          "Asia",
          "Asia",
          "Asia",
          "Asia",
          "Asia",
          "Asia",
          "Asia",
          "Asia",
          "Asia",
          "Asia",
          "Europe",
          "Europe",
          "Asia",
          "Asia",
          "Asia",
          "Asia",
          "Asia",
          "Asia",
          "Europe",
          "Europe",
          "Europe",
          "Europe",
          "Europe",
          "Europe",
          "Europe",
          "Europe",
          "Asia",
          "Asia",
          "Asia",
          "Asia",
          "Asia",
          "Asia",
          "Asia",
          "Asia",
          "Asia",
          "Asia",
          "Asia",
          "Asia",
          "Europe",
          "Europe",
          "Europe",
          "Europe",
          "Europe",
          "Europe",
          "Europe",
          "Europe",
          "Europe",
          "Europe",
          "Europe",
          "Europe",
          "Asia",
          "Asia",
          "Asia",
          "Asia",
          "Europe",
          "Europe",
          "Europe",
          "Asia",
          "Asia",
          "Asia",
          "Asia",
          "Europe",
          "Europe",
          "Europe",
          "Europe",
          "Europe",
          "Europe",
          "Europe",
          "Europe",
          "Europe",
          "Europe",
          "Europe",
          "Asia",
          "Asia",
          "Asia",
          "Asia",
          "Europe",
          "Europe",
          "Europe",
          "Europe",
          "Europe",
          "Europe",
          "Europe",
          "Europe",
          "Asia",
          "Asia",
          "Asia",
          "Asia",
          "Europe",
          "Europe",
          "Europe",
          "Europe",
          "Europe",
          "Europe",
          "Europe",
          "Europe",
          "Asia",
          "Asia",
          "Asia",
          "Asia",
          "Asia",
          "Asia",
          "Asia"
         ],
         "x0": " ",
         "xaxis": "x",
         "y": [
          65.2877040065,
          58.3500468255,
          88.5122484875,
          34.1899954311,
          44.3353664726,
          54.7882006817,
          34.5289764917,
          37.8834640896,
          41.6507009529,
          48.3336828443,
          96.7420454545,
          69.5052959617,
          58.389862877,
          58.105521340200006,
          12.3473285921,
          15.8051428327,
          16.557411789,
          22.9470478067,
          56.0198770682,
          60.4699234894,
          64.8101122243,
          73.6727852921,
          72.797329856,
          70.9293545706,
          56.4586949513,
          52.938247012,
          37.2840983857,
          41.7304308008,
          70.6481778799,
          45.3177088819,
          64.2708081103,
          72.94217881899999,
          14.4875132406,
          15.0398612938,
          20.1026620472,
          26.7164353002,
          44.2274001589,
          45.5475127824,
          46.26795219,
          39.0048670058,
          44.7363476681,
          46.5234495636,
          64.1024536911,
          30.1104077732,
          33.4544366297,
          38.8921703701,
          48.502240028,
          24.6770848065,
          30.4628943994,
          30.2045330402,
          39.1791364747,
          20.5079690124,
          22.3386387575,
          25.3757388229,
          28.4193105717,
          22.7863176274,
          24.2090600837,
          28.1989688995,
          36.3606196011,
          23.9437536025,
          23.0519635059,
          30.2361418116,
          35.0041044594,
          27.8478918237,
          46.9886021788,
          60.117586376800006,
          77.6183100564,
          29.731456037,
          34.9518564867,
          34.5066481223,
          42.5353946584,
          9.42488847372,
          11.723082627,
          14.9815485884,
          25.1519079066,
          27.1201247208,
          28.1346335393,
          26.3918424154,
          25.3935314931,
          1.3387380938299998,
          42.3411609934,
          49.1919962299,
          28.1930139321,
          51.0894327446,
          65.17606264310001,
          73.295336366,
          72.4776748214,
          44.3365198368,
          32.587292588400004,
          35.6972911543,
          41.0701019971,
          17.4871644619,
          20.4814697289,
          23.7262338729,
          27.7864496661,
          7.643451906869999,
          9.49188652841,
          9.66739032943,
          15.6005719141,
          81.4065893831,
          71.5829118173,
          66.632176737,
          91.7584082453,
          54.2177987777,
          39.5915918101,
          36.6091466782,
          28.3171173383,
          75.8579855593,
          47.5546391753,
          34.9438902743,
          63.0607287449,
          74.6278561995,
          92.3753082915,
          91.0509065478,
          86.2975320889,
          36.3626536496,
          47.32510391939999,
          67.7906371355,
          58.2659779932,
          59.8844129108,
          86.6989968539,
          0.225449347209,
          0.0795059581624,
          25.7356870079,
          37.7076998214,
          28.4935889762,
          31.7236101436,
          48.7843340291,
          54.20113381979999,
          53.959648211,
          61.4482781111,
          30.5310708615,
          32.5057564723,
          27.2520303734,
          29.8897253923,
          35.5479437749,
          38.5910173249,
          27.9151441594,
          39.9893707746,
          20.5285578209,
          20.7703128758,
          15.3140127214,
          19.7758151542,
          34.0281852291,
          59.29383539999999,
          55.6880751307,
          43.3586106398,
          19.9467339483,
          27.1144798245,
          32.1662388033,
          42.0974145444,
          31.8454729567,
          35.141898248800004,
          35.2155009835,
          38.6473370483,
          36.1988323492,
          34.7505362196,
          40.8248050842,
          43.4469976538,
          36.1921329627,
          26.1824690647,
          23.7762475126,
          34.9258769575,
          29.8848078941,
          38.7253440201,
          52.66337379310001,
          149.51131554,
          155.486859844,
          168.31371458,
          183.915527311,
          69.7293093289,
          64.4734963454,
          64.7137426173,
          84.3950908526,
          48.7322747634,
          51.1695761128,
          68.8949043961,
          19.7473148836,
          25.5385108358,
          28.5057281045,
          31.6987214183,
          41.0333824771,
          43.5994352288,
          41.4218015848,
          39.4915119731,
          25.0010584659,
          33.102555836,
          35.7735159206,
          41.2817143067,
          37.6912446806,
          42.1233310838,
          42.258312305100006,
          50.2696323325,
          40.9821700246,
          46.8148412659,
          54.3239904201,
          61.0009114941,
          17.3451299105,
          30.3886058881,
          23.5827728271,
          27.4838724792,
          22.8596273413,
          25.1006811488,
          26.6895890682,
          27.4732345237,
          38.8312898757,
          51.2417759691,
          57.249342474,
          84.0875093943,
          73.04111867479999,
          62.8156816898,
          77.8106722688
         ],
         "y0": " ",
         "yaxis": "y"
        }
       ],
       "layout": {
        "legend": {
         "tracegroupgap": 0
        },
        "template": {
         "data": {
          "bar": [
           {
            "error_x": {
             "color": "#2a3f5f"
            },
            "error_y": {
             "color": "#2a3f5f"
            },
            "marker": {
             "line": {
              "color": "#E5ECF6",
              "width": 0.5
             },
             "pattern": {
              "fillmode": "overlay",
              "size": 10,
              "solidity": 0.2
             }
            },
            "type": "bar"
           }
          ],
          "barpolar": [
           {
            "marker": {
             "line": {
              "color": "#E5ECF6",
              "width": 0.5
             },
             "pattern": {
              "fillmode": "overlay",
              "size": 10,
              "solidity": 0.2
             }
            },
            "type": "barpolar"
           }
          ],
          "carpet": [
           {
            "aaxis": {
             "endlinecolor": "#2a3f5f",
             "gridcolor": "white",
             "linecolor": "white",
             "minorgridcolor": "white",
             "startlinecolor": "#2a3f5f"
            },
            "baxis": {
             "endlinecolor": "#2a3f5f",
             "gridcolor": "white",
             "linecolor": "white",
             "minorgridcolor": "white",
             "startlinecolor": "#2a3f5f"
            },
            "type": "carpet"
           }
          ],
          "choropleth": [
           {
            "colorbar": {
             "outlinewidth": 0,
             "ticks": ""
            },
            "type": "choropleth"
           }
          ],
          "contour": [
           {
            "colorbar": {
             "outlinewidth": 0,
             "ticks": ""
            },
            "colorscale": [
             [
              0,
              "#0d0887"
             ],
             [
              0.1111111111111111,
              "#46039f"
             ],
             [
              0.2222222222222222,
              "#7201a8"
             ],
             [
              0.3333333333333333,
              "#9c179e"
             ],
             [
              0.4444444444444444,
              "#bd3786"
             ],
             [
              0.5555555555555556,
              "#d8576b"
             ],
             [
              0.6666666666666666,
              "#ed7953"
             ],
             [
              0.7777777777777778,
              "#fb9f3a"
             ],
             [
              0.8888888888888888,
              "#fdca26"
             ],
             [
              1,
              "#f0f921"
             ]
            ],
            "type": "contour"
           }
          ],
          "contourcarpet": [
           {
            "colorbar": {
             "outlinewidth": 0,
             "ticks": ""
            },
            "type": "contourcarpet"
           }
          ],
          "heatmap": [
           {
            "colorbar": {
             "outlinewidth": 0,
             "ticks": ""
            },
            "colorscale": [
             [
              0,
              "#0d0887"
             ],
             [
              0.1111111111111111,
              "#46039f"
             ],
             [
              0.2222222222222222,
              "#7201a8"
             ],
             [
              0.3333333333333333,
              "#9c179e"
             ],
             [
              0.4444444444444444,
              "#bd3786"
             ],
             [
              0.5555555555555556,
              "#d8576b"
             ],
             [
              0.6666666666666666,
              "#ed7953"
             ],
             [
              0.7777777777777778,
              "#fb9f3a"
             ],
             [
              0.8888888888888888,
              "#fdca26"
             ],
             [
              1,
              "#f0f921"
             ]
            ],
            "type": "heatmap"
           }
          ],
          "heatmapgl": [
           {
            "colorbar": {
             "outlinewidth": 0,
             "ticks": ""
            },
            "colorscale": [
             [
              0,
              "#0d0887"
             ],
             [
              0.1111111111111111,
              "#46039f"
             ],
             [
              0.2222222222222222,
              "#7201a8"
             ],
             [
              0.3333333333333333,
              "#9c179e"
             ],
             [
              0.4444444444444444,
              "#bd3786"
             ],
             [
              0.5555555555555556,
              "#d8576b"
             ],
             [
              0.6666666666666666,
              "#ed7953"
             ],
             [
              0.7777777777777778,
              "#fb9f3a"
             ],
             [
              0.8888888888888888,
              "#fdca26"
             ],
             [
              1,
              "#f0f921"
             ]
            ],
            "type": "heatmapgl"
           }
          ],
          "histogram": [
           {
            "marker": {
             "pattern": {
              "fillmode": "overlay",
              "size": 10,
              "solidity": 0.2
             }
            },
            "type": "histogram"
           }
          ],
          "histogram2d": [
           {
            "colorbar": {
             "outlinewidth": 0,
             "ticks": ""
            },
            "colorscale": [
             [
              0,
              "#0d0887"
             ],
             [
              0.1111111111111111,
              "#46039f"
             ],
             [
              0.2222222222222222,
              "#7201a8"
             ],
             [
              0.3333333333333333,
              "#9c179e"
             ],
             [
              0.4444444444444444,
              "#bd3786"
             ],
             [
              0.5555555555555556,
              "#d8576b"
             ],
             [
              0.6666666666666666,
              "#ed7953"
             ],
             [
              0.7777777777777778,
              "#fb9f3a"
             ],
             [
              0.8888888888888888,
              "#fdca26"
             ],
             [
              1,
              "#f0f921"
             ]
            ],
            "type": "histogram2d"
           }
          ],
          "histogram2dcontour": [
           {
            "colorbar": {
             "outlinewidth": 0,
             "ticks": ""
            },
            "colorscale": [
             [
              0,
              "#0d0887"
             ],
             [
              0.1111111111111111,
              "#46039f"
             ],
             [
              0.2222222222222222,
              "#7201a8"
             ],
             [
              0.3333333333333333,
              "#9c179e"
             ],
             [
              0.4444444444444444,
              "#bd3786"
             ],
             [
              0.5555555555555556,
              "#d8576b"
             ],
             [
              0.6666666666666666,
              "#ed7953"
             ],
             [
              0.7777777777777778,
              "#fb9f3a"
             ],
             [
              0.8888888888888888,
              "#fdca26"
             ],
             [
              1,
              "#f0f921"
             ]
            ],
            "type": "histogram2dcontour"
           }
          ],
          "mesh3d": [
           {
            "colorbar": {
             "outlinewidth": 0,
             "ticks": ""
            },
            "type": "mesh3d"
           }
          ],
          "parcoords": [
           {
            "line": {
             "colorbar": {
              "outlinewidth": 0,
              "ticks": ""
             }
            },
            "type": "parcoords"
           }
          ],
          "pie": [
           {
            "automargin": true,
            "type": "pie"
           }
          ],
          "scatter": [
           {
            "fillpattern": {
             "fillmode": "overlay",
             "size": 10,
             "solidity": 0.2
            },
            "type": "scatter"
           }
          ],
          "scatter3d": [
           {
            "line": {
             "colorbar": {
              "outlinewidth": 0,
              "ticks": ""
             }
            },
            "marker": {
             "colorbar": {
              "outlinewidth": 0,
              "ticks": ""
             }
            },
            "type": "scatter3d"
           }
          ],
          "scattercarpet": [
           {
            "marker": {
             "colorbar": {
              "outlinewidth": 0,
              "ticks": ""
             }
            },
            "type": "scattercarpet"
           }
          ],
          "scattergeo": [
           {
            "marker": {
             "colorbar": {
              "outlinewidth": 0,
              "ticks": ""
             }
            },
            "type": "scattergeo"
           }
          ],
          "scattergl": [
           {
            "marker": {
             "colorbar": {
              "outlinewidth": 0,
              "ticks": ""
             }
            },
            "type": "scattergl"
           }
          ],
          "scattermapbox": [
           {
            "marker": {
             "colorbar": {
              "outlinewidth": 0,
              "ticks": ""
             }
            },
            "type": "scattermapbox"
           }
          ],
          "scatterpolar": [
           {
            "marker": {
             "colorbar": {
              "outlinewidth": 0,
              "ticks": ""
             }
            },
            "type": "scatterpolar"
           }
          ],
          "scatterpolargl": [
           {
            "marker": {
             "colorbar": {
              "outlinewidth": 0,
              "ticks": ""
             }
            },
            "type": "scatterpolargl"
           }
          ],
          "scatterternary": [
           {
            "marker": {
             "colorbar": {
              "outlinewidth": 0,
              "ticks": ""
             }
            },
            "type": "scatterternary"
           }
          ],
          "surface": [
           {
            "colorbar": {
             "outlinewidth": 0,
             "ticks": ""
            },
            "colorscale": [
             [
              0,
              "#0d0887"
             ],
             [
              0.1111111111111111,
              "#46039f"
             ],
             [
              0.2222222222222222,
              "#7201a8"
             ],
             [
              0.3333333333333333,
              "#9c179e"
             ],
             [
              0.4444444444444444,
              "#bd3786"
             ],
             [
              0.5555555555555556,
              "#d8576b"
             ],
             [
              0.6666666666666666,
              "#ed7953"
             ],
             [
              0.7777777777777778,
              "#fb9f3a"
             ],
             [
              0.8888888888888888,
              "#fdca26"
             ],
             [
              1,
              "#f0f921"
             ]
            ],
            "type": "surface"
           }
          ],
          "table": [
           {
            "cells": {
             "fill": {
              "color": "#EBF0F8"
             },
             "line": {
              "color": "white"
             }
            },
            "header": {
             "fill": {
              "color": "#C8D4E3"
             },
             "line": {
              "color": "white"
             }
            },
            "type": "table"
           }
          ]
         },
         "layout": {
          "annotationdefaults": {
           "arrowcolor": "#2a3f5f",
           "arrowhead": 0,
           "arrowwidth": 1
          },
          "autotypenumbers": "strict",
          "coloraxis": {
           "colorbar": {
            "outlinewidth": 0,
            "ticks": ""
           }
          },
          "colorscale": {
           "diverging": [
            [
             0,
             "#8e0152"
            ],
            [
             0.1,
             "#c51b7d"
            ],
            [
             0.2,
             "#de77ae"
            ],
            [
             0.3,
             "#f1b6da"
            ],
            [
             0.4,
             "#fde0ef"
            ],
            [
             0.5,
             "#f7f7f7"
            ],
            [
             0.6,
             "#e6f5d0"
            ],
            [
             0.7,
             "#b8e186"
            ],
            [
             0.8,
             "#7fbc41"
            ],
            [
             0.9,
             "#4d9221"
            ],
            [
             1,
             "#276419"
            ]
           ],
           "sequential": [
            [
             0,
             "#0d0887"
            ],
            [
             0.1111111111111111,
             "#46039f"
            ],
            [
             0.2222222222222222,
             "#7201a8"
            ],
            [
             0.3333333333333333,
             "#9c179e"
            ],
            [
             0.4444444444444444,
             "#bd3786"
            ],
            [
             0.5555555555555556,
             "#d8576b"
            ],
            [
             0.6666666666666666,
             "#ed7953"
            ],
            [
             0.7777777777777778,
             "#fb9f3a"
            ],
            [
             0.8888888888888888,
             "#fdca26"
            ],
            [
             1,
             "#f0f921"
            ]
           ],
           "sequentialminus": [
            [
             0,
             "#0d0887"
            ],
            [
             0.1111111111111111,
             "#46039f"
            ],
            [
             0.2222222222222222,
             "#7201a8"
            ],
            [
             0.3333333333333333,
             "#9c179e"
            ],
            [
             0.4444444444444444,
             "#bd3786"
            ],
            [
             0.5555555555555556,
             "#d8576b"
            ],
            [
             0.6666666666666666,
             "#ed7953"
            ],
            [
             0.7777777777777778,
             "#fb9f3a"
            ],
            [
             0.8888888888888888,
             "#fdca26"
            ],
            [
             1,
             "#f0f921"
            ]
           ]
          },
          "colorway": [
           "#636efa",
           "#EF553B",
           "#00cc96",
           "#ab63fa",
           "#FFA15A",
           "#19d3f3",
           "#FF6692",
           "#B6E880",
           "#FF97FF",
           "#FECB52"
          ],
          "font": {
           "color": "#2a3f5f"
          },
          "geo": {
           "bgcolor": "white",
           "lakecolor": "white",
           "landcolor": "#E5ECF6",
           "showlakes": true,
           "showland": true,
           "subunitcolor": "white"
          },
          "hoverlabel": {
           "align": "left"
          },
          "hovermode": "closest",
          "mapbox": {
           "style": "light"
          },
          "paper_bgcolor": "white",
          "plot_bgcolor": "#E5ECF6",
          "polar": {
           "angularaxis": {
            "gridcolor": "white",
            "linecolor": "white",
            "ticks": ""
           },
           "bgcolor": "#E5ECF6",
           "radialaxis": {
            "gridcolor": "white",
            "linecolor": "white",
            "ticks": ""
           }
          },
          "scene": {
           "xaxis": {
            "backgroundcolor": "#E5ECF6",
            "gridcolor": "white",
            "gridwidth": 2,
            "linecolor": "white",
            "showbackground": true,
            "ticks": "",
            "zerolinecolor": "white"
           },
           "yaxis": {
            "backgroundcolor": "#E5ECF6",
            "gridcolor": "white",
            "gridwidth": 2,
            "linecolor": "white",
            "showbackground": true,
            "ticks": "",
            "zerolinecolor": "white"
           },
           "zaxis": {
            "backgroundcolor": "#E5ECF6",
            "gridcolor": "white",
            "gridwidth": 2,
            "linecolor": "white",
            "showbackground": true,
            "ticks": "",
            "zerolinecolor": "white"
           }
          },
          "shapedefaults": {
           "line": {
            "color": "#2a3f5f"
           }
          },
          "ternary": {
           "aaxis": {
            "gridcolor": "white",
            "linecolor": "white",
            "ticks": ""
           },
           "baxis": {
            "gridcolor": "white",
            "linecolor": "white",
            "ticks": ""
           },
           "bgcolor": "#E5ECF6",
           "caxis": {
            "gridcolor": "white",
            "linecolor": "white",
            "ticks": ""
           }
          },
          "title": {
           "x": 0.05
          },
          "xaxis": {
           "automargin": true,
           "gridcolor": "white",
           "linecolor": "white",
           "ticks": "",
           "title": {
            "standoff": 15
           },
           "zerolinecolor": "white",
           "zerolinewidth": 2
          },
          "yaxis": {
           "automargin": true,
           "gridcolor": "white",
           "linecolor": "white",
           "ticks": "",
           "title": {
            "standoff": 15
           },
           "zerolinecolor": "white",
           "zerolinewidth": 2
          }
         }
        },
        "title": {
         "text": "Imports of Goods and Services (% of GDP) by Continent (Europe vs Asia, post-1990)"
        },
        "violinmode": "group",
        "xaxis": {
         "anchor": "y",
         "domain": [
          0,
          1
         ],
         "title": {
          "text": "continent"
         }
        },
        "yaxis": {
         "anchor": "x",
         "domain": [
          0,
          1
         ],
         "title": {
          "text": "Imports (% of GDP)"
         }
        }
       }
      }
     },
     "metadata": {},
     "output_type": "display_data"
    }
   ],
   "source": [
    "#generate interactive summary visualizations that demonstrate your answer\n",
    "\n",
    "# Create an interactive box plot\n",
    "Imports_fig_box = px.box(\n",
    "    filtered_df,\n",
    "    x='continent',\n",
    "    y='Imports of goods and services (% of GDP)',\n",
    "    title='Imports of Goods and Services (% of GDP) by Continent (Europe vs Asia, post-1990)',\n",
    "    labels={'Imports of goods and services (% of GDP)': 'Imports (% of GDP)'}\n",
    ")\n",
    "\n",
    "# Create an interactive violin plot\n",
    "Imports_fig_violin = px.violin(\n",
    "    filtered_df,\n",
    "    x='continent',\n",
    "    y='Imports of goods and services (% of GDP)',\n",
    "    title='Imports of Goods and Services (% of GDP) by Continent (Europe vs Asia, post-1990)',\n",
    "    labels={'Imports of goods and services (% of GDP)': 'Imports (% of GDP)'},\n",
    "    box=True,  # add box plot inside the violin plot\n",
    "    points=\"all\"  # show all points\n",
    ")\n",
    "\n",
    "# Save the plots as HTML files\n",
    "Imports_box_plot_path = r'C:\\Users\\abdoj\\OneDrive - UGent\\Desktop\\summer\\skill-assessments\\Python for Data Science\\Imports_Box_Plot.html'\n",
    "Imports_violin_plot_path = r'C:\\Users\\abdoj\\OneDrive - UGent\\Desktop\\summer\\skill-assessments\\Python for Data Science\\Imports_Violin_Plot.html'\n",
    "\n",
    "Imports_fig_box.write_html(Imports_box_plot_path)\n",
    "Imports_fig_violin.write_html(Imports_violin_plot_path)\n",
    "\n",
    "Imports_box_plot_path, Imports_violin_plot_path\n",
    "\n",
    "\n",
    "Imports_fig_box.show()\n",
    "Imports_fig_violin.show()\n"
   ]
  },
  {
   "cell_type": "markdown",
   "metadata": {},
   "source": [
    "**describe your reasoning for the statistical tests you chose to use**\n",
    "\n",
    "### Reasoning for Choosing the Statistical Test\n",
    "\n",
    "The research question is: Is there a significant difference between Europe and Asia with respect to 'Imports of goods and services (% of GDP)' in the years after 1990?\n",
    "\n",
    "### Steps for Choosing the Statistical Test:\n",
    "\n",
    "1. **Identify the Predictor and Outcome Variables:**\n",
    "   - Predictor Variable: `continent` (categorical, with levels \"Europe\" and \"Asia\")\n",
    "   - Outcome Variable: `Imports of goods and services (% of GDP)` (quantitative)\n",
    "\n",
    "2. **Determine the Nature of Variables:**\n",
    "   - The predictor variable `continent` is categorical because it represents distinct groups (Europe and Asia).\n",
    "   - The outcome variable `Imports of goods and services (% of GDP)` is quantitative because it is a continuous measure.\n",
    "\n",
    "3. **Choose the Appropriate Test Based on the Variables:**\n",
    "   - According to the provided flowchart, when we have a categorical predictor variable and a quantitative outcome variable, and we want to compare the means of two groups, we use a T-test.\n",
    "\n",
    "### Reasoning for the T-test:\n",
    "- **Independent Samples T-test**: Used to compare the means of two independent groups (in this case, Europe and Asia) to determine if there is a statistically significant difference between them.\n",
    "- **Assumptions**:\n",
    "  - **Independence**: The samples from Europe and Asia are independent of each other.\n",
    "  - **Normality**: The distribution of the outcome variable (imports as a percentage of GDP) should be approximately normal within each group. The T-test is robust to violations of normality, especially with larger sample sizes.\n",
    "  - **Homogeneity of Variances**: Assumes that the variances of the two groups are equal. If this assumption is violated, we can use Welch's T-test, which does not assume equal variances. In this case, we used Welch's T-test (`equal_var=False`).\n",
    "\n",
    "### Summary:\n",
    "1. **Filter Data**: We filtered the data to include only the years after 1990 and only for the continents Europe and Asia.\n",
    "2. **Perform T-test**: We performed an independent samples T-test to compare the means of 'Imports of goods and services (% of GDP)' between Europe and Asia.\n",
    "3. **Visualizations**: We created interactive box plots and violin plots to visualize the distribution and density of imports as a percentage of GDP for the two continents.\n",
    "\n",
    "### Conclusion:\n",
    "The T-test indicated that there is no statistically significant difference between Europe and Asia in terms of 'Imports of goods and services (% of GDP)' for the years after 1990, as the p-value was greater than 0.05.\n",
    "\n",
    "By following this systematic approach, we ensured that the chosen statistical test was appropriate for the nature of the data and the research question. The visualizations further help in understanding the distribution and differences between the two groups."
   ]
  },
  {
   "cell_type": "code",
   "execution_count": 71,
   "metadata": {},
   "outputs": [
    {
     "data": {
      "text/plain": [
       "(14732.03521055,\n",
       " Country Name\n",
       " Macao SAR, China    14732.035211\n",
       " Name: Population density (people per sq. km of land area), dtype: float64)"
      ]
     },
     "execution_count": 71,
     "metadata": {},
     "output_type": "execute_result"
    }
   ],
   "source": [
    "# 3. What is the country (or countries) that has the highest `'Population density (people per sq. km of land area)\n",
    "# '` across all years? (i.e., which country has the highest average ranking in this category across each time point in the dataset?\n",
    "\n",
    "# Calculate the average population density for each country across all years\n",
    "average_population_density = gapminder_df.groupby('Country Name')['Population density (people per sq. km of land area)'].mean()\n",
    "\n",
    "# Identify the country (or countries) with the highest average population density\n",
    "max_avg_density = average_population_density.max()\n",
    "countries_with_highest_avg_density = average_population_density[average_population_density == max_avg_density]\n",
    "\n",
    "max_avg_density, countries_with_highest_avg_density\n",
    "\n"
   ]
  },
  {
   "cell_type": "markdown",
   "metadata": {},
   "source": [
    "The country with the highest average population density (people per sq. km of land area) across all years is Macao SAR, China, with an average population density of approximately 14,732.04 people per sq. km."
   ]
  },
  {
   "cell_type": "code",
   "execution_count": 72,
   "metadata": {},
   "outputs": [
    {
     "data": {
      "application/vnd.plotly.v1+json": {
       "config": {
        "plotlyServerURL": "https://plot.ly"
       },
       "data": [
        {
         "hovertemplate": "Year=%{x}<br>Population Density (people per sq. km)=%{y}<extra></extra>",
         "legendgroup": "",
         "line": {
          "color": "#636efa",
          "dash": "solid"
         },
         "marker": {
          "symbol": "circle"
         },
         "mode": "lines",
         "name": "",
         "orientation": "v",
         "showlegend": false,
         "type": "scatter",
         "x": [
          1962,
          1967,
          1972,
          1977,
          1982,
          1987,
          1992,
          1997,
          2002,
          2007
         ],
         "xaxis": "x",
         "y": [
          9051.25,
          11362.9,
          12714.1,
          12186.45,
          13046.05,
          16132.75,
          18889.95,
          20601.55,
          16451.037037000002,
          16884.3150685
         ],
         "yaxis": "y"
        }
       ],
       "layout": {
        "legend": {
         "tracegroupgap": 0
        },
        "template": {
         "data": {
          "bar": [
           {
            "error_x": {
             "color": "#2a3f5f"
            },
            "error_y": {
             "color": "#2a3f5f"
            },
            "marker": {
             "line": {
              "color": "#E5ECF6",
              "width": 0.5
             },
             "pattern": {
              "fillmode": "overlay",
              "size": 10,
              "solidity": 0.2
             }
            },
            "type": "bar"
           }
          ],
          "barpolar": [
           {
            "marker": {
             "line": {
              "color": "#E5ECF6",
              "width": 0.5
             },
             "pattern": {
              "fillmode": "overlay",
              "size": 10,
              "solidity": 0.2
             }
            },
            "type": "barpolar"
           }
          ],
          "carpet": [
           {
            "aaxis": {
             "endlinecolor": "#2a3f5f",
             "gridcolor": "white",
             "linecolor": "white",
             "minorgridcolor": "white",
             "startlinecolor": "#2a3f5f"
            },
            "baxis": {
             "endlinecolor": "#2a3f5f",
             "gridcolor": "white",
             "linecolor": "white",
             "minorgridcolor": "white",
             "startlinecolor": "#2a3f5f"
            },
            "type": "carpet"
           }
          ],
          "choropleth": [
           {
            "colorbar": {
             "outlinewidth": 0,
             "ticks": ""
            },
            "type": "choropleth"
           }
          ],
          "contour": [
           {
            "colorbar": {
             "outlinewidth": 0,
             "ticks": ""
            },
            "colorscale": [
             [
              0,
              "#0d0887"
             ],
             [
              0.1111111111111111,
              "#46039f"
             ],
             [
              0.2222222222222222,
              "#7201a8"
             ],
             [
              0.3333333333333333,
              "#9c179e"
             ],
             [
              0.4444444444444444,
              "#bd3786"
             ],
             [
              0.5555555555555556,
              "#d8576b"
             ],
             [
              0.6666666666666666,
              "#ed7953"
             ],
             [
              0.7777777777777778,
              "#fb9f3a"
             ],
             [
              0.8888888888888888,
              "#fdca26"
             ],
             [
              1,
              "#f0f921"
             ]
            ],
            "type": "contour"
           }
          ],
          "contourcarpet": [
           {
            "colorbar": {
             "outlinewidth": 0,
             "ticks": ""
            },
            "type": "contourcarpet"
           }
          ],
          "heatmap": [
           {
            "colorbar": {
             "outlinewidth": 0,
             "ticks": ""
            },
            "colorscale": [
             [
              0,
              "#0d0887"
             ],
             [
              0.1111111111111111,
              "#46039f"
             ],
             [
              0.2222222222222222,
              "#7201a8"
             ],
             [
              0.3333333333333333,
              "#9c179e"
             ],
             [
              0.4444444444444444,
              "#bd3786"
             ],
             [
              0.5555555555555556,
              "#d8576b"
             ],
             [
              0.6666666666666666,
              "#ed7953"
             ],
             [
              0.7777777777777778,
              "#fb9f3a"
             ],
             [
              0.8888888888888888,
              "#fdca26"
             ],
             [
              1,
              "#f0f921"
             ]
            ],
            "type": "heatmap"
           }
          ],
          "heatmapgl": [
           {
            "colorbar": {
             "outlinewidth": 0,
             "ticks": ""
            },
            "colorscale": [
             [
              0,
              "#0d0887"
             ],
             [
              0.1111111111111111,
              "#46039f"
             ],
             [
              0.2222222222222222,
              "#7201a8"
             ],
             [
              0.3333333333333333,
              "#9c179e"
             ],
             [
              0.4444444444444444,
              "#bd3786"
             ],
             [
              0.5555555555555556,
              "#d8576b"
             ],
             [
              0.6666666666666666,
              "#ed7953"
             ],
             [
              0.7777777777777778,
              "#fb9f3a"
             ],
             [
              0.8888888888888888,
              "#fdca26"
             ],
             [
              1,
              "#f0f921"
             ]
            ],
            "type": "heatmapgl"
           }
          ],
          "histogram": [
           {
            "marker": {
             "pattern": {
              "fillmode": "overlay",
              "size": 10,
              "solidity": 0.2
             }
            },
            "type": "histogram"
           }
          ],
          "histogram2d": [
           {
            "colorbar": {
             "outlinewidth": 0,
             "ticks": ""
            },
            "colorscale": [
             [
              0,
              "#0d0887"
             ],
             [
              0.1111111111111111,
              "#46039f"
             ],
             [
              0.2222222222222222,
              "#7201a8"
             ],
             [
              0.3333333333333333,
              "#9c179e"
             ],
             [
              0.4444444444444444,
              "#bd3786"
             ],
             [
              0.5555555555555556,
              "#d8576b"
             ],
             [
              0.6666666666666666,
              "#ed7953"
             ],
             [
              0.7777777777777778,
              "#fb9f3a"
             ],
             [
              0.8888888888888888,
              "#fdca26"
             ],
             [
              1,
              "#f0f921"
             ]
            ],
            "type": "histogram2d"
           }
          ],
          "histogram2dcontour": [
           {
            "colorbar": {
             "outlinewidth": 0,
             "ticks": ""
            },
            "colorscale": [
             [
              0,
              "#0d0887"
             ],
             [
              0.1111111111111111,
              "#46039f"
             ],
             [
              0.2222222222222222,
              "#7201a8"
             ],
             [
              0.3333333333333333,
              "#9c179e"
             ],
             [
              0.4444444444444444,
              "#bd3786"
             ],
             [
              0.5555555555555556,
              "#d8576b"
             ],
             [
              0.6666666666666666,
              "#ed7953"
             ],
             [
              0.7777777777777778,
              "#fb9f3a"
             ],
             [
              0.8888888888888888,
              "#fdca26"
             ],
             [
              1,
              "#f0f921"
             ]
            ],
            "type": "histogram2dcontour"
           }
          ],
          "mesh3d": [
           {
            "colorbar": {
             "outlinewidth": 0,
             "ticks": ""
            },
            "type": "mesh3d"
           }
          ],
          "parcoords": [
           {
            "line": {
             "colorbar": {
              "outlinewidth": 0,
              "ticks": ""
             }
            },
            "type": "parcoords"
           }
          ],
          "pie": [
           {
            "automargin": true,
            "type": "pie"
           }
          ],
          "scatter": [
           {
            "fillpattern": {
             "fillmode": "overlay",
             "size": 10,
             "solidity": 0.2
            },
            "type": "scatter"
           }
          ],
          "scatter3d": [
           {
            "line": {
             "colorbar": {
              "outlinewidth": 0,
              "ticks": ""
             }
            },
            "marker": {
             "colorbar": {
              "outlinewidth": 0,
              "ticks": ""
             }
            },
            "type": "scatter3d"
           }
          ],
          "scattercarpet": [
           {
            "marker": {
             "colorbar": {
              "outlinewidth": 0,
              "ticks": ""
             }
            },
            "type": "scattercarpet"
           }
          ],
          "scattergeo": [
           {
            "marker": {
             "colorbar": {
              "outlinewidth": 0,
              "ticks": ""
             }
            },
            "type": "scattergeo"
           }
          ],
          "scattergl": [
           {
            "marker": {
             "colorbar": {
              "outlinewidth": 0,
              "ticks": ""
             }
            },
            "type": "scattergl"
           }
          ],
          "scattermapbox": [
           {
            "marker": {
             "colorbar": {
              "outlinewidth": 0,
              "ticks": ""
             }
            },
            "type": "scattermapbox"
           }
          ],
          "scatterpolar": [
           {
            "marker": {
             "colorbar": {
              "outlinewidth": 0,
              "ticks": ""
             }
            },
            "type": "scatterpolar"
           }
          ],
          "scatterpolargl": [
           {
            "marker": {
             "colorbar": {
              "outlinewidth": 0,
              "ticks": ""
             }
            },
            "type": "scatterpolargl"
           }
          ],
          "scatterternary": [
           {
            "marker": {
             "colorbar": {
              "outlinewidth": 0,
              "ticks": ""
             }
            },
            "type": "scatterternary"
           }
          ],
          "surface": [
           {
            "colorbar": {
             "outlinewidth": 0,
             "ticks": ""
            },
            "colorscale": [
             [
              0,
              "#0d0887"
             ],
             [
              0.1111111111111111,
              "#46039f"
             ],
             [
              0.2222222222222222,
              "#7201a8"
             ],
             [
              0.3333333333333333,
              "#9c179e"
             ],
             [
              0.4444444444444444,
              "#bd3786"
             ],
             [
              0.5555555555555556,
              "#d8576b"
             ],
             [
              0.6666666666666666,
              "#ed7953"
             ],
             [
              0.7777777777777778,
              "#fb9f3a"
             ],
             [
              0.8888888888888888,
              "#fdca26"
             ],
             [
              1,
              "#f0f921"
             ]
            ],
            "type": "surface"
           }
          ],
          "table": [
           {
            "cells": {
             "fill": {
              "color": "#EBF0F8"
             },
             "line": {
              "color": "white"
             }
            },
            "header": {
             "fill": {
              "color": "#C8D4E3"
             },
             "line": {
              "color": "white"
             }
            },
            "type": "table"
           }
          ]
         },
         "layout": {
          "annotationdefaults": {
           "arrowcolor": "#2a3f5f",
           "arrowhead": 0,
           "arrowwidth": 1
          },
          "autotypenumbers": "strict",
          "coloraxis": {
           "colorbar": {
            "outlinewidth": 0,
            "ticks": ""
           }
          },
          "colorscale": {
           "diverging": [
            [
             0,
             "#8e0152"
            ],
            [
             0.1,
             "#c51b7d"
            ],
            [
             0.2,
             "#de77ae"
            ],
            [
             0.3,
             "#f1b6da"
            ],
            [
             0.4,
             "#fde0ef"
            ],
            [
             0.5,
             "#f7f7f7"
            ],
            [
             0.6,
             "#e6f5d0"
            ],
            [
             0.7,
             "#b8e186"
            ],
            [
             0.8,
             "#7fbc41"
            ],
            [
             0.9,
             "#4d9221"
            ],
            [
             1,
             "#276419"
            ]
           ],
           "sequential": [
            [
             0,
             "#0d0887"
            ],
            [
             0.1111111111111111,
             "#46039f"
            ],
            [
             0.2222222222222222,
             "#7201a8"
            ],
            [
             0.3333333333333333,
             "#9c179e"
            ],
            [
             0.4444444444444444,
             "#bd3786"
            ],
            [
             0.5555555555555556,
             "#d8576b"
            ],
            [
             0.6666666666666666,
             "#ed7953"
            ],
            [
             0.7777777777777778,
             "#fb9f3a"
            ],
            [
             0.8888888888888888,
             "#fdca26"
            ],
            [
             1,
             "#f0f921"
            ]
           ],
           "sequentialminus": [
            [
             0,
             "#0d0887"
            ],
            [
             0.1111111111111111,
             "#46039f"
            ],
            [
             0.2222222222222222,
             "#7201a8"
            ],
            [
             0.3333333333333333,
             "#9c179e"
            ],
            [
             0.4444444444444444,
             "#bd3786"
            ],
            [
             0.5555555555555556,
             "#d8576b"
            ],
            [
             0.6666666666666666,
             "#ed7953"
            ],
            [
             0.7777777777777778,
             "#fb9f3a"
            ],
            [
             0.8888888888888888,
             "#fdca26"
            ],
            [
             1,
             "#f0f921"
            ]
           ]
          },
          "colorway": [
           "#636efa",
           "#EF553B",
           "#00cc96",
           "#ab63fa",
           "#FFA15A",
           "#19d3f3",
           "#FF6692",
           "#B6E880",
           "#FF97FF",
           "#FECB52"
          ],
          "font": {
           "color": "#2a3f5f"
          },
          "geo": {
           "bgcolor": "white",
           "lakecolor": "white",
           "landcolor": "#E5ECF6",
           "showlakes": true,
           "showland": true,
           "subunitcolor": "white"
          },
          "hoverlabel": {
           "align": "left"
          },
          "hovermode": "closest",
          "mapbox": {
           "style": "light"
          },
          "paper_bgcolor": "white",
          "plot_bgcolor": "#E5ECF6",
          "polar": {
           "angularaxis": {
            "gridcolor": "white",
            "linecolor": "white",
            "ticks": ""
           },
           "bgcolor": "#E5ECF6",
           "radialaxis": {
            "gridcolor": "white",
            "linecolor": "white",
            "ticks": ""
           }
          },
          "scene": {
           "xaxis": {
            "backgroundcolor": "#E5ECF6",
            "gridcolor": "white",
            "gridwidth": 2,
            "linecolor": "white",
            "showbackground": true,
            "ticks": "",
            "zerolinecolor": "white"
           },
           "yaxis": {
            "backgroundcolor": "#E5ECF6",
            "gridcolor": "white",
            "gridwidth": 2,
            "linecolor": "white",
            "showbackground": true,
            "ticks": "",
            "zerolinecolor": "white"
           },
           "zaxis": {
            "backgroundcolor": "#E5ECF6",
            "gridcolor": "white",
            "gridwidth": 2,
            "linecolor": "white",
            "showbackground": true,
            "ticks": "",
            "zerolinecolor": "white"
           }
          },
          "shapedefaults": {
           "line": {
            "color": "#2a3f5f"
           }
          },
          "ternary": {
           "aaxis": {
            "gridcolor": "white",
            "linecolor": "white",
            "ticks": ""
           },
           "baxis": {
            "gridcolor": "white",
            "linecolor": "white",
            "ticks": ""
           },
           "bgcolor": "#E5ECF6",
           "caxis": {
            "gridcolor": "white",
            "linecolor": "white",
            "ticks": ""
           }
          },
          "title": {
           "x": 0.05
          },
          "xaxis": {
           "automargin": true,
           "gridcolor": "white",
           "linecolor": "white",
           "ticks": "",
           "title": {
            "standoff": 15
           },
           "zerolinecolor": "white",
           "zerolinewidth": 2
          },
          "yaxis": {
           "automargin": true,
           "gridcolor": "white",
           "linecolor": "white",
           "ticks": "",
           "title": {
            "standoff": 15
           },
           "zerolinecolor": "white",
           "zerolinewidth": 2
          }
         }
        },
        "title": {
         "text": "Population Density Over Years: Macao SAR, China"
        },
        "xaxis": {
         "anchor": "y",
         "domain": [
          0,
          1
         ],
         "title": {
          "text": "Year"
         }
        },
        "yaxis": {
         "anchor": "x",
         "domain": [
          0,
          1
         ],
         "title": {
          "text": "Population Density (people per sq. km)"
         }
        }
       }
      }
     },
     "metadata": {},
     "output_type": "display_data"
    },
    {
     "data": {
      "application/vnd.plotly.v1+json": {
       "config": {
        "plotlyServerURL": "https://plot.ly"
       },
       "data": [
        {
         "alignmentgroup": "True",
         "hovertemplate": "Country Name=%{x}<br>Average Population Density (people per sq. km)=%{y}<extra></extra>",
         "legendgroup": "",
         "marker": {
          "color": "#636efa",
          "pattern": {
           "shape": ""
          }
         },
         "name": "",
         "offsetgroup": "",
         "orientation": "v",
         "showlegend": false,
         "textposition": "auto",
         "type": "bar",
         "x": [
          "Macao SAR, China",
          "Monaco",
          "Hong Kong SAR, China",
          "Singapore",
          "Gibraltar",
          "Bermuda",
          "Malta",
          "Sint Maarten (Dutch part)",
          "Bangladesh",
          "Channel Islands"
         ],
         "xaxis": "x",
         "y": [
          14732.03521055,
          14089.9,
          5153.05690264,
          4361.499928215,
          2622.25,
          1132.78,
          1083.8609375,
          1059.235294116,
          733.2588530379,
          706.2242105263
         ],
         "yaxis": "y"
        }
       ],
       "layout": {
        "barmode": "relative",
        "legend": {
         "tracegroupgap": 0
        },
        "template": {
         "data": {
          "bar": [
           {
            "error_x": {
             "color": "#2a3f5f"
            },
            "error_y": {
             "color": "#2a3f5f"
            },
            "marker": {
             "line": {
              "color": "#E5ECF6",
              "width": 0.5
             },
             "pattern": {
              "fillmode": "overlay",
              "size": 10,
              "solidity": 0.2
             }
            },
            "type": "bar"
           }
          ],
          "barpolar": [
           {
            "marker": {
             "line": {
              "color": "#E5ECF6",
              "width": 0.5
             },
             "pattern": {
              "fillmode": "overlay",
              "size": 10,
              "solidity": 0.2
             }
            },
            "type": "barpolar"
           }
          ],
          "carpet": [
           {
            "aaxis": {
             "endlinecolor": "#2a3f5f",
             "gridcolor": "white",
             "linecolor": "white",
             "minorgridcolor": "white",
             "startlinecolor": "#2a3f5f"
            },
            "baxis": {
             "endlinecolor": "#2a3f5f",
             "gridcolor": "white",
             "linecolor": "white",
             "minorgridcolor": "white",
             "startlinecolor": "#2a3f5f"
            },
            "type": "carpet"
           }
          ],
          "choropleth": [
           {
            "colorbar": {
             "outlinewidth": 0,
             "ticks": ""
            },
            "type": "choropleth"
           }
          ],
          "contour": [
           {
            "colorbar": {
             "outlinewidth": 0,
             "ticks": ""
            },
            "colorscale": [
             [
              0,
              "#0d0887"
             ],
             [
              0.1111111111111111,
              "#46039f"
             ],
             [
              0.2222222222222222,
              "#7201a8"
             ],
             [
              0.3333333333333333,
              "#9c179e"
             ],
             [
              0.4444444444444444,
              "#bd3786"
             ],
             [
              0.5555555555555556,
              "#d8576b"
             ],
             [
              0.6666666666666666,
              "#ed7953"
             ],
             [
              0.7777777777777778,
              "#fb9f3a"
             ],
             [
              0.8888888888888888,
              "#fdca26"
             ],
             [
              1,
              "#f0f921"
             ]
            ],
            "type": "contour"
           }
          ],
          "contourcarpet": [
           {
            "colorbar": {
             "outlinewidth": 0,
             "ticks": ""
            },
            "type": "contourcarpet"
           }
          ],
          "heatmap": [
           {
            "colorbar": {
             "outlinewidth": 0,
             "ticks": ""
            },
            "colorscale": [
             [
              0,
              "#0d0887"
             ],
             [
              0.1111111111111111,
              "#46039f"
             ],
             [
              0.2222222222222222,
              "#7201a8"
             ],
             [
              0.3333333333333333,
              "#9c179e"
             ],
             [
              0.4444444444444444,
              "#bd3786"
             ],
             [
              0.5555555555555556,
              "#d8576b"
             ],
             [
              0.6666666666666666,
              "#ed7953"
             ],
             [
              0.7777777777777778,
              "#fb9f3a"
             ],
             [
              0.8888888888888888,
              "#fdca26"
             ],
             [
              1,
              "#f0f921"
             ]
            ],
            "type": "heatmap"
           }
          ],
          "heatmapgl": [
           {
            "colorbar": {
             "outlinewidth": 0,
             "ticks": ""
            },
            "colorscale": [
             [
              0,
              "#0d0887"
             ],
             [
              0.1111111111111111,
              "#46039f"
             ],
             [
              0.2222222222222222,
              "#7201a8"
             ],
             [
              0.3333333333333333,
              "#9c179e"
             ],
             [
              0.4444444444444444,
              "#bd3786"
             ],
             [
              0.5555555555555556,
              "#d8576b"
             ],
             [
              0.6666666666666666,
              "#ed7953"
             ],
             [
              0.7777777777777778,
              "#fb9f3a"
             ],
             [
              0.8888888888888888,
              "#fdca26"
             ],
             [
              1,
              "#f0f921"
             ]
            ],
            "type": "heatmapgl"
           }
          ],
          "histogram": [
           {
            "marker": {
             "pattern": {
              "fillmode": "overlay",
              "size": 10,
              "solidity": 0.2
             }
            },
            "type": "histogram"
           }
          ],
          "histogram2d": [
           {
            "colorbar": {
             "outlinewidth": 0,
             "ticks": ""
            },
            "colorscale": [
             [
              0,
              "#0d0887"
             ],
             [
              0.1111111111111111,
              "#46039f"
             ],
             [
              0.2222222222222222,
              "#7201a8"
             ],
             [
              0.3333333333333333,
              "#9c179e"
             ],
             [
              0.4444444444444444,
              "#bd3786"
             ],
             [
              0.5555555555555556,
              "#d8576b"
             ],
             [
              0.6666666666666666,
              "#ed7953"
             ],
             [
              0.7777777777777778,
              "#fb9f3a"
             ],
             [
              0.8888888888888888,
              "#fdca26"
             ],
             [
              1,
              "#f0f921"
             ]
            ],
            "type": "histogram2d"
           }
          ],
          "histogram2dcontour": [
           {
            "colorbar": {
             "outlinewidth": 0,
             "ticks": ""
            },
            "colorscale": [
             [
              0,
              "#0d0887"
             ],
             [
              0.1111111111111111,
              "#46039f"
             ],
             [
              0.2222222222222222,
              "#7201a8"
             ],
             [
              0.3333333333333333,
              "#9c179e"
             ],
             [
              0.4444444444444444,
              "#bd3786"
             ],
             [
              0.5555555555555556,
              "#d8576b"
             ],
             [
              0.6666666666666666,
              "#ed7953"
             ],
             [
              0.7777777777777778,
              "#fb9f3a"
             ],
             [
              0.8888888888888888,
              "#fdca26"
             ],
             [
              1,
              "#f0f921"
             ]
            ],
            "type": "histogram2dcontour"
           }
          ],
          "mesh3d": [
           {
            "colorbar": {
             "outlinewidth": 0,
             "ticks": ""
            },
            "type": "mesh3d"
           }
          ],
          "parcoords": [
           {
            "line": {
             "colorbar": {
              "outlinewidth": 0,
              "ticks": ""
             }
            },
            "type": "parcoords"
           }
          ],
          "pie": [
           {
            "automargin": true,
            "type": "pie"
           }
          ],
          "scatter": [
           {
            "fillpattern": {
             "fillmode": "overlay",
             "size": 10,
             "solidity": 0.2
            },
            "type": "scatter"
           }
          ],
          "scatter3d": [
           {
            "line": {
             "colorbar": {
              "outlinewidth": 0,
              "ticks": ""
             }
            },
            "marker": {
             "colorbar": {
              "outlinewidth": 0,
              "ticks": ""
             }
            },
            "type": "scatter3d"
           }
          ],
          "scattercarpet": [
           {
            "marker": {
             "colorbar": {
              "outlinewidth": 0,
              "ticks": ""
             }
            },
            "type": "scattercarpet"
           }
          ],
          "scattergeo": [
           {
            "marker": {
             "colorbar": {
              "outlinewidth": 0,
              "ticks": ""
             }
            },
            "type": "scattergeo"
           }
          ],
          "scattergl": [
           {
            "marker": {
             "colorbar": {
              "outlinewidth": 0,
              "ticks": ""
             }
            },
            "type": "scattergl"
           }
          ],
          "scattermapbox": [
           {
            "marker": {
             "colorbar": {
              "outlinewidth": 0,
              "ticks": ""
             }
            },
            "type": "scattermapbox"
           }
          ],
          "scatterpolar": [
           {
            "marker": {
             "colorbar": {
              "outlinewidth": 0,
              "ticks": ""
             }
            },
            "type": "scatterpolar"
           }
          ],
          "scatterpolargl": [
           {
            "marker": {
             "colorbar": {
              "outlinewidth": 0,
              "ticks": ""
             }
            },
            "type": "scatterpolargl"
           }
          ],
          "scatterternary": [
           {
            "marker": {
             "colorbar": {
              "outlinewidth": 0,
              "ticks": ""
             }
            },
            "type": "scatterternary"
           }
          ],
          "surface": [
           {
            "colorbar": {
             "outlinewidth": 0,
             "ticks": ""
            },
            "colorscale": [
             [
              0,
              "#0d0887"
             ],
             [
              0.1111111111111111,
              "#46039f"
             ],
             [
              0.2222222222222222,
              "#7201a8"
             ],
             [
              0.3333333333333333,
              "#9c179e"
             ],
             [
              0.4444444444444444,
              "#bd3786"
             ],
             [
              0.5555555555555556,
              "#d8576b"
             ],
             [
              0.6666666666666666,
              "#ed7953"
             ],
             [
              0.7777777777777778,
              "#fb9f3a"
             ],
             [
              0.8888888888888888,
              "#fdca26"
             ],
             [
              1,
              "#f0f921"
             ]
            ],
            "type": "surface"
           }
          ],
          "table": [
           {
            "cells": {
             "fill": {
              "color": "#EBF0F8"
             },
             "line": {
              "color": "white"
             }
            },
            "header": {
             "fill": {
              "color": "#C8D4E3"
             },
             "line": {
              "color": "white"
             }
            },
            "type": "table"
           }
          ]
         },
         "layout": {
          "annotationdefaults": {
           "arrowcolor": "#2a3f5f",
           "arrowhead": 0,
           "arrowwidth": 1
          },
          "autotypenumbers": "strict",
          "coloraxis": {
           "colorbar": {
            "outlinewidth": 0,
            "ticks": ""
           }
          },
          "colorscale": {
           "diverging": [
            [
             0,
             "#8e0152"
            ],
            [
             0.1,
             "#c51b7d"
            ],
            [
             0.2,
             "#de77ae"
            ],
            [
             0.3,
             "#f1b6da"
            ],
            [
             0.4,
             "#fde0ef"
            ],
            [
             0.5,
             "#f7f7f7"
            ],
            [
             0.6,
             "#e6f5d0"
            ],
            [
             0.7,
             "#b8e186"
            ],
            [
             0.8,
             "#7fbc41"
            ],
            [
             0.9,
             "#4d9221"
            ],
            [
             1,
             "#276419"
            ]
           ],
           "sequential": [
            [
             0,
             "#0d0887"
            ],
            [
             0.1111111111111111,
             "#46039f"
            ],
            [
             0.2222222222222222,
             "#7201a8"
            ],
            [
             0.3333333333333333,
             "#9c179e"
            ],
            [
             0.4444444444444444,
             "#bd3786"
            ],
            [
             0.5555555555555556,
             "#d8576b"
            ],
            [
             0.6666666666666666,
             "#ed7953"
            ],
            [
             0.7777777777777778,
             "#fb9f3a"
            ],
            [
             0.8888888888888888,
             "#fdca26"
            ],
            [
             1,
             "#f0f921"
            ]
           ],
           "sequentialminus": [
            [
             0,
             "#0d0887"
            ],
            [
             0.1111111111111111,
             "#46039f"
            ],
            [
             0.2222222222222222,
             "#7201a8"
            ],
            [
             0.3333333333333333,
             "#9c179e"
            ],
            [
             0.4444444444444444,
             "#bd3786"
            ],
            [
             0.5555555555555556,
             "#d8576b"
            ],
            [
             0.6666666666666666,
             "#ed7953"
            ],
            [
             0.7777777777777778,
             "#fb9f3a"
            ],
            [
             0.8888888888888888,
             "#fdca26"
            ],
            [
             1,
             "#f0f921"
            ]
           ]
          },
          "colorway": [
           "#636efa",
           "#EF553B",
           "#00cc96",
           "#ab63fa",
           "#FFA15A",
           "#19d3f3",
           "#FF6692",
           "#B6E880",
           "#FF97FF",
           "#FECB52"
          ],
          "font": {
           "color": "#2a3f5f"
          },
          "geo": {
           "bgcolor": "white",
           "lakecolor": "white",
           "landcolor": "#E5ECF6",
           "showlakes": true,
           "showland": true,
           "subunitcolor": "white"
          },
          "hoverlabel": {
           "align": "left"
          },
          "hovermode": "closest",
          "mapbox": {
           "style": "light"
          },
          "paper_bgcolor": "white",
          "plot_bgcolor": "#E5ECF6",
          "polar": {
           "angularaxis": {
            "gridcolor": "white",
            "linecolor": "white",
            "ticks": ""
           },
           "bgcolor": "#E5ECF6",
           "radialaxis": {
            "gridcolor": "white",
            "linecolor": "white",
            "ticks": ""
           }
          },
          "scene": {
           "xaxis": {
            "backgroundcolor": "#E5ECF6",
            "gridcolor": "white",
            "gridwidth": 2,
            "linecolor": "white",
            "showbackground": true,
            "ticks": "",
            "zerolinecolor": "white"
           },
           "yaxis": {
            "backgroundcolor": "#E5ECF6",
            "gridcolor": "white",
            "gridwidth": 2,
            "linecolor": "white",
            "showbackground": true,
            "ticks": "",
            "zerolinecolor": "white"
           },
           "zaxis": {
            "backgroundcolor": "#E5ECF6",
            "gridcolor": "white",
            "gridwidth": 2,
            "linecolor": "white",
            "showbackground": true,
            "ticks": "",
            "zerolinecolor": "white"
           }
          },
          "shapedefaults": {
           "line": {
            "color": "#2a3f5f"
           }
          },
          "ternary": {
           "aaxis": {
            "gridcolor": "white",
            "linecolor": "white",
            "ticks": ""
           },
           "baxis": {
            "gridcolor": "white",
            "linecolor": "white",
            "ticks": ""
           },
           "bgcolor": "#E5ECF6",
           "caxis": {
            "gridcolor": "white",
            "linecolor": "white",
            "ticks": ""
           }
          },
          "title": {
           "x": 0.05
          },
          "xaxis": {
           "automargin": true,
           "gridcolor": "white",
           "linecolor": "white",
           "ticks": "",
           "title": {
            "standoff": 15
           },
           "zerolinecolor": "white",
           "zerolinewidth": 2
          },
          "yaxis": {
           "automargin": true,
           "gridcolor": "white",
           "linecolor": "white",
           "ticks": "",
           "title": {
            "standoff": 15
           },
           "zerolinecolor": "white",
           "zerolinewidth": 2
          }
         }
        },
        "title": {
         "text": "Top 10 Countries by Average Population Density"
        },
        "xaxis": {
         "anchor": "y",
         "domain": [
          0,
          1
         ],
         "title": {
          "text": "Country Name"
         }
        },
        "yaxis": {
         "anchor": "x",
         "domain": [
          0,
          1
         ],
         "title": {
          "text": "Average Population Density (people per sq. km)"
         }
        }
       }
      }
     },
     "metadata": {},
     "output_type": "display_data"
    }
   ],
   "source": [
    "#generate interactive summary visualizations that demonstrate your answer\n",
    "\n",
    "# Prepare the data for visualization\n",
    "top_country = 'Macao SAR, China'\n",
    "top_country_data = gapminder_df[gapminder_df['Country Name'] == top_country]\n",
    "\n",
    "# Create an interactive line plot for population density over the years for the top country\n",
    "Population_Density_fig_line = px.line(\n",
    "    top_country_data,\n",
    "    x='Year',\n",
    "    y='Population density (people per sq. km of land area)',\n",
    "    title=f'Population Density Over Years: {top_country}',\n",
    "    labels={'Population density (people per sq. km of land area)': 'Population Density (people per sq. km)'}\n",
    ")\n",
    "\n",
    "# Create an interactive bar plot for average population density of the top country compared to others\n",
    "avg_density_top_countries = average_population_density.sort_values(ascending=False).head(10).reset_index()\n",
    "Population_Density_fig_bar = px.bar(\n",
    "    avg_density_top_countries,\n",
    "    x='Country Name',\n",
    "    y='Population density (people per sq. km of land area)',\n",
    "    title='Top 10 Countries by Average Population Density',\n",
    "    labels={'Population density (people per sq. km of land area)': 'Average Population Density (people per sq. km)'}\n",
    ")\n",
    "\n",
    "# Save the plots as HTML files\n",
    "Population_Density_line_plot_path = r'C:\\Users\\abdoj\\OneDrive - UGent\\Desktop\\summer\\skill-assessments\\Python for Data Science\\Population_Density_Line_Plot.html'\n",
    "Population_Density_bar_plot_path = r'C:\\Users\\abdoj\\OneDrive - UGent\\Desktop\\summer\\skill-assessments\\Python for Data Science\\Population_Density_Bar_Plot.html'\n",
    "\n",
    "Population_Density_fig_line.write_html(Population_Density_line_plot_path)\n",
    "Population_Density_fig_bar.write_html(Population_Density_bar_plot_path)\n",
    "\n",
    "Population_Density_line_plot_path, Population_Density_bar_plot_path\n",
    "\n",
    "\n",
    "Population_Density_fig_line.show()\n",
    "Population_Density_fig_bar.show()\n"
   ]
  },
  {
   "cell_type": "markdown",
   "metadata": {},
   "source": [
    "**describe your reasoning for the statistical tests you chose to use**\n",
    "\n",
    "### Reasoning for Choosing the Analysis Method\n",
    "\n",
    "The research question is: What is the country (or countries) that has the highest 'Population density (people per sq. km of land area)' across all years?\n",
    "\n",
    "### Steps for Choosing the Analysis Method:\n",
    "\n",
    "1. **Identify the Variables:**\n",
    "   - Variable of Interest: `Population density (people per sq. km of land area)` (quantitative)\n",
    "   - Grouping Variable: `Country Name` (categorical)\n",
    "\n",
    "2. **Determine the Nature of the Variables:**\n",
    "   - The variable `Population density (people per sq. km of land area)` is quantitative because it represents continuous measurements.\n",
    "   - The variable `Country Name` is categorical because it represents distinct groups (countries).\n",
    "\n",
    "### Analysis Method:\n",
    "- **Calculate the Mean**: For each country, calculate the mean population density across all available years. This will provide a single average value of population density for each country.\n",
    "- **Identify the Maximum**: Find the country (or countries) with the highest average population density.\n",
    "\n",
    "### Statistical Considerations:\n",
    "- **Descriptive Statistics**: Since the goal is to identify the country with the highest average population density, descriptive statistics (specifically, the mean) are appropriate.\n",
    "- **Comparison Across Groups**: We compare the average population densities of different countries to determine which has the highest value.\n",
    "\n",
    "### Visualizations:\n",
    "- **Line Plot**: To show the population density trends over the years for the top country. This helps to understand how the population density has changed over time.\n",
    "- **Bar Plot**: To compare the average population density of the top country with other countries. This helps to visualize how the top country stands relative to others in terms of average population density.\n",
    "\n",
    "### Summary:\n",
    "1. **Calculate the Average**: The average population density for each country was calculated across all years.\n",
    "2. **Identify the Top Country**: Macao SAR, China was identified as the country with the highest average population density.\n",
    "3. **Visualizations**: Interactive line and bar plots were created to illustrate the trends and comparisons.\n",
    "\n",
    "### Reasoning:\n",
    "The analysis focused on descriptive statistics to identify the country with the highest average population density. Given the nature of the research question, this approach is appropriate for summarizing and comparing the population densities of different countries over time. The visualizations further help in understanding the trends and making comparisons."
   ]
  },
  {
   "cell_type": "code",
   "execution_count": 73,
   "metadata": {},
   "outputs": [
    {
     "data": {
      "text/plain": [
       "(36.916146341499996,\n",
       "     Country Name  Life Expectancy 1962  Life Expectancy 2007  \\\n",
       " 149     Maldives             38.483561             75.399707   \n",
       " \n",
       "      Increase in Life Expectancy  \n",
       " 149                    36.916146  )"
      ]
     },
     "execution_count": 73,
     "metadata": {},
     "output_type": "execute_result"
    }
   ],
   "source": [
    "# 4. What country (or countries) has shown the greatest increase in\n",
    "# `'Life expectancy at birth, total (years)'` between 1962 and 2007? \n",
    "\n",
    "# Filter data for the years 1962 and 2007\n",
    "data_1962 = gapminder_df[gapminder_df['Year'] == 1962][['Country Name', 'Life expectancy at birth, total (years)']]\n",
    "data_2007 = gapminder_df[gapminder_df['Year'] == 2007][['Country Name', 'Life expectancy at birth, total (years)']]\n",
    "\n",
    "# Rename columns for merging\n",
    "data_1962 = data_1962.rename(columns={'Life expectancy at birth, total (years)': 'Life Expectancy 1962'})\n",
    "data_2007 = data_2007.rename(columns={'Life expectancy at birth, total (years)': 'Life Expectancy 2007'})\n",
    "\n",
    "# Merge data on 'Country Name'\n",
    "merged_data = pd.merge(data_1962, data_2007, on='Country Name', how='inner')\n",
    "\n",
    "# Calculate the increase in life expectancy\n",
    "merged_data['Increase in Life Expectancy'] = merged_data['Life Expectancy 2007'] - merged_data['Life Expectancy 1962']\n",
    "\n",
    "# Identify the country (or countries) with the greatest increase\n",
    "max_increase = merged_data['Increase in Life Expectancy'].max()\n",
    "countries_with_max_increase = merged_data[merged_data['Increase in Life Expectancy'] == max_increase]\n",
    "\n",
    "max_increase, countries_with_max_increase"
   ]
  },
  {
   "cell_type": "markdown",
   "metadata": {},
   "source": [
    "The country with the greatest increase in 'Life expectancy at birth, total (years)' between 1962 and 2007 is the Maldives, with an increase of approximately 36.92 years."
   ]
  },
  {
   "cell_type": "code",
   "execution_count": 74,
   "metadata": {},
   "outputs": [
    {
     "data": {
      "application/vnd.plotly.v1+json": {
       "config": {
        "plotlyServerURL": "https://plot.ly"
       },
       "data": [
        {
         "hovertemplate": "Year=%{x}<br>Life Expectancy (years)=%{y}<extra></extra>",
         "legendgroup": "",
         "line": {
          "color": "#636efa",
          "dash": "solid"
         },
         "marker": {
          "symbol": "circle"
         },
         "mode": "lines",
         "name": "",
         "orientation": "v",
         "showlegend": false,
         "type": "scatter",
         "x": [
          1962,
          1967,
          1972,
          1977,
          1982,
          1987,
          1992,
          1997,
          2002,
          2007
         ],
         "xaxis": "x",
         "y": [
          38.4835609756,
          41.9146829268,
          45.7361463415,
          50.1271219512,
          54.8977317073,
          58.9744390244,
          63.0932926829,
          67.2780487805,
          71.929195122,
          75.3997073171
         ],
         "yaxis": "y"
        }
       ],
       "layout": {
        "legend": {
         "tracegroupgap": 0
        },
        "template": {
         "data": {
          "bar": [
           {
            "error_x": {
             "color": "#2a3f5f"
            },
            "error_y": {
             "color": "#2a3f5f"
            },
            "marker": {
             "line": {
              "color": "#E5ECF6",
              "width": 0.5
             },
             "pattern": {
              "fillmode": "overlay",
              "size": 10,
              "solidity": 0.2
             }
            },
            "type": "bar"
           }
          ],
          "barpolar": [
           {
            "marker": {
             "line": {
              "color": "#E5ECF6",
              "width": 0.5
             },
             "pattern": {
              "fillmode": "overlay",
              "size": 10,
              "solidity": 0.2
             }
            },
            "type": "barpolar"
           }
          ],
          "carpet": [
           {
            "aaxis": {
             "endlinecolor": "#2a3f5f",
             "gridcolor": "white",
             "linecolor": "white",
             "minorgridcolor": "white",
             "startlinecolor": "#2a3f5f"
            },
            "baxis": {
             "endlinecolor": "#2a3f5f",
             "gridcolor": "white",
             "linecolor": "white",
             "minorgridcolor": "white",
             "startlinecolor": "#2a3f5f"
            },
            "type": "carpet"
           }
          ],
          "choropleth": [
           {
            "colorbar": {
             "outlinewidth": 0,
             "ticks": ""
            },
            "type": "choropleth"
           }
          ],
          "contour": [
           {
            "colorbar": {
             "outlinewidth": 0,
             "ticks": ""
            },
            "colorscale": [
             [
              0,
              "#0d0887"
             ],
             [
              0.1111111111111111,
              "#46039f"
             ],
             [
              0.2222222222222222,
              "#7201a8"
             ],
             [
              0.3333333333333333,
              "#9c179e"
             ],
             [
              0.4444444444444444,
              "#bd3786"
             ],
             [
              0.5555555555555556,
              "#d8576b"
             ],
             [
              0.6666666666666666,
              "#ed7953"
             ],
             [
              0.7777777777777778,
              "#fb9f3a"
             ],
             [
              0.8888888888888888,
              "#fdca26"
             ],
             [
              1,
              "#f0f921"
             ]
            ],
            "type": "contour"
           }
          ],
          "contourcarpet": [
           {
            "colorbar": {
             "outlinewidth": 0,
             "ticks": ""
            },
            "type": "contourcarpet"
           }
          ],
          "heatmap": [
           {
            "colorbar": {
             "outlinewidth": 0,
             "ticks": ""
            },
            "colorscale": [
             [
              0,
              "#0d0887"
             ],
             [
              0.1111111111111111,
              "#46039f"
             ],
             [
              0.2222222222222222,
              "#7201a8"
             ],
             [
              0.3333333333333333,
              "#9c179e"
             ],
             [
              0.4444444444444444,
              "#bd3786"
             ],
             [
              0.5555555555555556,
              "#d8576b"
             ],
             [
              0.6666666666666666,
              "#ed7953"
             ],
             [
              0.7777777777777778,
              "#fb9f3a"
             ],
             [
              0.8888888888888888,
              "#fdca26"
             ],
             [
              1,
              "#f0f921"
             ]
            ],
            "type": "heatmap"
           }
          ],
          "heatmapgl": [
           {
            "colorbar": {
             "outlinewidth": 0,
             "ticks": ""
            },
            "colorscale": [
             [
              0,
              "#0d0887"
             ],
             [
              0.1111111111111111,
              "#46039f"
             ],
             [
              0.2222222222222222,
              "#7201a8"
             ],
             [
              0.3333333333333333,
              "#9c179e"
             ],
             [
              0.4444444444444444,
              "#bd3786"
             ],
             [
              0.5555555555555556,
              "#d8576b"
             ],
             [
              0.6666666666666666,
              "#ed7953"
             ],
             [
              0.7777777777777778,
              "#fb9f3a"
             ],
             [
              0.8888888888888888,
              "#fdca26"
             ],
             [
              1,
              "#f0f921"
             ]
            ],
            "type": "heatmapgl"
           }
          ],
          "histogram": [
           {
            "marker": {
             "pattern": {
              "fillmode": "overlay",
              "size": 10,
              "solidity": 0.2
             }
            },
            "type": "histogram"
           }
          ],
          "histogram2d": [
           {
            "colorbar": {
             "outlinewidth": 0,
             "ticks": ""
            },
            "colorscale": [
             [
              0,
              "#0d0887"
             ],
             [
              0.1111111111111111,
              "#46039f"
             ],
             [
              0.2222222222222222,
              "#7201a8"
             ],
             [
              0.3333333333333333,
              "#9c179e"
             ],
             [
              0.4444444444444444,
              "#bd3786"
             ],
             [
              0.5555555555555556,
              "#d8576b"
             ],
             [
              0.6666666666666666,
              "#ed7953"
             ],
             [
              0.7777777777777778,
              "#fb9f3a"
             ],
             [
              0.8888888888888888,
              "#fdca26"
             ],
             [
              1,
              "#f0f921"
             ]
            ],
            "type": "histogram2d"
           }
          ],
          "histogram2dcontour": [
           {
            "colorbar": {
             "outlinewidth": 0,
             "ticks": ""
            },
            "colorscale": [
             [
              0,
              "#0d0887"
             ],
             [
              0.1111111111111111,
              "#46039f"
             ],
             [
              0.2222222222222222,
              "#7201a8"
             ],
             [
              0.3333333333333333,
              "#9c179e"
             ],
             [
              0.4444444444444444,
              "#bd3786"
             ],
             [
              0.5555555555555556,
              "#d8576b"
             ],
             [
              0.6666666666666666,
              "#ed7953"
             ],
             [
              0.7777777777777778,
              "#fb9f3a"
             ],
             [
              0.8888888888888888,
              "#fdca26"
             ],
             [
              1,
              "#f0f921"
             ]
            ],
            "type": "histogram2dcontour"
           }
          ],
          "mesh3d": [
           {
            "colorbar": {
             "outlinewidth": 0,
             "ticks": ""
            },
            "type": "mesh3d"
           }
          ],
          "parcoords": [
           {
            "line": {
             "colorbar": {
              "outlinewidth": 0,
              "ticks": ""
             }
            },
            "type": "parcoords"
           }
          ],
          "pie": [
           {
            "automargin": true,
            "type": "pie"
           }
          ],
          "scatter": [
           {
            "fillpattern": {
             "fillmode": "overlay",
             "size": 10,
             "solidity": 0.2
            },
            "type": "scatter"
           }
          ],
          "scatter3d": [
           {
            "line": {
             "colorbar": {
              "outlinewidth": 0,
              "ticks": ""
             }
            },
            "marker": {
             "colorbar": {
              "outlinewidth": 0,
              "ticks": ""
             }
            },
            "type": "scatter3d"
           }
          ],
          "scattercarpet": [
           {
            "marker": {
             "colorbar": {
              "outlinewidth": 0,
              "ticks": ""
             }
            },
            "type": "scattercarpet"
           }
          ],
          "scattergeo": [
           {
            "marker": {
             "colorbar": {
              "outlinewidth": 0,
              "ticks": ""
             }
            },
            "type": "scattergeo"
           }
          ],
          "scattergl": [
           {
            "marker": {
             "colorbar": {
              "outlinewidth": 0,
              "ticks": ""
             }
            },
            "type": "scattergl"
           }
          ],
          "scattermapbox": [
           {
            "marker": {
             "colorbar": {
              "outlinewidth": 0,
              "ticks": ""
             }
            },
            "type": "scattermapbox"
           }
          ],
          "scatterpolar": [
           {
            "marker": {
             "colorbar": {
              "outlinewidth": 0,
              "ticks": ""
             }
            },
            "type": "scatterpolar"
           }
          ],
          "scatterpolargl": [
           {
            "marker": {
             "colorbar": {
              "outlinewidth": 0,
              "ticks": ""
             }
            },
            "type": "scatterpolargl"
           }
          ],
          "scatterternary": [
           {
            "marker": {
             "colorbar": {
              "outlinewidth": 0,
              "ticks": ""
             }
            },
            "type": "scatterternary"
           }
          ],
          "surface": [
           {
            "colorbar": {
             "outlinewidth": 0,
             "ticks": ""
            },
            "colorscale": [
             [
              0,
              "#0d0887"
             ],
             [
              0.1111111111111111,
              "#46039f"
             ],
             [
              0.2222222222222222,
              "#7201a8"
             ],
             [
              0.3333333333333333,
              "#9c179e"
             ],
             [
              0.4444444444444444,
              "#bd3786"
             ],
             [
              0.5555555555555556,
              "#d8576b"
             ],
             [
              0.6666666666666666,
              "#ed7953"
             ],
             [
              0.7777777777777778,
              "#fb9f3a"
             ],
             [
              0.8888888888888888,
              "#fdca26"
             ],
             [
              1,
              "#f0f921"
             ]
            ],
            "type": "surface"
           }
          ],
          "table": [
           {
            "cells": {
             "fill": {
              "color": "#EBF0F8"
             },
             "line": {
              "color": "white"
             }
            },
            "header": {
             "fill": {
              "color": "#C8D4E3"
             },
             "line": {
              "color": "white"
             }
            },
            "type": "table"
           }
          ]
         },
         "layout": {
          "annotationdefaults": {
           "arrowcolor": "#2a3f5f",
           "arrowhead": 0,
           "arrowwidth": 1
          },
          "autotypenumbers": "strict",
          "coloraxis": {
           "colorbar": {
            "outlinewidth": 0,
            "ticks": ""
           }
          },
          "colorscale": {
           "diverging": [
            [
             0,
             "#8e0152"
            ],
            [
             0.1,
             "#c51b7d"
            ],
            [
             0.2,
             "#de77ae"
            ],
            [
             0.3,
             "#f1b6da"
            ],
            [
             0.4,
             "#fde0ef"
            ],
            [
             0.5,
             "#f7f7f7"
            ],
            [
             0.6,
             "#e6f5d0"
            ],
            [
             0.7,
             "#b8e186"
            ],
            [
             0.8,
             "#7fbc41"
            ],
            [
             0.9,
             "#4d9221"
            ],
            [
             1,
             "#276419"
            ]
           ],
           "sequential": [
            [
             0,
             "#0d0887"
            ],
            [
             0.1111111111111111,
             "#46039f"
            ],
            [
             0.2222222222222222,
             "#7201a8"
            ],
            [
             0.3333333333333333,
             "#9c179e"
            ],
            [
             0.4444444444444444,
             "#bd3786"
            ],
            [
             0.5555555555555556,
             "#d8576b"
            ],
            [
             0.6666666666666666,
             "#ed7953"
            ],
            [
             0.7777777777777778,
             "#fb9f3a"
            ],
            [
             0.8888888888888888,
             "#fdca26"
            ],
            [
             1,
             "#f0f921"
            ]
           ],
           "sequentialminus": [
            [
             0,
             "#0d0887"
            ],
            [
             0.1111111111111111,
             "#46039f"
            ],
            [
             0.2222222222222222,
             "#7201a8"
            ],
            [
             0.3333333333333333,
             "#9c179e"
            ],
            [
             0.4444444444444444,
             "#bd3786"
            ],
            [
             0.5555555555555556,
             "#d8576b"
            ],
            [
             0.6666666666666666,
             "#ed7953"
            ],
            [
             0.7777777777777778,
             "#fb9f3a"
            ],
            [
             0.8888888888888888,
             "#fdca26"
            ],
            [
             1,
             "#f0f921"
            ]
           ]
          },
          "colorway": [
           "#636efa",
           "#EF553B",
           "#00cc96",
           "#ab63fa",
           "#FFA15A",
           "#19d3f3",
           "#FF6692",
           "#B6E880",
           "#FF97FF",
           "#FECB52"
          ],
          "font": {
           "color": "#2a3f5f"
          },
          "geo": {
           "bgcolor": "white",
           "lakecolor": "white",
           "landcolor": "#E5ECF6",
           "showlakes": true,
           "showland": true,
           "subunitcolor": "white"
          },
          "hoverlabel": {
           "align": "left"
          },
          "hovermode": "closest",
          "mapbox": {
           "style": "light"
          },
          "paper_bgcolor": "white",
          "plot_bgcolor": "#E5ECF6",
          "polar": {
           "angularaxis": {
            "gridcolor": "white",
            "linecolor": "white",
            "ticks": ""
           },
           "bgcolor": "#E5ECF6",
           "radialaxis": {
            "gridcolor": "white",
            "linecolor": "white",
            "ticks": ""
           }
          },
          "scene": {
           "xaxis": {
            "backgroundcolor": "#E5ECF6",
            "gridcolor": "white",
            "gridwidth": 2,
            "linecolor": "white",
            "showbackground": true,
            "ticks": "",
            "zerolinecolor": "white"
           },
           "yaxis": {
            "backgroundcolor": "#E5ECF6",
            "gridcolor": "white",
            "gridwidth": 2,
            "linecolor": "white",
            "showbackground": true,
            "ticks": "",
            "zerolinecolor": "white"
           },
           "zaxis": {
            "backgroundcolor": "#E5ECF6",
            "gridcolor": "white",
            "gridwidth": 2,
            "linecolor": "white",
            "showbackground": true,
            "ticks": "",
            "zerolinecolor": "white"
           }
          },
          "shapedefaults": {
           "line": {
            "color": "#2a3f5f"
           }
          },
          "ternary": {
           "aaxis": {
            "gridcolor": "white",
            "linecolor": "white",
            "ticks": ""
           },
           "baxis": {
            "gridcolor": "white",
            "linecolor": "white",
            "ticks": ""
           },
           "bgcolor": "#E5ECF6",
           "caxis": {
            "gridcolor": "white",
            "linecolor": "white",
            "ticks": ""
           }
          },
          "title": {
           "x": 0.05
          },
          "xaxis": {
           "automargin": true,
           "gridcolor": "white",
           "linecolor": "white",
           "ticks": "",
           "title": {
            "standoff": 15
           },
           "zerolinecolor": "white",
           "zerolinewidth": 2
          },
          "yaxis": {
           "automargin": true,
           "gridcolor": "white",
           "linecolor": "white",
           "ticks": "",
           "title": {
            "standoff": 15
           },
           "zerolinecolor": "white",
           "zerolinewidth": 2
          }
         }
        },
        "title": {
         "text": "Life Expectancy Over Years: Maldives"
        },
        "xaxis": {
         "anchor": "y",
         "domain": [
          0,
          1
         ],
         "title": {
          "text": "Year"
         }
        },
        "yaxis": {
         "anchor": "x",
         "domain": [
          0,
          1
         ],
         "title": {
          "text": "Life Expectancy (years)"
         }
        }
       }
      }
     },
     "metadata": {},
     "output_type": "display_data"
    },
    {
     "data": {
      "application/vnd.plotly.v1+json": {
       "config": {
        "plotlyServerURL": "https://plot.ly"
       },
       "data": [
        {
         "alignmentgroup": "True",
         "hovertemplate": "Country Name=%{x}<br>Increase in Life Expectancy (years)=%{y}<extra></extra>",
         "legendgroup": "",
         "marker": {
          "color": "#636efa",
          "pattern": {
           "shape": ""
          }
         },
         "name": "",
         "offsetgroup": "",
         "orientation": "v",
         "showlegend": false,
         "textposition": "auto",
         "type": "bar",
         "x": [
          "Maldives",
          "Bhutan",
          "Timor-Leste",
          "Tunisia",
          "Oman",
          "Nepal",
          "China",
          "Yemen, Rep.",
          "Saudi Arabia",
          "Iran, Islamic Rep."
         ],
         "xaxis": "x",
         "y": [
          36.916146341499996,
          33.19895121950001,
          31.085146341499993,
          30.860756097599996,
          30.823097560999983,
          30.5996341464,
          29.942097560999997,
          27.215243902399997,
          26.650560975599987,
          26.608390244
         ],
         "yaxis": "y"
        }
       ],
       "layout": {
        "barmode": "relative",
        "legend": {
         "tracegroupgap": 0
        },
        "template": {
         "data": {
          "bar": [
           {
            "error_x": {
             "color": "#2a3f5f"
            },
            "error_y": {
             "color": "#2a3f5f"
            },
            "marker": {
             "line": {
              "color": "#E5ECF6",
              "width": 0.5
             },
             "pattern": {
              "fillmode": "overlay",
              "size": 10,
              "solidity": 0.2
             }
            },
            "type": "bar"
           }
          ],
          "barpolar": [
           {
            "marker": {
             "line": {
              "color": "#E5ECF6",
              "width": 0.5
             },
             "pattern": {
              "fillmode": "overlay",
              "size": 10,
              "solidity": 0.2
             }
            },
            "type": "barpolar"
           }
          ],
          "carpet": [
           {
            "aaxis": {
             "endlinecolor": "#2a3f5f",
             "gridcolor": "white",
             "linecolor": "white",
             "minorgridcolor": "white",
             "startlinecolor": "#2a3f5f"
            },
            "baxis": {
             "endlinecolor": "#2a3f5f",
             "gridcolor": "white",
             "linecolor": "white",
             "minorgridcolor": "white",
             "startlinecolor": "#2a3f5f"
            },
            "type": "carpet"
           }
          ],
          "choropleth": [
           {
            "colorbar": {
             "outlinewidth": 0,
             "ticks": ""
            },
            "type": "choropleth"
           }
          ],
          "contour": [
           {
            "colorbar": {
             "outlinewidth": 0,
             "ticks": ""
            },
            "colorscale": [
             [
              0,
              "#0d0887"
             ],
             [
              0.1111111111111111,
              "#46039f"
             ],
             [
              0.2222222222222222,
              "#7201a8"
             ],
             [
              0.3333333333333333,
              "#9c179e"
             ],
             [
              0.4444444444444444,
              "#bd3786"
             ],
             [
              0.5555555555555556,
              "#d8576b"
             ],
             [
              0.6666666666666666,
              "#ed7953"
             ],
             [
              0.7777777777777778,
              "#fb9f3a"
             ],
             [
              0.8888888888888888,
              "#fdca26"
             ],
             [
              1,
              "#f0f921"
             ]
            ],
            "type": "contour"
           }
          ],
          "contourcarpet": [
           {
            "colorbar": {
             "outlinewidth": 0,
             "ticks": ""
            },
            "type": "contourcarpet"
           }
          ],
          "heatmap": [
           {
            "colorbar": {
             "outlinewidth": 0,
             "ticks": ""
            },
            "colorscale": [
             [
              0,
              "#0d0887"
             ],
             [
              0.1111111111111111,
              "#46039f"
             ],
             [
              0.2222222222222222,
              "#7201a8"
             ],
             [
              0.3333333333333333,
              "#9c179e"
             ],
             [
              0.4444444444444444,
              "#bd3786"
             ],
             [
              0.5555555555555556,
              "#d8576b"
             ],
             [
              0.6666666666666666,
              "#ed7953"
             ],
             [
              0.7777777777777778,
              "#fb9f3a"
             ],
             [
              0.8888888888888888,
              "#fdca26"
             ],
             [
              1,
              "#f0f921"
             ]
            ],
            "type": "heatmap"
           }
          ],
          "heatmapgl": [
           {
            "colorbar": {
             "outlinewidth": 0,
             "ticks": ""
            },
            "colorscale": [
             [
              0,
              "#0d0887"
             ],
             [
              0.1111111111111111,
              "#46039f"
             ],
             [
              0.2222222222222222,
              "#7201a8"
             ],
             [
              0.3333333333333333,
              "#9c179e"
             ],
             [
              0.4444444444444444,
              "#bd3786"
             ],
             [
              0.5555555555555556,
              "#d8576b"
             ],
             [
              0.6666666666666666,
              "#ed7953"
             ],
             [
              0.7777777777777778,
              "#fb9f3a"
             ],
             [
              0.8888888888888888,
              "#fdca26"
             ],
             [
              1,
              "#f0f921"
             ]
            ],
            "type": "heatmapgl"
           }
          ],
          "histogram": [
           {
            "marker": {
             "pattern": {
              "fillmode": "overlay",
              "size": 10,
              "solidity": 0.2
             }
            },
            "type": "histogram"
           }
          ],
          "histogram2d": [
           {
            "colorbar": {
             "outlinewidth": 0,
             "ticks": ""
            },
            "colorscale": [
             [
              0,
              "#0d0887"
             ],
             [
              0.1111111111111111,
              "#46039f"
             ],
             [
              0.2222222222222222,
              "#7201a8"
             ],
             [
              0.3333333333333333,
              "#9c179e"
             ],
             [
              0.4444444444444444,
              "#bd3786"
             ],
             [
              0.5555555555555556,
              "#d8576b"
             ],
             [
              0.6666666666666666,
              "#ed7953"
             ],
             [
              0.7777777777777778,
              "#fb9f3a"
             ],
             [
              0.8888888888888888,
              "#fdca26"
             ],
             [
              1,
              "#f0f921"
             ]
            ],
            "type": "histogram2d"
           }
          ],
          "histogram2dcontour": [
           {
            "colorbar": {
             "outlinewidth": 0,
             "ticks": ""
            },
            "colorscale": [
             [
              0,
              "#0d0887"
             ],
             [
              0.1111111111111111,
              "#46039f"
             ],
             [
              0.2222222222222222,
              "#7201a8"
             ],
             [
              0.3333333333333333,
              "#9c179e"
             ],
             [
              0.4444444444444444,
              "#bd3786"
             ],
             [
              0.5555555555555556,
              "#d8576b"
             ],
             [
              0.6666666666666666,
              "#ed7953"
             ],
             [
              0.7777777777777778,
              "#fb9f3a"
             ],
             [
              0.8888888888888888,
              "#fdca26"
             ],
             [
              1,
              "#f0f921"
             ]
            ],
            "type": "histogram2dcontour"
           }
          ],
          "mesh3d": [
           {
            "colorbar": {
             "outlinewidth": 0,
             "ticks": ""
            },
            "type": "mesh3d"
           }
          ],
          "parcoords": [
           {
            "line": {
             "colorbar": {
              "outlinewidth": 0,
              "ticks": ""
             }
            },
            "type": "parcoords"
           }
          ],
          "pie": [
           {
            "automargin": true,
            "type": "pie"
           }
          ],
          "scatter": [
           {
            "fillpattern": {
             "fillmode": "overlay",
             "size": 10,
             "solidity": 0.2
            },
            "type": "scatter"
           }
          ],
          "scatter3d": [
           {
            "line": {
             "colorbar": {
              "outlinewidth": 0,
              "ticks": ""
             }
            },
            "marker": {
             "colorbar": {
              "outlinewidth": 0,
              "ticks": ""
             }
            },
            "type": "scatter3d"
           }
          ],
          "scattercarpet": [
           {
            "marker": {
             "colorbar": {
              "outlinewidth": 0,
              "ticks": ""
             }
            },
            "type": "scattercarpet"
           }
          ],
          "scattergeo": [
           {
            "marker": {
             "colorbar": {
              "outlinewidth": 0,
              "ticks": ""
             }
            },
            "type": "scattergeo"
           }
          ],
          "scattergl": [
           {
            "marker": {
             "colorbar": {
              "outlinewidth": 0,
              "ticks": ""
             }
            },
            "type": "scattergl"
           }
          ],
          "scattermapbox": [
           {
            "marker": {
             "colorbar": {
              "outlinewidth": 0,
              "ticks": ""
             }
            },
            "type": "scattermapbox"
           }
          ],
          "scatterpolar": [
           {
            "marker": {
             "colorbar": {
              "outlinewidth": 0,
              "ticks": ""
             }
            },
            "type": "scatterpolar"
           }
          ],
          "scatterpolargl": [
           {
            "marker": {
             "colorbar": {
              "outlinewidth": 0,
              "ticks": ""
             }
            },
            "type": "scatterpolargl"
           }
          ],
          "scatterternary": [
           {
            "marker": {
             "colorbar": {
              "outlinewidth": 0,
              "ticks": ""
             }
            },
            "type": "scatterternary"
           }
          ],
          "surface": [
           {
            "colorbar": {
             "outlinewidth": 0,
             "ticks": ""
            },
            "colorscale": [
             [
              0,
              "#0d0887"
             ],
             [
              0.1111111111111111,
              "#46039f"
             ],
             [
              0.2222222222222222,
              "#7201a8"
             ],
             [
              0.3333333333333333,
              "#9c179e"
             ],
             [
              0.4444444444444444,
              "#bd3786"
             ],
             [
              0.5555555555555556,
              "#d8576b"
             ],
             [
              0.6666666666666666,
              "#ed7953"
             ],
             [
              0.7777777777777778,
              "#fb9f3a"
             ],
             [
              0.8888888888888888,
              "#fdca26"
             ],
             [
              1,
              "#f0f921"
             ]
            ],
            "type": "surface"
           }
          ],
          "table": [
           {
            "cells": {
             "fill": {
              "color": "#EBF0F8"
             },
             "line": {
              "color": "white"
             }
            },
            "header": {
             "fill": {
              "color": "#C8D4E3"
             },
             "line": {
              "color": "white"
             }
            },
            "type": "table"
           }
          ]
         },
         "layout": {
          "annotationdefaults": {
           "arrowcolor": "#2a3f5f",
           "arrowhead": 0,
           "arrowwidth": 1
          },
          "autotypenumbers": "strict",
          "coloraxis": {
           "colorbar": {
            "outlinewidth": 0,
            "ticks": ""
           }
          },
          "colorscale": {
           "diverging": [
            [
             0,
             "#8e0152"
            ],
            [
             0.1,
             "#c51b7d"
            ],
            [
             0.2,
             "#de77ae"
            ],
            [
             0.3,
             "#f1b6da"
            ],
            [
             0.4,
             "#fde0ef"
            ],
            [
             0.5,
             "#f7f7f7"
            ],
            [
             0.6,
             "#e6f5d0"
            ],
            [
             0.7,
             "#b8e186"
            ],
            [
             0.8,
             "#7fbc41"
            ],
            [
             0.9,
             "#4d9221"
            ],
            [
             1,
             "#276419"
            ]
           ],
           "sequential": [
            [
             0,
             "#0d0887"
            ],
            [
             0.1111111111111111,
             "#46039f"
            ],
            [
             0.2222222222222222,
             "#7201a8"
            ],
            [
             0.3333333333333333,
             "#9c179e"
            ],
            [
             0.4444444444444444,
             "#bd3786"
            ],
            [
             0.5555555555555556,
             "#d8576b"
            ],
            [
             0.6666666666666666,
             "#ed7953"
            ],
            [
             0.7777777777777778,
             "#fb9f3a"
            ],
            [
             0.8888888888888888,
             "#fdca26"
            ],
            [
             1,
             "#f0f921"
            ]
           ],
           "sequentialminus": [
            [
             0,
             "#0d0887"
            ],
            [
             0.1111111111111111,
             "#46039f"
            ],
            [
             0.2222222222222222,
             "#7201a8"
            ],
            [
             0.3333333333333333,
             "#9c179e"
            ],
            [
             0.4444444444444444,
             "#bd3786"
            ],
            [
             0.5555555555555556,
             "#d8576b"
            ],
            [
             0.6666666666666666,
             "#ed7953"
            ],
            [
             0.7777777777777778,
             "#fb9f3a"
            ],
            [
             0.8888888888888888,
             "#fdca26"
            ],
            [
             1,
             "#f0f921"
            ]
           ]
          },
          "colorway": [
           "#636efa",
           "#EF553B",
           "#00cc96",
           "#ab63fa",
           "#FFA15A",
           "#19d3f3",
           "#FF6692",
           "#B6E880",
           "#FF97FF",
           "#FECB52"
          ],
          "font": {
           "color": "#2a3f5f"
          },
          "geo": {
           "bgcolor": "white",
           "lakecolor": "white",
           "landcolor": "#E5ECF6",
           "showlakes": true,
           "showland": true,
           "subunitcolor": "white"
          },
          "hoverlabel": {
           "align": "left"
          },
          "hovermode": "closest",
          "mapbox": {
           "style": "light"
          },
          "paper_bgcolor": "white",
          "plot_bgcolor": "#E5ECF6",
          "polar": {
           "angularaxis": {
            "gridcolor": "white",
            "linecolor": "white",
            "ticks": ""
           },
           "bgcolor": "#E5ECF6",
           "radialaxis": {
            "gridcolor": "white",
            "linecolor": "white",
            "ticks": ""
           }
          },
          "scene": {
           "xaxis": {
            "backgroundcolor": "#E5ECF6",
            "gridcolor": "white",
            "gridwidth": 2,
            "linecolor": "white",
            "showbackground": true,
            "ticks": "",
            "zerolinecolor": "white"
           },
           "yaxis": {
            "backgroundcolor": "#E5ECF6",
            "gridcolor": "white",
            "gridwidth": 2,
            "linecolor": "white",
            "showbackground": true,
            "ticks": "",
            "zerolinecolor": "white"
           },
           "zaxis": {
            "backgroundcolor": "#E5ECF6",
            "gridcolor": "white",
            "gridwidth": 2,
            "linecolor": "white",
            "showbackground": true,
            "ticks": "",
            "zerolinecolor": "white"
           }
          },
          "shapedefaults": {
           "line": {
            "color": "#2a3f5f"
           }
          },
          "ternary": {
           "aaxis": {
            "gridcolor": "white",
            "linecolor": "white",
            "ticks": ""
           },
           "baxis": {
            "gridcolor": "white",
            "linecolor": "white",
            "ticks": ""
           },
           "bgcolor": "#E5ECF6",
           "caxis": {
            "gridcolor": "white",
            "linecolor": "white",
            "ticks": ""
           }
          },
          "title": {
           "x": 0.05
          },
          "xaxis": {
           "automargin": true,
           "gridcolor": "white",
           "linecolor": "white",
           "ticks": "",
           "title": {
            "standoff": 15
           },
           "zerolinecolor": "white",
           "zerolinewidth": 2
          },
          "yaxis": {
           "automargin": true,
           "gridcolor": "white",
           "linecolor": "white",
           "ticks": "",
           "title": {
            "standoff": 15
           },
           "zerolinecolor": "white",
           "zerolinewidth": 2
          }
         }
        },
        "title": {
         "text": "Top 10 Countries by Increase in Life Expectancy (1962-2007)"
        },
        "xaxis": {
         "anchor": "y",
         "domain": [
          0,
          1
         ],
         "title": {
          "text": "Country Name"
         }
        },
        "yaxis": {
         "anchor": "x",
         "domain": [
          0,
          1
         ],
         "title": {
          "text": "Increase in Life Expectancy (years)"
         }
        }
       }
      }
     },
     "metadata": {},
     "output_type": "display_data"
    }
   ],
   "source": [
    "#generate interactive summary visualizations that demonstrate your answer\n",
    "\n",
    "# Prepare the data for visualization\n",
    "top_country = 'Maldives'\n",
    "top_country_data = gapminder_df[gapminder_df['Country Name'] == top_country][['Year', 'Life expectancy at birth, total (years)']]\n",
    "\n",
    "# Create an interactive line plot for life expectancy over the years for the top country\n",
    "Life_Expectancy_fig_line = px.line(\n",
    "    top_country_data,\n",
    "    x='Year',\n",
    "    y='Life expectancy at birth, total (years)',\n",
    "    title=f'Life Expectancy Over Years: {top_country}',\n",
    "    labels={'Life expectancy at birth, total (years)': 'Life Expectancy (years)'}\n",
    ")\n",
    "\n",
    "# Create a bar plot for the top 10 countries with the highest increase in life expectancy\n",
    "top_countries_by_increase = merged_data.sort_values(by='Increase in Life Expectancy', ascending=False).head(10).reset_index(drop=True)\n",
    "Life_Expectancy_fig_bar = px.bar(\n",
    "    top_countries_by_increase,\n",
    "    x='Country Name',\n",
    "    y='Increase in Life Expectancy',\n",
    "    title='Top 10 Countries by Increase in Life Expectancy (1962-2007)',\n",
    "    labels={'Increase in Life Expectancy': 'Increase in Life Expectancy (years)'}\n",
    ")\n",
    "\n",
    "# Save the plots as HTML files\n",
    "Life_Expectancy_line_plot_path = r'C:\\Users\\abdoj\\OneDrive - UGent\\Desktop\\summer\\skill-assessments\\Python for Data Science\\Life_Expectancy_Line_Plot.html'\n",
    "Life_Expectancy_bar_plot_path = r'C:\\Users\\abdoj\\OneDrive - UGent\\Desktop\\summer\\skill-assessments\\Python for Data Science\\Life_Expectancy_Bar_Plot.html'\n",
    "\n",
    "Life_Expectancy_fig_line.write_html(Life_Expectancy_line_plot_path)\n",
    "Life_Expectancy_fig_bar.write_html(Life_Expectancy_bar_plot_path)\n",
    "\n",
    "Life_Expectancy_line_plot_path, Life_Expectancy_bar_plot_path\n",
    "\n",
    "\n",
    "Life_Expectancy_fig_line.show()\n",
    "Life_Expectancy_fig_bar.show()\n"
   ]
  },
  {
   "cell_type": "markdown",
   "metadata": {},
   "source": [
    "**describe your reasoning for the statistical tests you chose to use**\n",
    "\n",
    "### Reasoning for Choosing the Analysis Method\n",
    "\n",
    "The research question is: What country (or countries) has shown the greatest increase in 'Life expectancy at birth, total (years)' between 1962 and 2007?\n",
    "\n",
    "### Steps for Choosing the Analysis Method:\n",
    "\n",
    "1. **Identify the Variables:**\n",
    "   - Variables of Interest: `Life expectancy at birth, total (years)` for the years 1962 and 2007.\n",
    "   - Grouping Variable: `Country Name` (categorical)\n",
    "\n",
    "2. **Determine the Nature of the Variables:**\n",
    "   - The variable `Life expectancy at birth, total (years)` is quantitative because it represents continuous measurements.\n",
    "   - The variable `Country Name` is categorical because it represents distinct groups (countries).\n",
    "\n",
    "### Analysis Method:\n",
    "- **Calculate the Difference**: For each country, calculate the difference in life expectancy between 2007 and 1962. This will provide the increase (or decrease) in life expectancy for each country.\n",
    "- **Identify the Maximum Increase**: Find the country (or countries) with the greatest increase in life expectancy.\n",
    "\n",
    "### Statistical Considerations:\n",
    "- **Descriptive Statistics**: Since the goal is to identify the country with the greatest increase in life expectancy, descriptive statistics (specifically, calculating the difference and identifying the maximum) are appropriate.\n",
    "- **Comparison Across Time Points**: We compare the life expectancy of each country at two distinct time points (1962 and 2007) to determine the increase.\n",
    "\n",
    "### Visualizations:\n",
    "- **Line Plot**: To show the trend in life expectancy over the years for the country with the greatest increase. This helps to understand how the life expectancy has changed over time.\n",
    "- **Bar Plot**: To compare the increase in life expectancy for the top countries. This helps to visualize how the increase in life expectancy varies across different countries.\n",
    "\n",
    "### Summary:\n",
    "1. **Filter Data**: Extract life expectancy data for the years 1962 and 2007.\n",
    "2. **Calculate the Increase**: Compute the increase in life expectancy for each country by subtracting the 1962 value from the 2007 value.\n",
    "3. **Identify the Top Country**: The Maldives was identified as the country with the greatest increase in life expectancy.\n",
    "4. **Visualizations**: Interactive line and bar plots were created to illustrate the trends and comparisons.\n",
    "\n",
    "### Reasoning:\n",
    "The analysis focused on descriptive statistics to identify the country with the greatest increase in life expectancy. Given the nature of the research question, this approach is appropriate for summarizing and comparing the changes in life expectancy of different countries over time. The visualizations further help in understanding the trends and making comparisons."
   ]
  }
 ],
 "metadata": {
  "kernelspec": {
   "display_name": "base",
   "language": "python",
   "name": "python3"
  },
  "language_info": {
   "codemirror_mode": {
    "name": "ipython",
    "version": 3
   },
   "file_extension": ".py",
   "mimetype": "text/x-python",
   "name": "python",
   "nbconvert_exporter": "python",
   "pygments_lexer": "ipython3",
   "version": "3.11.3"
  }
 },
 "nbformat": 4,
 "nbformat_minor": 2
}
